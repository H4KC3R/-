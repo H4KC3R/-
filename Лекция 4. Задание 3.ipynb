{
 "cells": [
  {
   "cell_type": "code",
   "execution_count": 1,
   "id": "fe91ba9b",
   "metadata": {},
   "outputs": [],
   "source": [
    "import sympy as sym\n",
    "from sympy import Symbol, symbols, exp, sin, cos, series, Function, init_printing\n",
    "from sympy import Derivative, diff, Eq, simplify, collect, expand, pi, integrate\n",
    "init_printing()"
   ]
  },
  {
   "cell_type": "markdown",
   "id": "b21f8c3f",
   "metadata": {},
   "source": [
    "Рассмотрите уравнение осциллятора $\\ddot{x}+\\Pi^{\\prime}(x)=\\beta \\dot{x}^2$ \n",
    "в поле с потенциалом $\\Pi(x)$ при наличии квадратичной диссипация с начальными условиями \n",
    "$x(0)=x_0+\\varepsilon, \\dot{x}(0)=0$, где $x_0$ — положение равновесия.\n",
    "\n",
    "Методом осреднения получите поправку первого порядка к частоте\n",
    "колебаний вблизи положения равновесия для потенциалов:\n",
    "\n",
    "4) Морса $\\Pi(x)=(1 - e^{-\\alpha x})^2$, $\\alpha>0$"
   ]
  },
  {
   "cell_type": "code",
   "execution_count": 2,
   "id": "41edda44",
   "metadata": {},
   "outputs": [
    {
     "data": {
      "image/png": "[encoded data removed]",
      "text/latex": [
       "$\\displaystyle \\left(1 - e^{- \\alpha x{\\left(t \\right)}}\\right)^{2}$"
      ],
      "text/plain": [
       "              2\n",
       "⎛     -α⋅x(t)⎞ \n",
       "⎝1 - ℯ       ⎠ "
      ]
     },
     "execution_count": 2,
     "metadata": {},
     "output_type": "execute_result"
    }
   ],
   "source": [
    "t=Symbol('t',real = True)\n",
    "alpha = Symbol('alpha',real = True)\n",
    "alpha1 = Symbol('alpha1',real = True)\n",
    "beta = Symbol('beta',real = True)\n",
    "\n",
    "x=Function('x')\n",
    "r=Symbol(\"r\",real=True)\n",
    "phi=Symbol(\"varphi\",real=True)\n",
    "X = Symbol('x', real= True)\n",
    "\n",
    "#потенциал Морса\n",
    "potential = (1 - exp(-alpha*x(t)))**2\n",
    "potential"
   ]
  },
  {
   "cell_type": "code",
   "execution_count": 3,
   "id": "390f809f",
   "metadata": {},
   "outputs": [
    {
     "data": {
      "image/png": "[encoded data removed]",
      "text/latex": [
       "$\\displaystyle \\left[ 0\\right]$"
      ],
      "text/plain": [
       "[0]"
      ]
     },
     "execution_count": 3,
     "metadata": {},
     "output_type": "execute_result"
    }
   ],
   "source": [
    "sym.solve(sym.diff(potential, x(t)), x(t))"
   ]
  },
  {
   "cell_type": "markdown",
   "id": "3ab2a622",
   "metadata": {},
   "source": [
    "начальные условия $x(0)=\\varepsilon, \\dot{x}(0)=0$, где $x_0 = 0$ — положение равновесия."
   ]
  },
  {
   "cell_type": "code",
   "execution_count": 4,
   "id": "7a1ae89e",
   "metadata": {},
   "outputs": [
    {
     "data": {
      "image/png": "[encoded data removed]",
      "text/latex": [
       "$\\displaystyle \\left( - \\alpha^{3} x^{3}{\\left(t \\right)} + \\alpha^{2} x^{2}{\\left(t \\right)}, \\  3 \\alpha^{3} x^{2}{\\left(t \\right)} + \\beta \\left(\\frac{d}{d t} x{\\left(t \\right)}\\right)^{2}\\right)$"
      ],
      "text/plain": [
       "⎛                                                2⎞\n",
       "⎜   3  3       2  2        3  2        ⎛d       ⎞ ⎟\n",
       "⎜- α ⋅x (t) + α ⋅x (t), 3⋅α ⋅x (t) + β⋅⎜──(x(t))⎟ ⎟\n",
       "⎝                                      ⎝dt      ⎠ ⎠"
      ]
     },
     "execution_count": 4,
     "metadata": {},
     "output_type": "execute_result"
    }
   ],
   "source": [
    "potential_x0 = sym.series(potential.subs(x(t), X), X, x0=0, n=4).removeO().subs(X, x(t))\n",
    "\n",
    "# Возмущение в уравнении\n",
    "f=beta*Derivative(x(t), t)**2 + 3*alpha**3*x(t)**2\n",
    "\n",
    "potential_x0, f"
   ]
  },
  {
   "cell_type": "code",
   "execution_count": 5,
   "id": "d5a7f47e",
   "metadata": {},
   "outputs": [
    {
     "data": {
      "image/png": "[encoded data removed]",
      "text/latex": [
       "$\\displaystyle - 3 \\alpha^{3} x^{2}{\\left(t \\right)} + 2 \\alpha^{2} x{\\left(t \\right)} - \\beta \\left(\\frac{d}{d t} x{\\left(t \\right)}\\right)^{2} + \\frac{d^{2}}{d t^{2}} x{\\left(t \\right)}$"
      ],
      "text/plain": [
       "                                       2     2      \n",
       "     3  2         2          ⎛d       ⎞     d       \n",
       "- 3⋅α ⋅x (t) + 2⋅α ⋅x(t) - β⋅⎜──(x(t))⎟  + ───(x(t))\n",
       "                             ⎝dt      ⎠      2      \n",
       "                                           dt       "
      ]
     },
     "execution_count": 5,
     "metadata": {},
     "output_type": "execute_result"
    }
   ],
   "source": [
    "eq = Derivative(x(t), t, t) + sym.diff(potential_x0, x(t)) - beta * Derivative(x(t), t)**2\n",
    "eq"
   ]
  },
  {
   "cell_type": "markdown",
   "id": "981e6db6",
   "metadata": {},
   "source": [
    "Приведем данное уравнение к виду: \n",
    "$\\ddot x+\\omega_0^2x=\\varepsilon f\\left(x,\\dot x\\right)$\n",
    "\n",
    "чтобы с помощью замены : $x=r\\cos\\varphi,\\quad \\dot x=-\\omega_0r\\sin\\varphi$, перейти у системе\n",
    "\n",
    "$\\dot r=-\\frac\\varepsilon{\\omega_0} f \\sin\\varphi,\\\\\n",
    "\\dot\\varphi= \\omega_0-\\frac\\varepsilon{\\omega_0} \\frac fr\\cos\\varphi.$\n",
    "\n",
    "для это сделаем замену $\\sqrt{2} \\alpha = \\alpha_1$"
   ]
  },
  {
   "cell_type": "code",
   "execution_count": 6,
   "id": "db699db5",
   "metadata": {},
   "outputs": [
    {
     "data": {
      "image/png": "[encoded data removed]",
      "text/latex": [
       "$\\displaystyle \\left( - \\frac{\\beta \\left(\\frac{3 \\sqrt{2} \\alpha_{1}^{3} r^{2} \\cos^{2}{\\left(\\varphi \\right)}}{4} + \\alpha_{1}^{2} \\beta r^{2} \\sin^{2}{\\left(\\varphi \\right)}\\right) \\sin{\\left(\\varphi \\right)}}{\\alpha_{1}}, \\  \\alpha_{1} - \\frac{\\beta \\left(\\frac{3 \\sqrt{2} \\alpha_{1}^{3} r^{2} \\cos^{2}{\\left(\\varphi \\right)}}{4} + \\alpha_{1}^{2} \\beta r^{2} \\sin^{2}{\\left(\\varphi \\right)}\\right) \\cos{\\left(\\varphi \\right)}}{\\alpha_{1} r}\\right)$"
      ],
      "text/plain": [
       "⎛   ⎛       3  2    2                                ⎞                      ⎛ \n",
       "⎜   ⎜3⋅√2⋅α₁ ⋅r ⋅cos (varphi)     2    2    2        ⎟                      ⎜3\n",
       "⎜-β⋅⎜──────────────────────── + α₁ ⋅β⋅r ⋅sin (varphi)⎟⋅sin(varphi)        β⋅⎜─\n",
       "⎜   ⎝           4                                    ⎠                      ⎝ \n",
       "⎜──────────────────────────────────────────────────────────────────, α₁ - ────\n",
       "⎝                                α₁                                           \n",
       "\n",
       "      3  2    2                                ⎞            ⎞\n",
       "⋅√2⋅α₁ ⋅r ⋅cos (varphi)     2    2    2        ⎟            ⎟\n",
       "─────────────────────── + α₁ ⋅β⋅r ⋅sin (varphi)⎟⋅cos(varphi)⎟\n",
       "          4                                    ⎠            ⎟\n",
       "────────────────────────────────────────────────────────────⎟\n",
       "                          α₁⋅r                              ⎠"
      ]
     },
     "execution_count": 6,
     "metadata": {},
     "output_type": "execute_result"
    }
   ],
   "source": [
    "eq = eq.subs([(2 * alpha**2, alpha1**2), (alpha**3, alpha1**3/(2*sym.sqrt(2)))])\n",
    "f = f.subs(alpha**3, alpha1**3/(2*sym.sqrt(2)))\n",
    "# Подстановка по формуле (2)\n",
    "Subsphase={x(t):r*cos(phi),Derivative(x(t),t):-r*alpha1*sin(phi)}\n",
    "f_rphi = f.subs(Subsphase)\n",
    "Eq_r=-beta/alpha1*f_rphi*sin(phi)\n",
    "Eq_phi=alpha1 - beta/alpha1*cos(phi)*f_rphi/r\n",
    "Eq_r,Eq_phi"
   ]
  },
  {
   "cell_type": "code",
   "execution_count": 7,
   "id": "48340d67",
   "metadata": {},
   "outputs": [
    {
     "data": {
      "image/png": "[encoded data removed]",
      "text/latex": [
       "$\\displaystyle \\left( 0, \\  0\\right)$"
      ],
      "text/plain": [
       "(0, 0)"
      ]
     },
     "execution_count": 7,
     "metadata": {},
     "output_type": "execute_result"
    }
   ],
   "source": [
    "# Вычисляем усреднение для r и phi\n",
    "integrate(1/(2*pi)*Eq_r.coeff(beta,1),(phi,0,2*pi)),\\\n",
    "integrate(1/(2*pi)*Eq_phi.coeff(beta,1),(phi,0,2*pi))"
   ]
  },
  {
   "cell_type": "markdown",
   "id": "3267b436",
   "metadata": {},
   "source": [
    "Первое усреднение даёт нулевые поправки, поэтому будем искать поправки следующих порядков, используя обобщённый метод усреднения.Значит следует искать поправки следующих порядков"
   ]
  },
  {
   "cell_type": "code",
   "execution_count": 8,
   "id": "077bdd95",
   "metadata": {},
   "outputs": [],
   "source": [
    "Nexpand=3\n",
    "a=Function(\"a\")\n",
    "A=Symbol(\"a\")\n",
    "psi=Function(\"psi\")\n",
    "Psi=Symbol(\"psi\")\n",
    "alst=[Function(f'a{i}') for i in range(1,Nexpand)]\n",
    "psilst=[Function(f'psi{i}') for i in range(1,Nexpand)]\n",
    "Alst=[Function(f'A{i}') for i in range(1,Nexpand)]\n",
    "Blst=[Function(f'B{i}') for i in range(1,Nexpand)]"
   ]
  },
  {
   "cell_type": "code",
   "execution_count": 9,
   "id": "6d9eae82",
   "metadata": {},
   "outputs": [],
   "source": [
    "# Определяем подстановки\n",
    "Subs_r = a(t) + sum([beta**i*alst[i-1](a(t),psi(t)) for i in range(1,Nexpand)])\n",
    "Subs_phi=psi(t)+sum([beta**i*psilst[i-1](a(t),psi(t)) for i in range(1,Nexpand)])\n",
    "Subs_dota=sum([beta**i*Alst[i-1](a(t)) for i in range(1,Nexpand)])\n",
    "Subs_dotpsi=alpha1+sum([beta**i*Blst[i-1](a(t)) for i in range(1,Nexpand)])"
   ]
  },
  {
   "cell_type": "code",
   "execution_count": 10,
   "id": "fbb4eb59",
   "metadata": {},
   "outputs": [],
   "source": [
    "# Получаем разложение левых частей уравнений\n",
    "Subs_derivative={Derivative(a(t),t):Subs_dota,\n",
    "                 Derivative(psi(t),t):Subs_dotpsi}\n",
    "\n",
    "lhs_dotr=collect(series(Subs_r.diff(t).subs(Subs_derivative).expand(),beta,0,Nexpand).removeO(),beta)\n",
    "lhs_dotphi=collect(series(Subs_phi.diff(t).subs(Subs_derivative).expand(),beta,0,Nexpand).removeO(),beta)"
   ]
  },
  {
   "cell_type": "code",
   "execution_count": 11,
   "id": "c1287f49",
   "metadata": {},
   "outputs": [],
   "source": [
    "# Получаем разложение правых частей уравнений\n",
    "Subs_rphi={r:Subs_r,phi:Subs_phi}\n",
    "rhs_dotr=collect(series(Eq_r.subs(Subs_rphi),beta,0,Nexpand).removeO(),beta)\n",
    "rhs_dotphi=collect(series(Eq_phi.subs(Subs_rphi),beta,0,Nexpand).removeO(),beta)"
   ]
  },
  {
   "cell_type": "code",
   "execution_count": 12,
   "id": "751ef2c0",
   "metadata": {},
   "outputs": [
    {
     "data": {
      "image/png": "[encoded data removed]",
      "text/latex": [
       "$\\displaystyle \\left( \\alpha_{1} \\frac{\\partial}{\\partial \\psi} \\operatorname{a_{1}}{\\left(a,\\psi \\right)} + \\operatorname{A_{1}}{\\left(a \\right)} = - \\frac{3 \\sqrt{2} a^{2} \\alpha_{1}^{2} \\sin{\\left(\\psi \\right)} \\cos^{2}{\\left(\\psi \\right)}}{4}, \\  \\alpha_{1} \\frac{\\partial}{\\partial \\psi} \\psi_{1}{\\left(a,\\psi \\right)} + \\operatorname{B_{1}}{\\left(a \\right)} = - \\frac{3 \\sqrt{2} a \\alpha_{1}^{2} \\cos^{3}{\\left(\\psi \\right)}}{4}\\right)$"
      ],
      "text/plain": [
       "⎛                                 2   2           2                           \n",
       "⎜   ∂                      -3⋅√2⋅a ⋅α₁ ⋅sin(ψ)⋅cos (ψ)      ∂                 \n",
       "⎜α₁⋅──(a₁(a, ψ)) + A₁(a) = ────────────────────────────, α₁⋅──(ψ₁(a, ψ)) + B₁(\n",
       "⎝   ∂ψ                                  4                   ∂ψ                \n",
       "\n",
       "               2    3    ⎞\n",
       "     -3⋅√2⋅a⋅α₁ ⋅cos (ψ) ⎟\n",
       "a) = ────────────────────⎟\n",
       "              4          ⎠"
      ]
     },
     "execution_count": 12,
     "metadata": {},
     "output_type": "execute_result"
    }
   ],
   "source": [
    "# Уравнения первого порядка\n",
    "Subs_apsi={a(t):A,psi(t):Psi}\n",
    "FO_r=Eq(lhs_dotr.coeff(beta,1),rhs_dotr.coeff(beta,1)).subs(Subs_apsi)\n",
    "FO_phi=Eq(lhs_dotphi.coeff(beta,1),rhs_dotphi.coeff(beta,1)).subs(Subs_apsi)\n",
    "FO_r,FO_phi"
   ]
  },
  {
   "cell_type": "code",
   "execution_count": 13,
   "id": "dadb0736",
   "metadata": {},
   "outputs": [
    {
     "data": {
      "image/png": "[encoded data removed]",
      "text/latex": [
       "$\\displaystyle \\left\\{ \\operatorname{A_{1}}{\\left(a \\right)} : 0, \\  \\operatorname{B_{1}}{\\left(a \\right)} : 0\\right\\}$"
      ],
      "text/plain": [
       "{A₁(a): 0, B₁(a): 0}"
      ]
     },
     "execution_count": 13,
     "metadata": {},
     "output_type": "execute_result"
    }
   ],
   "source": [
    "SubsAB=dict(zip([Alst[0](A),Blst[0](A)],\\\n",
    "                 [integrate(FO_r.rhs,([Psi,0,2*pi]))/(2*pi),\\\n",
    "                  integrate(FO_phi.rhs,([Psi,0,2*pi]))/(2*pi)]))\n",
    "SubsAB"
   ]
  },
  {
   "cell_type": "code",
   "execution_count": 14,
   "id": "d7ef4e7c",
   "metadata": {},
   "outputs": [
    {
     "data": {
      "image/png": "[encoded data removed]",
      "text/latex": [
       "$\\displaystyle \\left\\{ \\operatorname{a_{1}}{\\left(a,\\psi \\right)} : \\frac{\\sqrt{2} a^{2} \\alpha_{1} \\cos^{3}{\\left(\\psi \\right)}}{4}, \\  \\psi_{1}{\\left(a,\\psi \\right)} : - \\frac{3 \\sqrt{2} a \\alpha_{1} \\left(- \\frac{\\sin^{3}{\\left(\\psi \\right)}}{3} + \\sin{\\left(\\psi \\right)}\\right)}{4}\\right\\}$"
      ],
      "text/plain": [
       "⎧                                                 ⎛     3            ⎞ ⎫\n",
       "⎪                                                 ⎜  sin (ψ)         ⎟ ⎪\n",
       "⎪              2       3               -3⋅√2⋅a⋅α₁⋅⎜- ─────── + sin(ψ)⎟ ⎪\n",
       "⎨          √2⋅a ⋅α₁⋅cos (ψ)                       ⎝     3            ⎠ ⎬\n",
       "⎪a₁(a, ψ): ────────────────, ψ₁(a, ψ): ────────────────────────────────⎪\n",
       "⎪                 4                                   4                ⎪\n",
       "⎩                                                                      ⎭"
      ]
     },
     "execution_count": 14,
     "metadata": {},
     "output_type": "execute_result"
    }
   ],
   "source": [
    "Subsapsi=dict(zip([alst[0](A,Psi),psilst[0](A,Psi)],\\\n",
    "                   [integrate(FO_r.rhs/alpha1,Psi).trigsimp(),\\\n",
    "                    integrate(FO_phi.rhs/alpha1,Psi).trigsimp()]))\n",
    "Subsapsi"
   ]
  },
  {
   "cell_type": "code",
   "execution_count": 15,
   "id": "7eb37fc4",
   "metadata": {},
   "outputs": [
    {
     "data": {
      "image/png": "[encoded data removed]",
      "text/latex": [
       "$\\displaystyle \\left( \\alpha_{1} \\frac{\\partial}{\\partial \\psi} \\operatorname{a_{2}}{\\left(a,\\psi \\right)} + \\operatorname{A_{2}}{\\left(a \\right)} = a^{2} \\alpha_{1} \\left(\\frac{9 a \\alpha_{1}^{2} \\sin^{4}{\\left(\\psi \\right)} \\cos{\\left(\\psi \\right)}}{8} - \\frac{15 a \\alpha_{1}^{2} \\sin^{2}{\\left(\\psi \\right)} \\cos{\\left(\\psi \\right)}}{4} - \\frac{3 a \\alpha_{1}^{2} \\cos^{5}{\\left(\\psi \\right)}}{4} + \\frac{9 a \\alpha_{1}^{2} \\cos{\\left(\\psi \\right)}}{8} - \\sin^{2}{\\left(\\psi \\right)}\\right) \\sin{\\left(\\psi \\right)}, \\  \\alpha_{1} \\frac{\\partial}{\\partial \\psi} \\psi_{2}{\\left(a,\\psi \\right)} + \\operatorname{B_{2}}{\\left(a \\right)} = a \\alpha_{1} \\left(\\frac{3 a \\alpha_{1}^{2} \\cos^{5}{\\left(\\psi \\right)}}{4} + \\frac{9 a \\alpha_{1}^{2} \\cos^{3}{\\left(\\psi \\right)}}{8} - \\frac{9 a \\alpha_{1}^{2} \\cos{\\left(\\psi \\right)}}{4} + \\cos^{2}{\\left(\\psi \\right)} - 1\\right) \\cos{\\left(\\psi \\right)}\\right)$"
      ],
      "text/plain": [
       "⎛                                ⎛      2    4                    2    2      \n",
       "⎜   ∂                       2    ⎜9⋅a⋅α₁ ⋅sin (ψ)⋅cos(ψ)   15⋅a⋅α₁ ⋅sin (ψ)⋅co\n",
       "⎜α₁⋅──(a₂(a, ψ)) + A₂(a) = a ⋅α₁⋅⎜────────────────────── - ───────────────────\n",
       "⎝   ∂ψ                           ⎝          8                         4       \n",
       "\n",
       "             2    5            2                 ⎞                            \n",
       "s(ψ)   3⋅a⋅α₁ ⋅cos (ψ)   9⋅a⋅α₁ ⋅cos(ψ)      2   ⎟            ∂               \n",
       "──── - ─────────────── + ────────────── - sin (ψ)⎟⋅sin(ψ), α₁⋅──(ψ₂(a, ψ)) + B\n",
       "              4                8                 ⎠            ∂ψ              \n",
       "\n",
       "            ⎛      2    5            2    3            2                     ⎞\n",
       "            ⎜3⋅a⋅α₁ ⋅cos (ψ)   9⋅a⋅α₁ ⋅cos (ψ)   9⋅a⋅α₁ ⋅cos(ψ)      2       ⎟\n",
       "₂(a) = a⋅α₁⋅⎜─────────────── + ─────────────── - ────────────── + cos (ψ) - 1⎟\n",
       "            ⎝       4                 8                4                     ⎠\n",
       "\n",
       "       ⎞\n",
       "       ⎟\n",
       "⋅cos(ψ)⎟\n",
       "       ⎠"
      ]
     },
     "execution_count": 15,
     "metadata": {},
     "output_type": "execute_result"
    }
   ],
   "source": [
    "# Уравнения второго порядка\n",
    "SO_r=Eq(lhs_dotr.coeff(beta,2).subs(Subs_apsi).subs(SubsAB),\n",
    "        rhs_dotr.coeff(beta,2).subs(Subs_apsi).subs(Subsapsi).trigsimp())\n",
    "\n",
    "SO_phi=Eq(lhs_dotphi.coeff(beta,2).subs(Subs_apsi).subs(SubsAB),\n",
    "          rhs_dotphi.coeff(beta,2).subs(Subs_apsi).subs(Subsapsi).trigsimp())\n",
    "SO_r,SO_phi"
   ]
  },
  {
   "cell_type": "code",
   "execution_count": 16,
   "id": "14c8e746",
   "metadata": {},
   "outputs": [
    {
     "data": {
      "image/png": "[encoded data removed]",
      "text/latex": [
       "$\\displaystyle \\left\\{ \\operatorname{A_{1}}{\\left(a \\right)} : 0, \\  \\operatorname{A_{2}}{\\left(a \\right)} : 0, \\  \\operatorname{B_{1}}{\\left(a \\right)} : 0, \\  \\operatorname{B_{2}}{\\left(a \\right)} : - \\frac{15 a^{2} \\alpha_{1}^{3}}{32}\\right\\}$"
      ],
      "text/plain": [
       "⎧                                          2   3 ⎫\n",
       "⎪                                     -15⋅a ⋅α₁  ⎪\n",
       "⎨A₁(a): 0, A₂(a): 0, B₁(a): 0, B₂(a): ───────────⎬\n",
       "⎪                                          32    ⎪\n",
       "⎩                                                ⎭"
      ]
     },
     "execution_count": 16,
     "metadata": {},
     "output_type": "execute_result"
    }
   ],
   "source": [
    "SubsAB.update(zip([Alst[1](A),Blst[1](A)],\\\n",
    "                 [integrate(SO_r.rhs,([Psi,0,2*pi]))/(2*pi),\\\n",
    "                  simplify(integrate(SO_phi.rhs,([Psi,0,2*pi]))/(2*pi))]))\n",
    "SubsAB"
   ]
  },
  {
   "cell_type": "code",
   "execution_count": 17,
   "id": "b73d4409",
   "metadata": {},
   "outputs": [
    {
     "data": {
      "image/png": "[encoded data removed]",
      "text/latex": [
       "$\\displaystyle \\left\\{ \\operatorname{a_{1}}{\\left(a,\\psi \\right)} : \\frac{\\sqrt{2} a^{2} \\alpha_{1} \\cos^{3}{\\left(\\psi \\right)}}{4}, \\  \\operatorname{a_{2}}{\\left(a,\\psi \\right)} : \\frac{a^{2} \\left(24 a \\alpha_{1}^{2} \\sin^{6}{\\left(\\psi \\right)} - 216 a \\alpha_{1}^{2} \\sin^{4}{\\left(\\psi \\right)} + 72 a \\alpha_{1}^{2} \\sin^{2}{\\left(\\psi \\right)} + 48 a \\alpha_{1}^{2} + 288 \\cos{\\left(\\psi \\right)} - 32 \\cos{\\left(3 \\psi \\right)}\\right)}{384}, \\  \\psi_{1}{\\left(a,\\psi \\right)} : - \\frac{3 \\sqrt{2} a \\alpha_{1} \\left(- \\frac{\\sin^{3}{\\left(\\psi \\right)}}{3} + \\sin{\\left(\\psi \\right)}\\right)}{4}, \\  \\psi_{2}{\\left(a,\\psi \\right)} : \\frac{a \\left(45 a \\alpha_{1}^{2} \\psi \\sin^{6}{\\left(\\psi \\right)} - 135 a \\alpha_{1}^{2} \\psi \\sin^{4}{\\left(\\psi \\right)} + 135 a \\alpha_{1}^{2} \\psi \\sin^{2}{\\left(\\psi \\right)} + 45 a \\alpha_{1}^{2} \\psi \\cos^{6}{\\left(\\psi \\right)} - 135 a \\alpha_{1}^{2} \\psi - 75 a \\alpha_{1}^{2} \\sin^{5}{\\left(\\psi \\right)} \\cos{\\left(\\psi \\right)} + 66 a \\alpha_{1}^{2} \\sin^{3}{\\left(\\psi \\right)} \\cos{\\left(\\psi \\right)} + 99 a \\alpha_{1}^{2} \\sin{\\left(\\psi \\right)} \\cos^{5}{\\left(\\psi \\right)} - 81 a \\alpha_{1}^{2} \\sin{\\left(\\psi \\right)} \\cos{\\left(\\psi \\right)} - 64 \\sin^{3}{\\left(\\psi \\right)}\\right)}{192}\\right\\}$"
      ],
      "text/plain": [
       "⎧                                                                             \n",
       "⎪                                                                             \n",
       "⎪              2       3                2 ⎛       2    6              2    4  \n",
       "⎨          √2⋅a ⋅α₁⋅cos (ψ)            a ⋅⎝24⋅a⋅α₁ ⋅sin (ψ) - 216⋅a⋅α₁ ⋅sin (ψ\n",
       "⎪a₁(a, ψ): ────────────────, a₂(a, ψ): ───────────────────────────────────────\n",
       "⎪                 4                                                           \n",
       "⎩                                                                             \n",
       "\n",
       "                                                                              \n",
       "                                                                              \n",
       "           2    2             2                           ⎞            -3⋅√2⋅a\n",
       ") + 72⋅a⋅α₁ ⋅sin (ψ) + 48⋅a⋅α₁  + 288⋅cos(ψ) - 32⋅cos(3⋅ψ)⎠                   \n",
       "───────────────────────────────────────────────────────────, ψ₁(a, ψ): ───────\n",
       "        384                                                                   \n",
       "                                                                              \n",
       "\n",
       "    ⎛     3            ⎞                                                      \n",
       "    ⎜  sin (ψ)         ⎟                                                      \n",
       "⋅α₁⋅⎜- ─────── + sin(ψ)⎟               ⎛       2      6              2      4 \n",
       "    ⎝     3            ⎠             a⋅⎝45⋅a⋅α₁ ⋅ψ⋅sin (ψ) - 135⋅a⋅α₁ ⋅ψ⋅sin (\n",
       "─────────────────────────, ψ₂(a, ψ): ─────────────────────────────────────────\n",
       "        4                                                                     \n",
       "                                                                              \n",
       "\n",
       "                                                                              \n",
       "                                                                              \n",
       "             2      2             2      6              2            2    5   \n",
       "ψ) + 135⋅a⋅α₁ ⋅ψ⋅sin (ψ) + 45⋅a⋅α₁ ⋅ψ⋅cos (ψ) - 135⋅a⋅α₁ ⋅ψ - 75⋅a⋅α₁ ⋅sin (ψ)\n",
       "──────────────────────────────────────────────────────────────────────────────\n",
       "                                                                  192         \n",
       "                                                                              \n",
       "\n",
       "                                                                              \n",
       "                                                                              \n",
       "                 2    3                    2           5             2        \n",
       "⋅cos(ψ) + 66⋅a⋅α₁ ⋅sin (ψ)⋅cos(ψ) + 99⋅a⋅α₁ ⋅sin(ψ)⋅cos (ψ) - 81⋅a⋅α₁ ⋅sin(ψ)⋅\n",
       "──────────────────────────────────────────────────────────────────────────────\n",
       "                                                                              \n",
       "                                                                              \n",
       "\n",
       "                    ⎫\n",
       "                    ⎪\n",
       "               3   ⎞⎪\n",
       "cos(ψ) - 64⋅sin (ψ)⎠⎬\n",
       "────────────────────⎪\n",
       "                    ⎪\n",
       "                    ⎭"
      ]
     },
     "execution_count": 17,
     "metadata": {},
     "output_type": "execute_result"
    }
   ],
   "source": [
    "Subsapsi.update(zip([alst[1](A,Psi),psilst[1](A,Psi)],\\\n",
    "                   [integrate(SO_r.rhs/alpha1,Psi).trigsimp(),\\\n",
    "                    integrate(SO_phi.rhs/alpha1,Psi).trigsimp()]))\n",
    "Subsapsi"
   ]
  }
 ],
 "metadata": {
  "kernelspec": {
   "display_name": "Python 3 (ipykernel)",
   "language": "python",
   "name": "python3"
  },
  "language_info": {
   "codemirror_mode": {
    "name": "ipython",
    "version": 3
   },
   "file_extension": ".py",
   "mimetype": "text/x-python",
   "name": "python",
   "nbconvert_exporter": "python",
   "pygments_lexer": "ipython3",
   "version": "3.10.2"
  }
 },
 "nbformat": 4,
 "nbformat_minor": 5
}

{
 "cells": [
  {
   "cell_type": "code",
   "execution_count": 1,
   "id": "f6d7422f",
   "metadata": {},
   "outputs": [],
   "source": [
    "import sympy as sym\n",
    "from sympy import Symbol, exp, series, limit, init_printing, ln\n",
    "init_printing()\n",
    "eps=Symbol('varepsilon')"
   ]
  },
  {
   "cell_type": "markdown",
   "id": "7df1f12d",
   "metadata": {},
   "source": [
    "Нужно проверить является ли следующая последовательность\n",
    "$\\phi_1 = 1, \\phi_2 = \\varepsilon, \\phi_3 = \\varepsilon^2, \\phi_4 = \\varepsilon ln(\\varepsilon), \\phi_5 = \\varepsilon^2 ln(\\varepsilon), \\phi_6 = \\varepsilon ln^2(\\varepsilon), \\phi_7 = \\varepsilon^2 ln^2(\\varepsilon)$ последовательностью калибровачных функций"
   ]
  },
  {
   "cell_type": "markdown",
   "id": "8d30d5ac",
   "metadata": {},
   "source": [
    "Для этого нам требуется проверить: $\\phi_{n+1}(\\varepsilon) = o(\\phi_n(\\varepsilon))\\;при\\;\\varepsilon\\rightarrow+0\\;для\\;любого\\;n.$"
   ]
  },
  {
   "cell_type": "code",
   "execution_count": 2,
   "id": "1d53fc76",
   "metadata": {},
   "outputs": [
    {
     "data": {
      "image/png": "[encoded data removed]",
      "text/latex": [
       "$\\displaystyle \\left[ 1, \\  \\varepsilon, \\  \\varepsilon^{2}, \\  \\varepsilon \\log{\\left(\\varepsilon \\right)}, \\  \\varepsilon^{2} \\log{\\left(\\varepsilon \\right)}, \\  \\varepsilon \\log{\\left(\\varepsilon \\right)}^{2}, \\  \\varepsilon^{2} \\log{\\left(\\varepsilon \\right)}^{2}\\right]$"
      ],
      "text/plain": [
       "⎡                         2                                        2          \n",
       "⎣1, varepsilon, varepsilon , varepsilon⋅log(varepsilon), varepsilon ⋅log(varep\n",
       "\n",
       "                      2                        2    2            ⎤\n",
       "silon), varepsilon⋅log (varepsilon), varepsilon ⋅log (varepsilon)⎦"
      ]
     },
     "execution_count": 2,
     "metadata": {},
     "output_type": "execute_result"
    }
   ],
   "source": [
    "phi = [1, eps, eps**2, eps*ln(eps), eps**2 * ln(eps), eps*ln(eps)**2, eps**2 * ln(eps)**2]\n",
    "phi"
   ]
  },
  {
   "cell_type": "code",
   "execution_count": 3,
   "id": "e7267717",
   "metadata": {},
   "outputs": [
    {
     "name": "stdout",
     "output_type": "stream",
     "text": [
      "varepsilon --> 0\n",
      "varepsilon --> 0\n",
      "log(varepsilon)/varepsilon --> -oo\n",
      "varepsilon --> 0\n",
      "log(varepsilon)/varepsilon --> -oo\n",
      "varepsilon --> 0\n"
     ]
    }
   ],
   "source": [
    "for i in range(0,6):\n",
    "    f = phi[i+1]/phi[i]\n",
    "    print(f, \"-->\", limit(f,eps,0,'+'))"
   ]
  },
  {
   "cell_type": "markdown",
   "id": "b9c27ca2",
   "metadata": {},
   "source": [
    "Последовательность не является последовательностью калибровочных функции. Чтобы сделать эту функциональную последовательность последовательностью калибровачных функцию нужно учесть что x растет и падает быстрее логарифма, что логарифм падает и растет быстрее квадрата логарифма. \n",
    "\n",
    "Т.е $\\varepsilon = o(ln(\\varepsilon))\\;при\\;\\varepsilon\\rightarrow+0.$ \n",
    "\n",
    "$ln(\\varepsilon) = o(ln^2(\\varepsilon))\\;при\\;\\varepsilon\\rightarrow+0.$ и т.д."
   ]
  },
  {
   "cell_type": "code",
   "execution_count": 4,
   "id": "3441c0f7",
   "metadata": {},
   "outputs": [
    {
     "data": {
      "image/png": "[encoded data removed]",
      "text/latex": [
       "$\\displaystyle \\left[ 1, \\  \\varepsilon \\log{\\left(\\varepsilon \\right)}^{2}, \\  \\varepsilon \\log{\\left(\\varepsilon \\right)}, \\  \\varepsilon, \\  \\varepsilon^{2} \\log{\\left(\\varepsilon \\right)}^{2}, \\  \\varepsilon^{2} \\log{\\left(\\varepsilon \\right)}, \\  \\varepsilon^{2}\\right]$"
      ],
      "text/plain": [
       "⎡                 2                                                           \n",
       "⎣1, varepsilon⋅log (varepsilon), varepsilon⋅log(varepsilon), varepsilon, varep\n",
       "\n",
       "     2    2                        2                            2⎤\n",
       "silon ⋅log (varepsilon), varepsilon ⋅log(varepsilon), varepsilon ⎦"
      ]
     },
     "execution_count": 4,
     "metadata": {},
     "output_type": "execute_result"
    }
   ],
   "source": [
    "phi = [1, eps*ln(eps)**2, eps*ln(eps), eps, eps**2 * ln(eps)**2, eps**2 * ln(eps), eps**2]\n",
    "phi"
   ]
  },
  {
   "cell_type": "code",
   "execution_count": 5,
   "id": "d0f61d31",
   "metadata": {},
   "outputs": [
    {
     "name": "stdout",
     "output_type": "stream",
     "text": [
      "varepsilon*log(varepsilon)**2 --> 0\n",
      "1/log(varepsilon) --> 0\n",
      "1/log(varepsilon) --> 0\n",
      "varepsilon*log(varepsilon)**2 --> 0\n",
      "1/log(varepsilon) --> 0\n",
      "1/log(varepsilon) --> 0\n"
     ]
    }
   ],
   "source": [
    "for i in range(0,6):\n",
    "    f = phi[i+1]/phi[i]\n",
    "    print(f, \"-->\", limit(f,eps,0,'+'))"
   ]
  }
 ],
 "metadata": {
  "kernelspec": {
   "display_name": "Python 3 (ipykernel)",
   "language": "python",
   "name": "python3"
  },
  "language_info": {
   "codemirror_mode": {
    "name": "ipython",
    "version": 3
   },
   "file_extension": ".py",
   "mimetype": "text/x-python",
   "name": "python",
   "nbconvert_exporter": "python",
   "pygments_lexer": "ipython3",
   "version": "3.10.2"
  }
 },
 "nbformat": 4,
 "nbformat_minor": 5
}

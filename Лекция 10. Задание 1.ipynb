{
 "cells": [
  {
   "cell_type": "code",
   "execution_count": 1,
   "id": "700b9582",
   "metadata": {},
   "outputs": [],
   "source": [
    "import sympy as sym\n",
    "from sympy import symbols, exp, sin, cos, solve, Function, Eq, dsolve,\\\n",
    "    sqrt, trigsimp, integrate, pi, init_printing, Rational, diff,series\n",
    "init_printing()"
   ]
  },
  {
   "cell_type": "code",
   "execution_count": 2,
   "id": "46f2d11e",
   "metadata": {},
   "outputs": [],
   "source": [
    "q,p = symbols('q p')\n",
    "Q, P = symbols('Q P')\n",
    "k, eps = symbols('k varepsilon')"
   ]
  },
  {
   "cell_type": "code",
   "execution_count": 3,
   "id": "ae8e2862",
   "metadata": {},
   "outputs": [
    {
     "data": {
      "image/png": "[encoded data removed]",
      "text/latex": [
       "$\\displaystyle - k q^{4} \\varepsilon + \\frac{p^{2}}{2} + \\frac{q^{2}}{2}$"
      ],
      "text/plain": [
       "                     2    2\n",
       "     4              p    q \n",
       "- k⋅q ⋅varepsilon + ── + ──\n",
       "                    2    2 "
      ]
     },
     "execution_count": 3,
     "metadata": {},
     "output_type": "execute_result"
    }
   ],
   "source": [
    "H_old = Rational(1, 2)*(p**2 + q**2) - eps * k * q ** 4\n",
    "H_old"
   ]
  },
  {
   "cell_type": "code",
   "execution_count": 4,
   "id": "dac8dc8e",
   "metadata": {},
   "outputs": [
    {
     "data": {
      "image/png": "[encoded data removed]",
      "text/latex": [
       "$\\displaystyle \\frac{3 P Q k^{2} \\varepsilon^{2} \\left(5 P^{2} + 3 Q^{2}\\right)}{16} + \\frac{P k \\varepsilon \\left(2 P^{2} + 3 Q^{2}\\right)}{3}$"
      ],
      "text/plain": [
       "       2           2 ⎛   2      2⎞                  ⎛   2      2⎞\n",
       "3⋅P⋅Q⋅k ⋅varepsilon ⋅⎝5⋅P  + 3⋅Q ⎠   P⋅k⋅varepsilon⋅⎝2⋅P  + 3⋅Q ⎠\n",
       "────────────────────────────────── + ────────────────────────────\n",
       "                16                                3              "
      ]
     },
     "execution_count": 4,
     "metadata": {},
     "output_type": "execute_result"
    }
   ],
   "source": [
    "G1 = Rational(1, 3) * k * P * (2 * P**2 + 3 * Q**2)\n",
    "G2 = Rational(3, 16) * k**2 * P * Q * (5 * P**2 + 3 * Q **2)\n",
    "G = eps * G1 + eps**2 * G2\n",
    "G"
   ]
  },
  {
   "cell_type": "code",
   "execution_count": 5,
   "id": "87de9989",
   "metadata": {},
   "outputs": [],
   "source": [
    "def Poisson(x, y):\n",
    "    a = diff(x, Q) * diff(y, P)\n",
    "    b = diff(x, P) * diff(y, Q)\n",
    "    return a - b"
   ]
  },
  {
   "cell_type": "code",
   "execution_count": 6,
   "id": "068a1b29",
   "metadata": {},
   "outputs": [
    {
     "data": {
      "image/png": "[encoded data removed]",
      "text/latex": [
       "$\\displaystyle \\varepsilon^{2} \\left(\\frac{45 P^{2} Q k^{2}}{16} + \\frac{9 Q^{3} k^{2}}{16}\\right) + \\varepsilon \\left(2 P^{2} k + Q^{2} k\\right)$"
      ],
      "text/plain": [
       "            ⎛    2    2      3  2⎞                             \n",
       "          2 ⎜45⋅P ⋅Q⋅k    9⋅Q ⋅k ⎟              ⎛   2      2  ⎞\n",
       "varepsilon ⋅⎜────────── + ───────⎟ + varepsilon⋅⎝2⋅P ⋅k + Q ⋅k⎠\n",
       "            ⎝    16          16  ⎠                             "
      ]
     },
     "execution_count": 6,
     "metadata": {},
     "output_type": "execute_result"
    }
   ],
   "source": [
    "a1 = Poisson(Q, G)\n",
    "a1 = series(a1,eps,0,3).removeO()\n",
    "a1"
   ]
  },
  {
   "cell_type": "code",
   "execution_count": 7,
   "id": "38a99357",
   "metadata": {},
   "outputs": [
    {
     "data": {
      "image/png": "[encoded data removed]",
      "text/latex": [
       "$\\displaystyle - 2 P Q k \\varepsilon + \\varepsilon^{2} \\left(- \\frac{15 P^{3} k^{2}}{16} - \\frac{27 P Q^{2} k^{2}}{16}\\right)$"
      ],
      "text/plain": [
       "                                  ⎛      3  2         2  2⎞\n",
       "                                2 ⎜  15⋅P ⋅k    27⋅P⋅Q ⋅k ⎟\n",
       "-2⋅P⋅Q⋅k⋅varepsilon + varepsilon ⋅⎜- ──────── - ──────────⎟\n",
       "                                  ⎝     16          16    ⎠"
      ]
     },
     "execution_count": 7,
     "metadata": {},
     "output_type": "execute_result"
    }
   ],
   "source": [
    "b1 = Poisson(P, G)\n",
    "b1 = series(b1,eps,0,3).removeO()\n",
    "b1"
   ]
  },
  {
   "cell_type": "code",
   "execution_count": 8,
   "id": "26a5b7ae",
   "metadata": {},
   "outputs": [
    {
     "data": {
      "image/png": "[encoded data removed]",
      "text/latex": [
       "$\\displaystyle \\frac{P^{2}}{2} + \\frac{Q^{2}}{2} + \\varepsilon^{2} \\left(\\frac{P^{2} \\left(- \\frac{15 P^{2} k^{2}}{8} + \\frac{5 Q^{2} k^{2}}{8}\\right)}{2} - Q^{4} k \\left(\\frac{8 P^{2} k}{Q} + 4 Q k\\right) + \\frac{Q^{2} \\left(\\frac{45 P^{2} k^{2}}{8} + \\frac{9 Q^{2} k^{2}}{8} + \\left(\\frac{2 P^{2} k}{Q} + Q k\\right)^{2}\\right)}{2}\\right) + \\varepsilon \\left(- 2 P^{2} Q k - Q^{4} k + \\frac{Q^{2} \\left(\\frac{4 P^{2} k}{Q} + 2 Q k\\right)}{2}\\right)$"
      ],
      "text/plain": [
       "                      ⎛                                                       \n",
       "                      ⎜   ⎛      2  2      2  2⎞                              \n",
       "                      ⎜ 2 ⎜  15⋅P ⋅k    5⋅Q ⋅k ⎟                            2 \n",
       " 2    2               ⎜P ⋅⎜- ──────── + ───────⎟        ⎛   2          ⎞   Q ⋅\n",
       "P    Q              2 ⎜   ⎝     8          8   ⎠    4   ⎜8⋅P ⋅k        ⎟      \n",
       "── + ── + varepsilon ⋅⎜───────────────────────── - Q ⋅k⋅⎜────── + 4⋅Q⋅k⎟ + ───\n",
       "2    2                ⎝            2                    ⎝  Q           ⎠      \n",
       "\n",
       "⎛                                   2⎞⎞                                       \n",
       "⎜    2  2      2  2   ⎛   2        ⎞ ⎟⎟              ⎛                       ⎛\n",
       "⎜45⋅P ⋅k    9⋅Q ⋅k    ⎜2⋅P ⋅k      ⎟ ⎟⎟              ⎜                     2 ⎜\n",
       "⎜──────── + ─────── + ⎜────── + Q⋅k⎟ ⎟⎟              ⎜                    Q ⋅⎜\n",
       "⎝   8          8      ⎝  Q         ⎠ ⎠⎟              ⎜     2        4        ⎝\n",
       "──────────────────────────────────────⎟ + varepsilon⋅⎜- 2⋅P ⋅Q⋅k - Q ⋅k + ────\n",
       "                 2                    ⎠              ⎝                        \n",
       "\n",
       "                \n",
       "   2          ⎞⎞\n",
       "4⋅P ⋅k        ⎟⎟\n",
       "────── + 2⋅Q⋅k⎟⎟\n",
       "  Q           ⎠⎟\n",
       "───────────────⎟\n",
       "     2         ⎠"
      ]
     },
     "execution_count": 8,
     "metadata": {},
     "output_type": "execute_result"
    }
   ],
   "source": [
    "q_subs = Q + a1\n",
    "p_subs = P + b1\n",
    "H_subs = H_old.subs([(q, q_subs), (p, p_subs)])\n",
    "H_subs = series(H_subs,eps,0,3).removeO()\n",
    "H_subs"
   ]
  },
  {
   "cell_type": "code",
   "execution_count": 9,
   "id": "73318ea6",
   "metadata": {},
   "outputs": [
    {
     "data": {
      "image/png": "[encoded data removed]",
      "text/latex": [
       "$\\displaystyle \\frac{P^{2}}{2} + \\frac{Q^{2}}{2} + \\varepsilon \\left(- 2 P^{2} Q k - Q^{4} k + Q^{3} k + \\frac{Q^{2} \\left(\\frac{4 P^{2} k}{Q} + 2 Q k\\right)}{2}\\right)$"
      ],
      "text/plain": [
       "                     ⎛                              ⎛   2          ⎞⎞\n",
       "                     ⎜                            2 ⎜4⋅P ⋅k        ⎟⎟\n",
       " 2    2              ⎜                           Q ⋅⎜────── + 2⋅Q⋅k⎟⎟\n",
       "P    Q               ⎜     2        4      3        ⎝  Q           ⎠⎟\n",
       "── + ── + varepsilon⋅⎜- 2⋅P ⋅Q⋅k - Q ⋅k + Q ⋅k + ───────────────────⎟\n",
       "2    2               ⎝                                    2         ⎠"
      ]
     },
     "execution_count": 9,
     "metadata": {},
     "output_type": "execute_result"
    }
   ],
   "source": [
    "H_new = H_subs + Poisson(H_subs, G)\n",
    "H_new = series(H_new,eps,0,2).removeO()\n",
    "H_new"
   ]
  },
  {
   "cell_type": "code",
   "execution_count": 10,
   "id": "49833c1b",
   "metadata": {},
   "outputs": [
    {
     "data": {
      "image/png": "[encoded data removed]",
      "text/latex": [
       "$\\displaystyle \\frac{P^{2}}{2} - Q^{3} k \\varepsilon \\left(Q - 2\\right) + \\frac{Q^{2}}{2}$"
      ],
      "text/plain": [
       " 2                              2\n",
       "P     3                        Q \n",
       "── - Q ⋅k⋅varepsilon⋅(Q - 2) + ──\n",
       "2                              2 "
      ]
     },
     "execution_count": 10,
     "metadata": {},
     "output_type": "execute_result"
    }
   ],
   "source": [
    "H_new.simplify()"
   ]
  }
 ],
 "metadata": {
  "kernelspec": {
   "display_name": "Python 3 (ipykernel)",
   "language": "python",
   "name": "python3"
  },
  "language_info": {
   "codemirror_mode": {
    "name": "ipython",
    "version": 3
   },
   "file_extension": ".py",
   "mimetype": "text/x-python",
   "name": "python",
   "nbconvert_exporter": "python",
   "pygments_lexer": "ipython3",
   "version": "3.10.2"
  }
 },
 "nbformat": 4,
 "nbformat_minor": 5
}

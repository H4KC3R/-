{
 "cells": [
  {
   "cell_type": "code",
   "execution_count": 1,
   "id": "700b9582",
   "metadata": {},
   "outputs": [],
   "source": [
    "import sympy as sym\n",
    "from sympy import symbols, exp, sin, cos, solve, Function, Eq, dsolve,\\\n",
    "    sqrt, trigsimp, integrate, pi, init_printing, Rational, diff,series\n",
    "import warnings\n",
    "warnings.filterwarnings('ignore')\n",
    "init_printing()"
   ]
  },
  {
   "cell_type": "code",
   "execution_count": 2,
   "id": "46f2d11e",
   "metadata": {},
   "outputs": [],
   "source": [
    "q,p = symbols('q p')\n",
    "Q, P = symbols('Q P')\n",
    "k, eps = symbols('k varepsilon')"
   ]
  },
  {
   "cell_type": "code",
   "execution_count": 3,
   "id": "ae8e2862",
   "metadata": {},
   "outputs": [
    {
     "data": {
      "image/png": "[encoded data removed]",
      "text/latex": [
       "$\\displaystyle - k q^{4} \\varepsilon + \\frac{p^{2}}{2} + \\frac{q^{2}}{2}$"
      ],
      "text/plain": [
       "                     2    2\n",
       "     4              p    q \n",
       "- k⋅q ⋅varepsilon + ── + ──\n",
       "                    2    2 "
      ]
     },
     "execution_count": 3,
     "metadata": {},
     "output_type": "execute_result"
    }
   ],
   "source": [
    "H_old = Rational(1, 2)*(p**2 + q**2) - eps * k * q ** 4\n",
    "H_old"
   ]
  },
  {
   "cell_type": "code",
   "execution_count": 4,
   "id": "dac8dc8e",
   "metadata": {},
   "outputs": [
    {
     "data": {
      "image/png": "[encoded data removed]",
      "text/latex": [
       "$\\displaystyle \\frac{3 P Q k^{2} \\varepsilon^{2} \\left(5 P^{2} + 3 Q^{2}\\right)}{16} + \\frac{P k \\varepsilon \\left(2 P^{2} + 3 Q^{2}\\right)}{3}$"
      ],
      "text/plain": [
       "       2           2 ⎛   2      2⎞                  ⎛   2      2⎞\n",
       "3⋅P⋅Q⋅k ⋅varepsilon ⋅⎝5⋅P  + 3⋅Q ⎠   P⋅k⋅varepsilon⋅⎝2⋅P  + 3⋅Q ⎠\n",
       "────────────────────────────────── + ────────────────────────────\n",
       "                16                                3              "
      ]
     },
     "execution_count": 4,
     "metadata": {},
     "output_type": "execute_result"
    }
   ],
   "source": [
    "G1 = Rational(1, 3) * k * P * (2 * P**2 + 3 * Q**2)\n",
    "G2 = Rational(3, 16) * k**2 * P * Q * (5 * P**2 + 3 * Q **2)\n",
    "G = eps * G1 + eps**2 * G2\n",
    "G"
   ]
  },
  {
   "cell_type": "code",
   "execution_count": 5,
   "id": "87de9989",
   "metadata": {},
   "outputs": [],
   "source": [
    "def Poisson(x, y):\n",
    "    a = diff(x, Q) * diff(y, P)\n",
    "    b = diff(x, P) * diff(y, Q)\n",
    "    return a - b"
   ]
  },
  {
   "cell_type": "code",
   "execution_count": 6,
   "id": "068a1b29",
   "metadata": {},
   "outputs": [
    {
     "data": {
      "image/png": "[encoded data removed]",
      "text/latex": [
       "$\\displaystyle \\left( \\frac{15 P^{2} Q k^{2} \\varepsilon^{2}}{8} + \\frac{4 P^{2} k \\varepsilon}{3} + \\frac{3 Q k^{2} \\varepsilon^{2} \\left(5 P^{2} + 3 Q^{2}\\right)}{16} + \\frac{k \\varepsilon \\left(2 P^{2} + 3 Q^{2}\\right)}{3}, \\  - \\left(\\frac{45 P Q k^{2} \\varepsilon^{2}}{8} + 4 P k \\varepsilon\\right) \\left(\\frac{9 P Q^{2} k^{2} \\varepsilon^{2}}{8} + 2 P Q k \\varepsilon + \\frac{3 P k^{2} \\varepsilon^{2} \\left(5 P^{2} + 3 Q^{2}\\right)}{16}\\right) + \\left(\\frac{15 P^{2} k^{2} \\varepsilon^{2}}{8} + \\frac{9 Q^{2} k^{2} \\varepsilon^{2}}{8} + 2 Q k \\varepsilon + \\frac{3 k^{2} \\varepsilon^{2} \\left(5 P^{2} + 3 Q^{2}\\right)}{16}\\right) \\left(\\frac{15 P^{2} Q k^{2} \\varepsilon^{2}}{8} + \\frac{4 P^{2} k \\varepsilon}{3} + \\frac{3 Q k^{2} \\varepsilon^{2} \\left(5 P^{2} + 3 Q^{2}\\right)}{16} + \\frac{k \\varepsilon \\left(2 P^{2} + 3 Q^{2}\\right)}{3}\\right)\\right)$"
      ],
      "text/plain": [
       "⎛    2    2           2      2                     2           2 ⎛   2      2⎞\n",
       "⎜15⋅P ⋅Q⋅k ⋅varepsilon    4⋅P ⋅k⋅varepsilon   3⋅Q⋅k ⋅varepsilon ⋅⎝5⋅P  + 3⋅Q ⎠\n",
       "⎜────────────────────── + ───────────────── + ────────────────────────────────\n",
       "⎝          8                      3                          16               \n",
       "\n",
       "                ⎛   2      2⎞    ⎛        2           2                   ⎞ ⎛ \n",
       "   k⋅varepsilon⋅⎝2⋅P  + 3⋅Q ⎠    ⎜45⋅P⋅Q⋅k ⋅varepsilon                    ⎟ ⎜9\n",
       " + ──────────────────────────, - ⎜───────────────────── + 4⋅P⋅k⋅varepsilon⎟⋅⎜─\n",
       "               3                 ⎝          8                             ⎠ ⎝ \n",
       "\n",
       "    2  2           2                             2           2 ⎛   2      2⎞⎞ \n",
       "⋅P⋅Q ⋅k ⋅varepsilon                         3⋅P⋅k ⋅varepsilon ⋅⎝5⋅P  + 3⋅Q ⎠⎟ \n",
       "──────────────────── + 2⋅P⋅Q⋅k⋅varepsilon + ────────────────────────────────⎟ \n",
       "         8                                                 16               ⎠ \n",
       "\n",
       "  ⎛    2  2           2      2  2           2                         2       \n",
       "  ⎜15⋅P ⋅k ⋅varepsilon    9⋅Q ⋅k ⋅varepsilon                       3⋅k ⋅vareps\n",
       "+ ⎜──────────────────── + ─────────────────── + 2⋅Q⋅k⋅varepsilon + ───────────\n",
       "  ⎝         8                      8                                          \n",
       "\n",
       "    2 ⎛   2      2⎞⎞ ⎛    2    2           2      2                     2     \n",
       "ilon ⋅⎝5⋅P  + 3⋅Q ⎠⎟ ⎜15⋅P ⋅Q⋅k ⋅varepsilon    4⋅P ⋅k⋅varepsilon   3⋅Q⋅k ⋅vare\n",
       "───────────────────⎟⋅⎜────────────────────── + ───────────────── + ───────────\n",
       "   16              ⎠ ⎝          8                      3                      \n",
       "\n",
       "      2 ⎛   2      2⎞                ⎛   2      2⎞⎞⎞\n",
       "psilon ⋅⎝5⋅P  + 3⋅Q ⎠   k⋅varepsilon⋅⎝2⋅P  + 3⋅Q ⎠⎟⎟\n",
       "───────────────────── + ──────────────────────────⎟⎟\n",
       "    16                              3             ⎠⎠"
      ]
     },
     "execution_count": 6,
     "metadata": {},
     "output_type": "execute_result"
    }
   ],
   "source": [
    "a1 = Poisson(Q, G)\n",
    "a2 = Poisson(a1,G)\n",
    "(a1, a2)"
   ]
  },
  {
   "cell_type": "code",
   "execution_count": 7,
   "id": "38a99357",
   "metadata": {},
   "outputs": [
    {
     "data": {
      "image/png": "[encoded data removed]",
      "text/latex": [
       "$\\displaystyle \\left( - \\frac{9 P Q^{2} k^{2} \\varepsilon^{2}}{8} - 2 P Q k \\varepsilon - \\frac{3 P k^{2} \\varepsilon^{2} \\left(5 P^{2} + 3 Q^{2}\\right)}{16}, \\  \\left(- \\frac{27 P Q k^{2} \\varepsilon^{2}}{8} - 2 P k \\varepsilon\\right) \\left(\\frac{15 P^{2} Q k^{2} \\varepsilon^{2}}{8} + \\frac{4 P^{2} k \\varepsilon}{3} + \\frac{3 Q k^{2} \\varepsilon^{2} \\left(5 P^{2} + 3 Q^{2}\\right)}{16} + \\frac{k \\varepsilon \\left(2 P^{2} + 3 Q^{2}\\right)}{3}\\right) - \\left(\\frac{9 P Q^{2} k^{2} \\varepsilon^{2}}{8} + 2 P Q k \\varepsilon + \\frac{3 P k^{2} \\varepsilon^{2} \\left(5 P^{2} + 3 Q^{2}\\right)}{16}\\right) \\left(- \\frac{15 P^{2} k^{2} \\varepsilon^{2}}{8} - \\frac{9 Q^{2} k^{2} \\varepsilon^{2}}{8} - 2 Q k \\varepsilon - \\frac{3 k^{2} \\varepsilon^{2} \\left(5 P^{2} + 3 Q^{2}\\right)}{16}\\right)\\right)$"
      ],
      "text/plain": [
       "⎛       2  2           2                             2           2 ⎛   2      \n",
       "⎜  9⋅P⋅Q ⋅k ⋅varepsilon                         3⋅P⋅k ⋅varepsilon ⋅⎝5⋅P  + 3⋅Q\n",
       "⎜- ───────────────────── - 2⋅P⋅Q⋅k⋅varepsilon - ──────────────────────────────\n",
       "⎝            8                                                 16             \n",
       "\n",
       "2⎞  ⎛          2           2                   ⎞ ⎛    2    2           2      \n",
       " ⎠  ⎜  27⋅P⋅Q⋅k ⋅varepsilon                    ⎟ ⎜15⋅P ⋅Q⋅k ⋅varepsilon    4⋅P\n",
       "──, ⎜- ───────────────────── - 2⋅P⋅k⋅varepsilon⎟⋅⎜────────────────────── + ───\n",
       "    ⎝            8                             ⎠ ⎝          8                 \n",
       "\n",
       "2                     2           2 ⎛   2      2⎞                ⎛   2      2⎞\n",
       " ⋅k⋅varepsilon   3⋅Q⋅k ⋅varepsilon ⋅⎝5⋅P  + 3⋅Q ⎠   k⋅varepsilon⋅⎝2⋅P  + 3⋅Q ⎠\n",
       "────────────── + ──────────────────────────────── + ──────────────────────────\n",
       "     3                          16                              3             \n",
       "\n",
       "⎞   ⎛     2  2           2                             2           2 ⎛   2    \n",
       "⎟   ⎜9⋅P⋅Q ⋅k ⋅varepsilon                         3⋅P⋅k ⋅varepsilon ⋅⎝5⋅P  + 3\n",
       "⎟ - ⎜───────────────────── + 2⋅P⋅Q⋅k⋅varepsilon + ────────────────────────────\n",
       "⎠   ⎝          8                                                 16           \n",
       "\n",
       "  2⎞⎞ ⎛      2  2           2      2  2           2                         2 \n",
       "⋅Q ⎠⎟ ⎜  15⋅P ⋅k ⋅varepsilon    9⋅Q ⋅k ⋅varepsilon                       3⋅k ⋅\n",
       "────⎟⋅⎜- ──────────────────── - ─────────────────── - 2⋅Q⋅k⋅varepsilon - ─────\n",
       "    ⎠ ⎝           8                      8                                    \n",
       "\n",
       "          2 ⎛   2      2⎞⎞⎞\n",
       "varepsilon ⋅⎝5⋅P  + 3⋅Q ⎠⎟⎟\n",
       "─────────────────────────⎟⎟\n",
       "         16              ⎠⎠"
      ]
     },
     "execution_count": 7,
     "metadata": {},
     "output_type": "execute_result"
    }
   ],
   "source": [
    "b1 = Poisson(P, G)\n",
    "b2 = Poisson(b1, G)\n",
    "b1, b2"
   ]
  },
  {
   "cell_type": "code",
   "execution_count": 8,
   "id": "26a5b7ae",
   "metadata": {},
   "outputs": [
    {
     "data": {
      "image/png": "[encoded data removed]",
      "text/latex": [
       "$\\displaystyle - k \\varepsilon \\left(\\frac{15 P^{2} Q k^{2} \\varepsilon^{2}}{8} + \\frac{4 P^{2} k \\varepsilon}{3} + \\frac{3 Q k^{2} \\varepsilon^{2} \\left(5 P^{2} + 3 Q^{2}\\right)}{16} + Q + \\frac{k \\varepsilon \\left(2 P^{2} + 3 Q^{2}\\right)}{3} - \\frac{\\left(\\frac{45 P Q k^{2} \\varepsilon^{2}}{8} + 4 P k \\varepsilon\\right) \\left(\\frac{9 P Q^{2} k^{2} \\varepsilon^{2}}{8} + 2 P Q k \\varepsilon + \\frac{3 P k^{2} \\varepsilon^{2} \\left(5 P^{2} + 3 Q^{2}\\right)}{16}\\right)}{2} + \\frac{\\left(\\frac{15 P^{2} k^{2} \\varepsilon^{2}}{8} + \\frac{9 Q^{2} k^{2} \\varepsilon^{2}}{8} + 2 Q k \\varepsilon + \\frac{3 k^{2} \\varepsilon^{2} \\left(5 P^{2} + 3 Q^{2}\\right)}{16}\\right) \\left(\\frac{15 P^{2} Q k^{2} \\varepsilon^{2}}{8} + \\frac{4 P^{2} k \\varepsilon}{3} + \\frac{3 Q k^{2} \\varepsilon^{2} \\left(5 P^{2} + 3 Q^{2}\\right)}{16} + \\frac{k \\varepsilon \\left(2 P^{2} + 3 Q^{2}\\right)}{3}\\right)}{2}\\right)^{4} + \\frac{\\left(- \\frac{9 P Q^{2} k^{2} \\varepsilon^{2}}{8} - 2 P Q k \\varepsilon - \\frac{3 P k^{2} \\varepsilon^{2} \\left(5 P^{2} + 3 Q^{2}\\right)}{16} + P + \\frac{\\left(- \\frac{27 P Q k^{2} \\varepsilon^{2}}{8} - 2 P k \\varepsilon\\right) \\left(\\frac{15 P^{2} Q k^{2} \\varepsilon^{2}}{8} + \\frac{4 P^{2} k \\varepsilon}{3} + \\frac{3 Q k^{2} \\varepsilon^{2} \\left(5 P^{2} + 3 Q^{2}\\right)}{16} + \\frac{k \\varepsilon \\left(2 P^{2} + 3 Q^{2}\\right)}{3}\\right)}{2} - \\frac{\\left(\\frac{9 P Q^{2} k^{2} \\varepsilon^{2}}{8} + 2 P Q k \\varepsilon + \\frac{3 P k^{2} \\varepsilon^{2} \\left(5 P^{2} + 3 Q^{2}\\right)}{16}\\right) \\left(- \\frac{15 P^{2} k^{2} \\varepsilon^{2}}{8} - \\frac{9 Q^{2} k^{2} \\varepsilon^{2}}{8} - 2 Q k \\varepsilon - \\frac{3 k^{2} \\varepsilon^{2} \\left(5 P^{2} + 3 Q^{2}\\right)}{16}\\right)}{2}\\right)^{2}}{2} + \\frac{\\left(\\frac{15 P^{2} Q k^{2} \\varepsilon^{2}}{8} + \\frac{4 P^{2} k \\varepsilon}{3} + \\frac{3 Q k^{2} \\varepsilon^{2} \\left(5 P^{2} + 3 Q^{2}\\right)}{16} + Q + \\frac{k \\varepsilon \\left(2 P^{2} + 3 Q^{2}\\right)}{3} - \\frac{\\left(\\frac{45 P Q k^{2} \\varepsilon^{2}}{8} + 4 P k \\varepsilon\\right) \\left(\\frac{9 P Q^{2} k^{2} \\varepsilon^{2}}{8} + 2 P Q k \\varepsilon + \\frac{3 P k^{2} \\varepsilon^{2} \\left(5 P^{2} + 3 Q^{2}\\right)}{16}\\right)}{2} + \\frac{\\left(\\frac{15 P^{2} k^{2} \\varepsilon^{2}}{8} + \\frac{9 Q^{2} k^{2} \\varepsilon^{2}}{8} + 2 Q k \\varepsilon + \\frac{3 k^{2} \\varepsilon^{2} \\left(5 P^{2} + 3 Q^{2}\\right)}{16}\\right) \\left(\\frac{15 P^{2} Q k^{2} \\varepsilon^{2}}{8} + \\frac{4 P^{2} k \\varepsilon}{3} + \\frac{3 Q k^{2} \\varepsilon^{2} \\left(5 P^{2} + 3 Q^{2}\\right)}{16} + \\frac{k \\varepsilon \\left(2 P^{2} + 3 Q^{2}\\right)}{3}\\right)}{2}\\right)^{2}}{2}$"
      ],
      "text/plain": [
       "                                                                              \n",
       "                                                                              \n",
       "                                                                              \n",
       "               ⎛                                                              \n",
       "               ⎜                                                              \n",
       "               ⎜    2    2           2      2                     2           \n",
       "               ⎜15⋅P ⋅Q⋅k ⋅varepsilon    4⋅P ⋅k⋅varepsilon   3⋅Q⋅k ⋅varepsilon\n",
       "- k⋅varepsilon⋅⎜────────────────────── + ───────────────── + ─────────────────\n",
       "               ⎝          8                      3                          16\n",
       "\n",
       "                                                                              \n",
       "                                                                              \n",
       "                                                                              \n",
       "                                                   ⎛        2           2     \n",
       "                                                   ⎜45⋅P⋅Q⋅k ⋅varepsilon      \n",
       "2 ⎛   2      2⎞                    ⎛   2      2⎞   ⎜───────────────────── + 4⋅\n",
       " ⋅⎝5⋅P  + 3⋅Q ⎠       k⋅varepsilon⋅⎝2⋅P  + 3⋅Q ⎠   ⎝          8               \n",
       "─────────────── + Q + ────────────────────────── - ───────────────────────────\n",
       "                                  3                                           \n",
       "\n",
       "                                                                              \n",
       "                                                                              \n",
       "                                                                              \n",
       "              ⎞ ⎛     2  2           2                             2          \n",
       "              ⎟ ⎜9⋅P⋅Q ⋅k ⋅varepsilon                         3⋅P⋅k ⋅varepsilo\n",
       "P⋅k⋅varepsilon⎟⋅⎜───────────────────── + 2⋅P⋅Q⋅k⋅varepsilon + ────────────────\n",
       "              ⎠ ⎝          8                                                 1\n",
       "──────────────────────────────────────────────────────────────────────────────\n",
       "                                 2                                            \n",
       "\n",
       "                                                                              \n",
       "                                                                              \n",
       "                                                                              \n",
       " 2 ⎛   2      2⎞⎞   ⎛    2  2           2      2  2           2               \n",
       "n ⋅⎝5⋅P  + 3⋅Q ⎠⎟   ⎜15⋅P ⋅k ⋅varepsilon    9⋅Q ⋅k ⋅varepsilon                \n",
       "────────────────⎟   ⎜──────────────────── + ─────────────────── + 2⋅Q⋅k⋅vareps\n",
       "6               ⎠   ⎝         8                      8                        \n",
       "───────────────── + ──────────────────────────────────────────────────────────\n",
       "                                                                              \n",
       "\n",
       "                                                                              \n",
       "                                                                              \n",
       "                                                                              \n",
       "          2           2 ⎛   2      2⎞⎞ ⎛    2    2           2      2         \n",
       "       3⋅k ⋅varepsilon ⋅⎝5⋅P  + 3⋅Q ⎠⎟ ⎜15⋅P ⋅Q⋅k ⋅varepsilon    4⋅P ⋅k⋅vareps\n",
       "ilon + ──────────────────────────────⎟⋅⎜────────────────────── + ─────────────\n",
       "                     16              ⎠ ⎝          8                      3    \n",
       "──────────────────────────────────────────────────────────────────────────────\n",
       "                                            2                                 \n",
       "\n",
       "                                                                              \n",
       "                                                                          ⎛   \n",
       "                                                                      4   ⎜   \n",
       "            2           2 ⎛   2      2⎞                ⎛   2      2⎞⎞⎞    ⎜   \n",
       "ilon   3⋅Q⋅k ⋅varepsilon ⋅⎝5⋅P  + 3⋅Q ⎠   k⋅varepsilon⋅⎝2⋅P  + 3⋅Q ⎠⎟⎟    ⎜  9\n",
       "──── + ──────────────────────────────── + ──────────────────────────⎟⎟    ⎜- ─\n",
       "                      16                              3             ⎠⎟    ⎝   \n",
       "─────────────────────────────────────────────────────────────────────⎟  + ────\n",
       "                                                                     ⎠        \n",
       "\n",
       "                                                                              \n",
       "                                                                              \n",
       "                                                                              \n",
       "    2  2           2                             2           2 ⎛   2      2⎞  \n",
       "⋅P⋅Q ⋅k ⋅varepsilon                         3⋅P⋅k ⋅varepsilon ⋅⎝5⋅P  + 3⋅Q ⎠  \n",
       "──────────────────── - 2⋅P⋅Q⋅k⋅varepsilon - ──────────────────────────────── +\n",
       "         8                                                 16                 \n",
       "──────────────────────────────────────────────────────────────────────────────\n",
       "                                                                              \n",
       "\n",
       "                                                                              \n",
       "     ⎛          2           2                   ⎞ ⎛    2    2           2     \n",
       "     ⎜  27⋅P⋅Q⋅k ⋅varepsilon                    ⎟ ⎜15⋅P ⋅Q⋅k ⋅varepsilon    4⋅\n",
       "     ⎜- ───────────────────── - 2⋅P⋅k⋅varepsilon⎟⋅⎜────────────────────── + ──\n",
       "     ⎝            8                             ⎠ ⎝          8                \n",
       " P + ─────────────────────────────────────────────────────────────────────────\n",
       "                                                                              \n",
       "──────────────────────────────────────────────────────────────────────────────\n",
       "                                                                              \n",
       "\n",
       "                                                                              \n",
       " 2                     2           2 ⎛   2      2⎞                ⎛   2      2\n",
       "P ⋅k⋅varepsilon   3⋅Q⋅k ⋅varepsilon ⋅⎝5⋅P  + 3⋅Q ⎠   k⋅varepsilon⋅⎝2⋅P  + 3⋅Q \n",
       "─────────────── + ──────────────────────────────── + ─────────────────────────\n",
       "      3                          16                              3            \n",
       "──────────────────────────────────────────────────────────────────────────────\n",
       "   2                                                                          \n",
       "──────────────────────────────────────────────────────────────────────────────\n",
       "                                                   2                          \n",
       "\n",
       "                                                                              \n",
       "⎞⎞   ⎛     2  2           2                             2           2 ⎛   2   \n",
       "⎠⎟   ⎜9⋅P⋅Q ⋅k ⋅varepsilon                         3⋅P⋅k ⋅varepsilon ⋅⎝5⋅P  + \n",
       "─⎟   ⎜───────────────────── + 2⋅P⋅Q⋅k⋅varepsilon + ───────────────────────────\n",
       " ⎠   ⎝          8                                                 16          \n",
       "── - ─────────────────────────────────────────────────────────────────────────\n",
       "                                                                              \n",
       "──────────────────────────────────────────────────────────────────────────────\n",
       "                                                                              \n",
       "\n",
       "                                                                              \n",
       "   2⎞⎞ ⎛      2  2           2      2  2           2                         2\n",
       "3⋅Q ⎠⎟ ⎜  15⋅P ⋅k ⋅varepsilon    9⋅Q ⋅k ⋅varepsilon                       3⋅k \n",
       "─────⎟⋅⎜- ──────────────────── - ─────────────────── - 2⋅Q⋅k⋅varepsilon - ────\n",
       "     ⎠ ⎝           8                      8                                   \n",
       "──────────────────────────────────────────────────────────────────────────────\n",
       "               2                                                              \n",
       "──────────────────────────────────────────────────────────────────────────────\n",
       "                                                                              \n",
       "\n",
       "                            2                                                 \n",
       "           2 ⎛   2      2⎞⎞⎞    ⎛                                             \n",
       "⋅varepsilon ⋅⎝5⋅P  + 3⋅Q ⎠⎟⎟    ⎜                                             \n",
       "──────────────────────────⎟⎟    ⎜    2    2           2      2                \n",
       "          16              ⎠⎟    ⎜15⋅P ⋅Q⋅k ⋅varepsilon    4⋅P ⋅k⋅varepsilon   \n",
       "───────────────────────────⎟    ⎜────────────────────── + ───────────────── + \n",
       "                           ⎠    ⎝          8                      3           \n",
       "───────────────────────────── + ──────────────────────────────────────────────\n",
       "                                                                              \n",
       "\n",
       "                                                                              \n",
       "                                                                    ⎛        2\n",
       "                                                                    ⎜45⋅P⋅Q⋅k \n",
       "     2           2 ⎛   2      2⎞                    ⎛   2      2⎞   ⎜─────────\n",
       "3⋅Q⋅k ⋅varepsilon ⋅⎝5⋅P  + 3⋅Q ⎠       k⋅varepsilon⋅⎝2⋅P  + 3⋅Q ⎠   ⎝         \n",
       "──────────────────────────────── + Q + ────────────────────────── - ──────────\n",
       "               16                                  3                          \n",
       "──────────────────────────────────────────────────────────────────────────────\n",
       "                                                                              \n",
       "\n",
       "                                                                              \n",
       "           2                   ⎞ ⎛     2  2           2                       \n",
       "⋅varepsilon                    ⎟ ⎜9⋅P⋅Q ⋅k ⋅varepsilon                        \n",
       "──────────── + 4⋅P⋅k⋅varepsilon⎟⋅⎜───────────────────── + 2⋅P⋅Q⋅k⋅varepsilon +\n",
       " 8                             ⎠ ⎝          8                                 \n",
       "──────────────────────────────────────────────────────────────────────────────\n",
       "                                                  2                           \n",
       "──────────────────────────────────────────────────────────────────────────────\n",
       "                                                                              \n",
       "\n",
       "                                                                              \n",
       "      2           2 ⎛   2      2⎞⎞   ⎛    2  2           2      2  2          \n",
       " 3⋅P⋅k ⋅varepsilon ⋅⎝5⋅P  + 3⋅Q ⎠⎟   ⎜15⋅P ⋅k ⋅varepsilon    9⋅Q ⋅k ⋅varepsilo\n",
       " ────────────────────────────────⎟   ⎜──────────────────── + ─────────────────\n",
       "                16               ⎠   ⎝         8                      8       \n",
       "────────────────────────────────── + ─────────────────────────────────────────\n",
       "                                                                              \n",
       "──────────────────────────────────────────────────────────────────────────────\n",
       "                    2                                                         \n",
       "\n",
       "                                                                              \n",
       " 2                         2           2 ⎛   2      2⎞⎞ ⎛    2    2           \n",
       "n                       3⋅k ⋅varepsilon ⋅⎝5⋅P  + 3⋅Q ⎠⎟ ⎜15⋅P ⋅Q⋅k ⋅varepsilon\n",
       "── + 2⋅Q⋅k⋅varepsilon + ──────────────────────────────⎟⋅⎜─────────────────────\n",
       "                                      16              ⎠ ⎝          8          \n",
       "──────────────────────────────────────────────────────────────────────────────\n",
       "                                                             2                \n",
       "──────────────────────────────────────────────────────────────────────────────\n",
       "                                                                              \n",
       "\n",
       "                                                                              \n",
       "2      2                     2           2 ⎛   2      2⎞                ⎛   2 \n",
       "    4⋅P ⋅k⋅varepsilon   3⋅Q⋅k ⋅varepsilon ⋅⎝5⋅P  + 3⋅Q ⎠   k⋅varepsilon⋅⎝2⋅P  \n",
       "─ + ───────────────── + ──────────────────────────────── + ───────────────────\n",
       "            3                          16                              3      \n",
       "──────────────────────────────────────────────────────────────────────────────\n",
       "                                                                              \n",
       "──────────────────────────────────────────────────────────────────────────────\n",
       "                                                                              \n",
       "\n",
       "         2\n",
       "     2⎞⎞⎞ \n",
       "+ 3⋅Q ⎠⎟⎟ \n",
       "───────⎟⎟ \n",
       "       ⎠⎟ \n",
       "────────⎟ \n",
       "        ⎠ \n",
       "──────────\n",
       "          "
      ]
     },
     "execution_count": 8,
     "metadata": {},
     "output_type": "execute_result"
    }
   ],
   "source": [
    "q_subs = Q + a1 + Rational(1, 2) * a2\n",
    "p_subs = P + b1 + Rational(1, 2) * b2\n",
    "H_subs = H_old.subs([(q, q_subs), (p, p_subs)])\n",
    "H_subs"
   ]
  },
  {
   "cell_type": "code",
   "execution_count": 9,
   "id": "73318ea6",
   "metadata": {},
   "outputs": [
    {
     "data": {
      "image/png": "[encoded data removed]",
      "text/latex": [
       "$\\displaystyle \\frac{P^{2}}{2} + \\frac{Q^{2}}{2} + \\varepsilon^{2} \\left(- \\frac{15 P^{4} k^{2}}{8} - 16 P^{2} Q^{3} k^{2} + \\frac{45 P^{2} Q^{2} k^{2}}{4} - 8 Q^{5} k^{2} + \\frac{45 Q^{4} k^{2}}{8}\\right) + \\varepsilon \\left(- Q^{4} k + 2 Q^{3} k\\right)$"
      ],
      "text/plain": [
       " 2    2               ⎛      4  2                     2  2  2                 \n",
       "P    Q              2 ⎜  15⋅P ⋅k        2  3  2   45⋅P ⋅Q ⋅k       5  2   45⋅Q\n",
       "── + ── + varepsilon ⋅⎜- ──────── - 16⋅P ⋅Q ⋅k  + ─────────── - 8⋅Q ⋅k  + ────\n",
       "2    2                ⎝     8                          4                     8\n",
       "\n",
       "4  2⎞                               \n",
       " ⋅k ⎟              ⎛   4        3  ⎞\n",
       "────⎟ + varepsilon⋅⎝- Q ⋅k + 2⋅Q ⋅k⎠\n",
       "    ⎠                               "
      ]
     },
     "execution_count": 9,
     "metadata": {},
     "output_type": "execute_result"
    }
   ],
   "source": [
    "H_new = H_subs + Poisson(H_subs, G)\n",
    "H_new = H_new.simplify()\n",
    "H_new = series(H_new,eps,0,3).removeO()\n",
    "H_new"
   ]
  }
 ],
 "metadata": {
  "kernelspec": {
   "display_name": "Python 3 (ipykernel)",
   "language": "python",
   "name": "python3"
  },
  "language_info": {
   "codemirror_mode": {
    "name": "ipython",
    "version": 3
   },
   "file_extension": ".py",
   "mimetype": "text/x-python",
   "name": "python",
   "nbconvert_exporter": "python",
   "pygments_lexer": "ipython3",
   "version": "3.9.7"
  }
 },
 "nbformat": 4,
 "nbformat_minor": 5
}

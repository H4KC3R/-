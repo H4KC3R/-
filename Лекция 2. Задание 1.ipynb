{
 "cells": [
  {
   "cell_type": "code",
   "execution_count": 1,
   "id": "eb280d06",
   "metadata": {},
   "outputs": [],
   "source": [
    "import sympy as sym\n",
    "from sympy import init_printing\n",
    "\n",
    "init_printing()\n",
    "\n",
    "from sympy.abc import x, y, z, t, u\n",
    "var = [x, y, z]"
   ]
  },
  {
   "cell_type": "markdown",
   "id": "0bc80957",
   "metadata": {},
   "source": [
    "## Задание 1\n",
    "Найдите все решения системы с использованием базиса Грёбнера\n",
    "4) $\n",
    "\\cases{x^3yz-xz^2=0,\\\\\n",
    "\txy^2z-xyz=0,\\\\\n",
    "\tx^2y^2-z=0.\\\\}\n",
    "$"
   ]
  },
  {
   "cell_type": "code",
   "execution_count": 2,
   "id": "1349697a",
   "metadata": {},
   "outputs": [
    {
     "data": {
      "image/png": "[encoded data removed]",
      "text/latex": [
       "$\\displaystyle \\left[ x^{3} y z - x z^{2}, \\  x y^{2} z - x y z, \\  x^{2} y^{2} - z\\right]$"
      ],
      "text/plain": [
       "⎡ 3          2     2             2  2    ⎤\n",
       "⎣x ⋅y⋅z - x⋅z , x⋅y ⋅z - x⋅y⋅z, x ⋅y  - z⎦"
      ]
     },
     "execution_count": 2,
     "metadata": {},
     "output_type": "execute_result"
    }
   ],
   "source": [
    "sys1 = [x**3*y*z-x*z**2,x*y**2*z-x*y*z,x**2*y**2-z]\n",
    "sys1"
   ]
  },
  {
   "cell_type": "code",
   "execution_count": 3,
   "id": "bba1b7fe",
   "metadata": {},
   "outputs": [
    {
     "data": {
      "image/png": "[encoded data removed]",
      "text/latex": [
       "$\\displaystyle GroebnerBasis\\left(\\left( - x^{2} y^{2} + z, \\  x^{3} y^{4} - x^{3} y^{3}\\right), \\left( z, \\  y, \\  x\\right)\\right)$"
      ],
      "text/plain": [
       "             ⎛⎡   2  2       3  4    3  3⎤                              ⎞\n",
       "GroebnerBasis⎝⎣- x ⋅y  + z, x ⋅y  - x ⋅y ⎦, z, y, x, domain=ℤ, order=lex⎠"
      ]
     },
     "execution_count": 3,
     "metadata": {},
     "output_type": "execute_result"
    }
   ],
   "source": [
    "# Находим базис Гребнера\n",
    "GB_sys1 = sym.groebner(sys1,z,y,x)\n",
    "GB_sys1"
   ]
  },
  {
   "cell_type": "markdown",
   "id": "0ecfebca",
   "metadata": {},
   "source": [
    "Система совместна, т.к идеал не сожержит ненулевых констант.\n",
    "\n",
    "Однако система имеет бесконечное число решении, так как старшие члены не являются \"чистыми\" степенями\n",
    "x, y, z."
   ]
  },
  {
   "cell_type": "code",
   "execution_count": 4,
   "id": "79f9f163",
   "metadata": {},
   "outputs": [
    {
     "name": "stdout",
     "output_type": "stream",
     "text": [
      "TOO MANY SOLUTIONS\n"
     ]
    }
   ],
   "source": [
    "if sym.is_zero_dimensional(GB_sys1):\n",
    "    sym.solve_poly_system(GB_sys1)\n",
    "else:\n",
    "    print(\"TOO MANY SOLUTIONS\")"
   ]
  },
  {
   "cell_type": "code",
   "execution_count": 5,
   "id": "768ec9bd",
   "metadata": {},
   "outputs": [
    {
     "name": "stdout",
     "output_type": "stream",
     "text": [
      "Множество №1 особых точек = { x: Любой ,  {y: 0, z: 0} }\n",
      "Проверка [0, 0, 0]\n"
     ]
    }
   ],
   "source": [
    "Sol_y = sym.solve(GB_sys1[1],y)\n",
    "Sol_z = sym.solve(GB_sys1[0].subs(y,Sol_y[0]),z)\n",
    "Solution = {y:Sol_y[0], z:Sol_z[0]}\n",
    "\n",
    "print(\"Множество №1 особых точек = { x: Любой\", \", \",  Solution, \"}\")\n",
    "print(\"Проверка\", [eq.subs(Solution) for eq in sys1])"
   ]
  },
  {
   "cell_type": "code",
   "execution_count": 6,
   "id": "6a22f9e6",
   "metadata": {},
   "outputs": [
    {
     "name": "stdout",
     "output_type": "stream",
     "text": [
      "Множество №2 особых точек = { x: Любой ,  {y: 1, z: x**2} }\n",
      "Проверка [0, 0, 0]\n"
     ]
    }
   ],
   "source": [
    "Sol_y = sym.solve(GB_sys1[1],y)\n",
    "Sol_z = sym.solve(GB_sys1[0].subs(y,Sol_y[1]),z)\n",
    "Solution = {y:Sol_y[1], z:Sol_z[0]}\n",
    "\n",
    "print(\"Множество №2 особых точек = { x: Любой\", \", \",  Solution, \"}\")\n",
    "print(\"Проверка\", [eq.subs(Solution) for eq in sys1])"
   ]
  },
  {
   "cell_type": "code",
   "execution_count": 7,
   "id": "683be6b1",
   "metadata": {},
   "outputs": [
    {
     "name": "stdout",
     "output_type": "stream",
     "text": [
      "Множество №3 особых точек = { y: Любой ,  {x: 0, z: 0} }\n",
      "Проверка [0, 0, 0]\n"
     ]
    }
   ],
   "source": [
    "Sol_x = sym.solve(GB_sys1[1],x)\n",
    "Sol_z = sym.solve(GB_sys1[0].subs(x,Sol_x[0]),z)\n",
    "Solution = {x:Sol_y[0], z:Sol_z[0]}\n",
    "print(\"Множество №3 особых точек = { y: Любой\", \", \",  Solution, \"}\")\n",
    "print(\"Проверка\", [eq.subs(Solution) for eq in sys1])"
   ]
  }
 ],
 "metadata": {
  "kernelspec": {
   "display_name": "Python 3 (ipykernel)",
   "language": "python",
   "name": "python3"
  },
  "language_info": {
   "codemirror_mode": {
    "name": "ipython",
    "version": 3
   },
   "file_extension": ".py",
   "mimetype": "text/x-python",
   "name": "python",
   "nbconvert_exporter": "python",
   "pygments_lexer": "ipython3",
   "version": "3.10.2"
  }
 },
 "nbformat": 4,
 "nbformat_minor": 5
}

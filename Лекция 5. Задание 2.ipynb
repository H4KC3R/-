{
 "cells": [
  {
   "cell_type": "code",
   "execution_count": null,
   "id": "1bb8bf1b",
   "metadata": {},
   "outputs": [],
   "source": [
    "!pip install numpy\n",
    "!pip install scipy\n",
    "!pip install matplotlib\n",
    "!pip install sympy"
   ]
  },
  {
   "cell_type": "code",
   "execution_count": 1,
   "id": "196dc758",
   "metadata": {},
   "outputs": [],
   "source": [
    "import sympy as sym\n",
    "from sympy import symbols, Function, Eq, solve, I, collect, expand, simplify,\\\n",
    "                  Derivative, init_printing, series, evaluate\n",
    "init_printing()"
   ]
  },
  {
   "cell_type": "code",
   "execution_count": 2,
   "id": "b9bd2f1d",
   "metadata": {},
   "outputs": [
    {
     "data": {
      "image/png": "[encoded data removed]",
      "text/latex": [
       "$\\displaystyle \\left[ y_{1} = x_{2}, \\  y_{2} = - \\varepsilon x_{1}^{5} - x_{1}\\right]$"
      ],
      "text/plain": [
       "⎡                             5     ⎤\n",
       "⎣y₁ = x₂, y₂ = - varepsilon⋅x₁  - x₁⎦"
      ]
     },
     "execution_count": 2,
     "metadata": {},
     "output_type": "execute_result"
    }
   ],
   "source": [
    "x1, x2 = symbols(\"x1 x2\",real=True)\n",
    "y1, y2 = symbols(\"y1 y2\",real=True)\n",
    "eps = symbols(\"varepsilon\",real=True)\n",
    "eq = [Eq(y1,x2),Eq(y2,-x1-eps*x1**5)]\n",
    "# словарь ключ левая часть, значения правая часть уравнения\n",
    "subs_eq={eq[0].lhs:eq[0].rhs, eq[1].lhs:eq[1].rhs}\n",
    "eq"
   ]
  },
  {
   "cell_type": "code",
   "execution_count": 3,
   "id": "c91870b8",
   "metadata": {},
   "outputs": [
    {
     "data": {
      "image/png": "[encoded data removed]",
      "text/latex": [
       "$\\displaystyle \\left( \\frac{i \\varepsilon z^{5}}{2} + \\frac{5 i \\varepsilon z^{4} zs}{2} + 5 i \\varepsilon z^{3} zs^{2} + 5 i \\varepsilon z^{2} zs^{3} + \\frac{5 i \\varepsilon z zs^{4}}{2} + \\frac{i \\varepsilon zs^{5}}{2} + i z, \\  - \\frac{i \\varepsilon z^{5}}{2} - \\frac{5 i \\varepsilon z^{4} zs}{2} - 5 i \\varepsilon z^{3} zs^{2} - 5 i \\varepsilon z^{2} zs^{3} - \\frac{5 i \\varepsilon z zs^{4}}{2} - \\frac{i \\varepsilon zs^{5}}{2} - i zs\\right)$"
      ],
      "text/plain": [
       "⎛              5                   4                                          \n",
       "⎜ⅈ⋅varepsilon⋅z    5⋅ⅈ⋅varepsilon⋅z ⋅zs                   3   2               \n",
       "⎜─────────────── + ──────────────────── + 5⋅ⅈ⋅varepsilon⋅z ⋅zs  + 5⋅ⅈ⋅varepsil\n",
       "⎝       2                   2                                                 \n",
       "\n",
       "                               4                  5                        5  \n",
       "    2   3   5⋅ⅈ⋅varepsilon⋅z⋅zs    ⅈ⋅varepsilon⋅zs           ⅈ⋅varepsilon⋅z   \n",
       "on⋅z ⋅zs  + ──────────────────── + ──────────────── + ⅈ⋅z, - ─────────────── -\n",
       "                     2                    2                         2         \n",
       "\n",
       "                 4                                                            \n",
       " 5⋅ⅈ⋅varepsilon⋅z ⋅zs                   3   2                   2   3   5⋅ⅈ⋅va\n",
       " ──────────────────── - 5⋅ⅈ⋅varepsilon⋅z ⋅zs  - 5⋅ⅈ⋅varepsilon⋅z ⋅zs  - ──────\n",
       "          2                                                                   \n",
       "\n",
       "             4                  5       ⎞\n",
       "repsilon⋅z⋅zs    ⅈ⋅varepsilon⋅zs        ⎟\n",
       "────────────── - ──────────────── - ⅈ⋅zs⎟\n",
       "   2                    2               ⎠"
      ]
     },
     "execution_count": 3,
     "metadata": {},
     "output_type": "execute_result"
    }
   ],
   "source": [
    "# Делаем замену z - комплексная переменная, комплексно сопряженная\n",
    "z, zs = symbols(\"z zs\",complex=True)\n",
    "Subs_cmplx = [Eq(x1,z+zs),Eq(x2,I*(z-zs))]\n",
    "\n",
    "Subs_cmplx_dict=dict(zip([eq.lhs for eq in Subs_cmplx],[eq.rhs for eq in Subs_cmplx]))\n",
    "# получаем выражения для z и zs\n",
    "Sol_cmplx=solve(Subs_cmplx,[z,zs])\n",
    "\n",
    "# Подставляем в исходное уравнение\n",
    "eq1=collect(expand(Sol_cmplx[z].subs({x1:y1,x2:y2}).subs(subs_eq)),eps)\n",
    "eqz=eq1.subs(Subs_cmplx_dict).simplify().expand()\n",
    "\n",
    "Subs_conjz={I:-I,zs:z,z:zs}\n",
    "eqz,eqz.subs(Subs_conjz,simultaneous=True)"
   ]
  },
  {
   "cell_type": "code",
   "execution_count": 4,
   "id": "443e1e70",
   "metadata": {},
   "outputs": [
    {
     "data": {
      "image/png": "[encoded data removed]",
      "text/latex": [
       "$\\displaystyle \\left( \\left\\{ z : \\varepsilon \\operatorname{h_{1}}{\\left(\\eta{\\left(t \\right)},\\eta_{s}{\\left(t \\right)} \\right)} + \\eta{\\left(t \\right)}, \\  zs : \\varepsilon \\operatorname{h_{s1}}{\\left(\\eta{\\left(t \\right)},\\eta_{s}{\\left(t \\right)} \\right)} + \\eta_{s}{\\left(t \\right)}\\right\\}, \\  \\left\\{ \\frac{d}{d t} \\eta{\\left(t \\right)} : \\varepsilon \\operatorname{g_{1}}{\\left(\\eta{\\left(t \\right)},\\eta_{s}{\\left(t \\right)} \\right)} + i \\eta{\\left(t \\right)}, \\  \\frac{d}{d t} \\eta_{s}{\\left(t \\right)} : \\varepsilon \\operatorname{g_{s1}}{\\left(\\eta{\\left(t \\right)},\\eta_{s}{\\left(t \\right)} \\right)} - i \\eta_{s}{\\left(t \\right)}\\right\\}\\right)$"
      ],
      "text/plain": [
       "⎛                                                                             \n",
       "⎜{z: varepsilon⋅h₁(η(t), ηₛ(t)) + η(t), zs: varepsilon⋅hₛ₁(η(t), ηₛ(t)) + ηₛ(t\n",
       "⎝                                                                             \n",
       "\n",
       "    ⎧d                                              d                         \n",
       ")}, ⎨──(η(t)): varepsilon⋅g₁(η(t), ηₛ(t)) + ⅈ⋅η(t), ──(ηₛ(t)): varepsilon⋅gₛ₁(\n",
       "    ⎩dt                                             dt                        \n",
       "\n",
       "                      ⎫⎞\n",
       "η(t), ηₛ(t)) - ⅈ⋅ηₛ(t)⎬⎟\n",
       "                      ⎭⎠"
      ]
     },
     "execution_count": 4,
     "metadata": {},
     "output_type": "execute_result"
    }
   ],
   "source": [
    "## Произведем разложение до 1 порядка\n",
    "Nexp=1\n",
    "Nrng=range(1,Nexp+1)\n",
    "\n",
    "t=symbols(\"t\",real=True)\n",
    "eta=Function(\"eta\",real=True)(t)\n",
    "ceta=Function(\"eta_s\",real=True)(t)\n",
    "\n",
    "h_lst =[1]+[Function(f'h{i}',real=True)(eta,ceta) for i in Nrng]\n",
    "ch_lst=[1]+[Function(f'h_s{i}',real=True)(eta,ceta) for i in Nrng]\n",
    "g_lst =[1]+[Function(f'g{i}')(eta,ceta) for i in Nrng]\n",
    "cg_lst=[1]+[Function(f'g_s{i}')(eta,ceta) for i in Nrng]\n",
    "\n",
    "Subs_z={z:eta+sum([eps**i*h_lst[i] for i in Nrng]),\\\n",
    "        zs:ceta+sum([eps**i*ch_lst[i] for i in Nrng])}\n",
    "        \n",
    "Subs_Deta={Derivative(eta,t):I*eta+sum([eps**i*g_lst[i] for i in Nrng]),\\\n",
    "           Derivative(ceta,t):-I*ceta+sum([eps**i*cg_lst[i] for i in Nrng])}\n",
    "\n",
    "Subs_conjeta={I:-I,eta:ceta,ceta:eta}\n",
    "Subs_z,Subs_Deta"
   ]
  },
  {
   "cell_type": "code",
   "execution_count": 5,
   "id": "623eebbb",
   "metadata": {},
   "outputs": [
    {
     "data": {
      "image/png": "[encoded data removed]",
      "text/latex": [
       "$\\displaystyle \\left( \\varepsilon \\left(i \\eta{\\left(t \\right)} \\frac{d}{d \\eta{\\left(t \\right)}} \\operatorname{h_{1}}{\\left(\\eta{\\left(t \\right)},\\eta_{s}{\\left(t \\right)} \\right)} - i \\eta_{s}{\\left(t \\right)} \\frac{d}{d \\eta_{s}{\\left(t \\right)}} \\operatorname{h_{1}}{\\left(\\eta{\\left(t \\right)},\\eta_{s}{\\left(t \\right)} \\right)} + \\operatorname{g_{1}}{\\left(\\eta{\\left(t \\right)},\\eta_{s}{\\left(t \\right)} \\right)}\\right) + i \\eta{\\left(t \\right)}, \\  \\varepsilon \\left(\\frac{i \\eta^{5}{\\left(t \\right)}}{2} + \\frac{5 i \\eta^{4}{\\left(t \\right)} \\eta_{s}{\\left(t \\right)}}{2} + 5 i \\eta^{3}{\\left(t \\right)} \\eta_{s}^{2}{\\left(t \\right)} + 5 i \\eta^{2}{\\left(t \\right)} \\eta_{s}^{3}{\\left(t \\right)} + \\frac{5 i \\eta{\\left(t \\right)} \\eta_{s}^{4}{\\left(t \\right)}}{2} + \\frac{i \\eta_{s}^{5}{\\left(t \\right)}}{2} + i \\operatorname{h_{1}}{\\left(\\eta{\\left(t \\right)},\\eta_{s}{\\left(t \\right)} \\right)}\\right) + i \\eta{\\left(t \\right)}\\right)$"
      ],
      "text/plain": [
       "⎛                                                                             \n",
       "⎜           ⎛         d                                d                      \n",
       "⎜varepsilon⋅⎜ⅈ⋅η(t)⋅─────(h₁(η(t), ηₛ(t))) - ⅈ⋅ηₛ(t)⋅──────(h₁(η(t), ηₛ(t))) +\n",
       "⎝           ⎝       dη(t)                            dηₛ(t)                   \n",
       "\n",
       "                                       ⎛   5           4                      \n",
       "                ⎞                      ⎜ⅈ⋅η (t)   5⋅ⅈ⋅η (t)⋅ηₛ(t)        3    \n",
       " g₁(η(t), ηₛ(t))⎟ + ⅈ⋅η(t), varepsilon⋅⎜─────── + ─────────────── + 5⋅ⅈ⋅η (t)⋅\n",
       "                ⎠                      ⎝   2             2                    \n",
       "\n",
       "                                       4          5                       ⎞   \n",
       "  2           2      3      5⋅ⅈ⋅η(t)⋅ηₛ (t)   ⅈ⋅ηₛ (t)                    ⎟   \n",
       "ηₛ (t) + 5⋅ⅈ⋅η (t)⋅ηₛ (t) + ─────────────── + ──────── + ⅈ⋅h₁(η(t), ηₛ(t))⎟ + \n",
       "                                   2             2                        ⎠   \n",
       "\n",
       "      ⎞\n",
       "      ⎟\n",
       "ⅈ⋅η(t)⎟\n",
       "      ⎠"
      ]
     },
     "execution_count": 5,
     "metadata": {},
     "output_type": "execute_result"
    }
   ],
   "source": [
    "# Вычисляем правую и левую часть уравнения\n",
    "LHS=series(Subs_z[z].diff(t).subs(Subs_Deta),eps,0,Nexp+1).removeO()\n",
    "RHS=series(eqz.subs(Subs_z),eps,0,Nexp+1).removeO()\n",
    "LHS,RHS"
   ]
  },
  {
   "cell_type": "code",
   "execution_count": 6,
   "id": "664fbbb3",
   "metadata": {},
   "outputs": [
    {
     "data": {
      "image/png": "[encoded data removed]",
      "text/latex": [
       "$\\displaystyle - \\frac{i \\eta^{5}{\\left(t \\right)}}{2} - \\frac{5 i \\eta^{4}{\\left(t \\right)} \\eta_{s}{\\left(t \\right)}}{2} - 5 i \\eta^{3}{\\left(t \\right)} \\eta_{s}^{2}{\\left(t \\right)} - 5 i \\eta^{2}{\\left(t \\right)} \\eta_{s}^{3}{\\left(t \\right)} - \\frac{5 i \\eta{\\left(t \\right)} \\eta_{s}^{4}{\\left(t \\right)}}{2} + i \\eta{\\left(t \\right)} \\frac{d}{d \\eta{\\left(t \\right)}} \\operatorname{h_{1}}{\\left(\\eta{\\left(t \\right)},\\eta_{s}{\\left(t \\right)} \\right)} - \\frac{i \\eta_{s}^{5}{\\left(t \\right)}}{2} - i \\eta_{s}{\\left(t \\right)} \\frac{d}{d \\eta_{s}{\\left(t \\right)}} \\operatorname{h_{1}}{\\left(\\eta{\\left(t \\right)},\\eta_{s}{\\left(t \\right)} \\right)} + \\operatorname{g_{1}}{\\left(\\eta{\\left(t \\right)},\\eta_{s}{\\left(t \\right)} \\right)} - i \\operatorname{h_{1}}{\\left(\\eta{\\left(t \\right)},\\eta_{s}{\\left(t \\right)} \\right)}$"
      ],
      "text/plain": [
       "     5           4                                                            \n",
       "  ⅈ⋅η (t)   5⋅ⅈ⋅η (t)⋅ηₛ(t)        3      2           2      3      5⋅ⅈ⋅η(t)⋅η\n",
       "- ─────── - ─────────────── - 5⋅ⅈ⋅η (t)⋅ηₛ (t) - 5⋅ⅈ⋅η (t)⋅ηₛ (t) - ──────────\n",
       "     2             2                                                       2  \n",
       "\n",
       " 4                                          5                                 \n",
       "ₛ (t)            d                      ⅈ⋅ηₛ (t)             d                \n",
       "───── + ⅈ⋅η(t)⋅─────(h₁(η(t), ηₛ(t))) - ──────── - ⅈ⋅ηₛ(t)⋅──────(h₁(η(t), ηₛ(\n",
       "               dη(t)                       2               dηₛ(t)             \n",
       "\n",
       "                                          \n",
       "                                          \n",
       "t))) + g₁(η(t), ηₛ(t)) - ⅈ⋅h₁(η(t), ηₛ(t))\n",
       "                                          "
      ]
     },
     "execution_count": 6,
     "metadata": {},
     "output_type": "execute_result"
    }
   ],
   "source": [
    "# Гомологическое уравнение 1 порядка\n",
    "HomEq1=(LHS-RHS).coeff(eps,1)\n",
    "HomEq1"
   ]
  },
  {
   "cell_type": "code",
   "execution_count": 7,
   "id": "3dc39d0d",
   "metadata": {},
   "outputs": [],
   "source": [
    "def MkHomogForm(ord,coefname,vars):\n",
    "    \"\"\"\n",
    "    Construct homogeneous form of order n from vars\n",
    "    \"\"\"\n",
    "    global coef_lst\n",
    "    coef_lst=[symbols(f'{coefname}{i}{ord-i}') for i in range(ord+1)]\n",
    "    form=sum([coef_lst[i]*vars[0]**i*vars[1]**(ord-i) for i in range(ord+1)])\n",
    "    return coef_lst,form\n",
    "\n",
    "def GetCoeffHomEq(homeq,ord,vars):\n",
    "    \"\"\"\n",
    "    Get coefficients from the homological equation which correspond to \n",
    "    homogeneous monomials of order ord in of vaiables vars\n",
    "    \"\"\"\n",
    "    return [homeq.coeff(vars[0]**i*vars[1]**(ord-i)) for i in range(ord+1)]"
   ]
  },
  {
   "cell_type": "code",
   "execution_count": 8,
   "id": "9c7d33ff",
   "metadata": {},
   "outputs": [
    {
     "data": {
      "image/png": "[encoded data removed]",
      "text/latex": [
       "$\\displaystyle \\left\\{ \\operatorname{h_{1}}{\\left(\\eta{\\left(t \\right)},\\eta_{s}{\\left(t \\right)} \\right)} : \\alpha_{103} \\eta_{s}^{3}{\\left(t \\right)} + \\alpha_{112} \\eta{\\left(t \\right)} \\eta_{s}^{2}{\\left(t \\right)} + \\alpha_{121} \\eta^{2}{\\left(t \\right)} \\eta_{s}{\\left(t \\right)} + \\alpha_{130} \\eta^{3}{\\left(t \\right)}, \\  \\operatorname{h_{s1}}{\\left(\\eta{\\left(t \\right)},\\eta_{s}{\\left(t \\right)} \\right)} : \\alpha_{103} \\eta^{3}{\\left(t \\right)} + \\alpha_{112} \\eta^{2}{\\left(t \\right)} \\eta_{s}{\\left(t \\right)} + \\alpha_{121} \\eta{\\left(t \\right)} \\eta_{s}^{2}{\\left(t \\right)} + \\alpha_{130} \\eta_{s}^{3}{\\left(t \\right)}\\right\\}$"
      ],
      "text/plain": [
       "⎧                        3                  2            2                  3 \n",
       "⎨h₁(η(t), ηₛ(t)): α₁₀₃⋅ηₛ (t) + α₁₁₂⋅η(t)⋅ηₛ (t) + α₁₂₁⋅η (t)⋅ηₛ(t) + α₁₃₀⋅η (\n",
       "⎩                                                                             \n",
       "\n",
       "                            3            2                        2           \n",
       "t), hₛ₁(η(t), ηₛ(t)): α₁₀₃⋅η (t) + α₁₁₂⋅η (t)⋅ηₛ(t) + α₁₂₁⋅η(t)⋅ηₛ (t) + α₁₃₀⋅\n",
       "                                                                              \n",
       "\n",
       "  3   ⎫\n",
       "ηₛ (t)⎬\n",
       "      ⎭"
      ]
     },
     "execution_count": 8,
     "metadata": {},
     "output_type": "execute_result"
    }
   ],
   "source": [
    "# Рассматриваем h_i в виде однородной формы 3 степени\n",
    "alpha1_lst,h1subs = MkHomogForm(3,'alpha1',[eta,ceta])\n",
    "Subs_h={h_lst[1]:h1subs}\n",
    "Subs_h.update({ch_lst[1]:Subs_h[h_lst[1]].subs(Subs_conjeta,simultaneous=True)})\n",
    "Subs_h"
   ]
  },
  {
   "cell_type": "code",
   "execution_count": 9,
   "id": "073046d7",
   "metadata": {},
   "outputs": [
    {
     "data": {
      "image/png": "[encoded data removed]",
      "text/latex": [
       "$\\displaystyle - 4 i \\alpha_{103} \\eta_{s}^{3}{\\left(t \\right)} - 2 i \\alpha_{112} \\eta{\\left(t \\right)} \\eta_{s}^{2}{\\left(t \\right)} + 2 i \\alpha_{130} \\eta^{3}{\\left(t \\right)} - \\frac{i \\eta^{5}{\\left(t \\right)}}{2} - \\frac{5 i \\eta^{4}{\\left(t \\right)} \\eta_{s}{\\left(t \\right)}}{2} - 5 i \\eta^{3}{\\left(t \\right)} \\eta_{s}^{2}{\\left(t \\right)} - 5 i \\eta^{2}{\\left(t \\right)} \\eta_{s}^{3}{\\left(t \\right)} - \\frac{5 i \\eta{\\left(t \\right)} \\eta_{s}^{4}{\\left(t \\right)}}{2} - \\frac{i \\eta_{s}^{5}{\\left(t \\right)}}{2} + \\operatorname{g_{1}}{\\left(\\eta{\\left(t \\right)},\\eta_{s}{\\left(t \\right)} \\right)}$"
      ],
      "text/plain": [
       "                                                               5           4  \n",
       "             3                      2                3      ⅈ⋅η (t)   5⋅ⅈ⋅η (t\n",
       "- 4⋅ⅈ⋅α₁₀₃⋅ηₛ (t) - 2⋅ⅈ⋅α₁₁₂⋅η(t)⋅ηₛ (t) + 2⋅ⅈ⋅α₁₃₀⋅η (t) - ─────── - ────────\n",
       "                                                               2             2\n",
       "\n",
       "                                                           4          5       \n",
       ")⋅ηₛ(t)        3      2           2      3      5⋅ⅈ⋅η(t)⋅ηₛ (t)   ⅈ⋅ηₛ (t)    \n",
       "─────── - 5⋅ⅈ⋅η (t)⋅ηₛ (t) - 5⋅ⅈ⋅η (t)⋅ηₛ (t) - ─────────────── - ──────── + g\n",
       "                                                       2             2        \n",
       "\n",
       "              \n",
       "              \n",
       "₁(η(t), ηₛ(t))\n",
       "              "
      ]
     },
     "execution_count": 9,
     "metadata": {},
     "output_type": "execute_result"
    }
   ],
   "source": [
    "# Подставляем в гомологическую форму h_1\n",
    "SubsHomEq1=collect((HomEq1.subs(Subs_h)).doit().expand(),[eta,ceta],exact=True).expand()\n",
    "SubsHomEq1"
   ]
  },
  {
   "cell_type": "code",
   "execution_count": 10,
   "id": "1cb57af3",
   "metadata": {},
   "outputs": [
    {
     "data": {
      "image/png": "[encoded data removed]",
      "text/latex": [
       "$\\displaystyle \\left( \\left\\{ \\alpha_{103} : - \\frac{5 \\eta^{2}{\\left(t \\right)}}{4}, \\  \\alpha_{112} : 0, \\  \\alpha_{130} : \\frac{5 \\eta_{s}^{2}{\\left(t \\right)}}{2}\\right\\}, \\  \\left[ \\left\\{ \\operatorname{g_{1}}{\\left(\\eta{\\left(t \\right)},\\eta_{s}{\\left(t \\right)} \\right)} : \\frac{i \\left(\\eta^{5}{\\left(t \\right)} + 5 \\eta^{4}{\\left(t \\right)} \\eta_{s}{\\left(t \\right)} + 5 \\eta{\\left(t \\right)} \\eta_{s}^{4}{\\left(t \\right)} + \\eta_{s}^{5}{\\left(t \\right)}\\right)}{2}\\right\\}\\right]\\right)$"
      ],
      "text/plain": [
       "⎛⎧          2                         2   ⎫  ⎡⎧                   ⎛ 5         \n",
       "⎜⎪      -5⋅η (t)                  5⋅ηₛ (t)⎪  ⎢⎪                 ⅈ⋅⎝η (t) + 5⋅η\n",
       "⎜⎨α₁₀₃: ─────────, α₁₁₂: 0, α₁₃₀: ────────⎬, ⎢⎨g₁(η(t), ηₛ(t)): ──────────────\n",
       "⎜⎪          4                        2    ⎪  ⎢⎪                               \n",
       "⎝⎩                                        ⎭  ⎣⎩                               \n",
       "\n",
       "4                     4        5   ⎞⎫⎤⎞\n",
       " (t)⋅ηₛ(t) + 5⋅η(t)⋅ηₛ (t) + ηₛ (t)⎠⎪⎥⎟\n",
       "────────────────────────────────────⎬⎥⎟\n",
       "          2                         ⎪⎥⎟\n",
       "                                    ⎭⎦⎠"
      ]
     },
     "execution_count": 10,
     "metadata": {},
     "output_type": "execute_result"
    }
   ],
   "source": [
    "# Получаем коэффиценты гомологического уравнения\n",
    "h1_lst=GetCoeffHomEq(SubsHomEq1,3,[eta,ceta])\n",
    "\n",
    "# Находим эти коэффиценты решая уравнение\n",
    "Subs_alph1=solve(h1_lst,alpha1_lst)\n",
    "\n",
    "Eq_g1=SubsHomEq1.subs(Subs_alph1).simplify()\n",
    "Subs_alph1, solve(Eq_g1,g_lst[1],dict=True)"
   ]
  },
  {
   "cell_type": "code",
   "execution_count": 11,
   "id": "e776836f",
   "metadata": {},
   "outputs": [
    {
     "data": {
      "image/png": "[encoded data removed]",
      "text/latex": [
       "$\\displaystyle \\left\\{ \\alpha_{103} : - \\frac{5 \\eta^{2}{\\left(t \\right)}}{4}, \\  \\alpha_{112} : 0, \\  \\alpha_{121} : 0, \\  \\alpha_{130} : \\frac{5 \\eta_{s}^{2}{\\left(t \\right)}}{2}\\right\\}$"
      ],
      "text/plain": [
       "⎧          2                                  2   ⎫\n",
       "⎪      -5⋅η (t)                           5⋅ηₛ (t)⎪\n",
       "⎨α₁₀₃: ─────────, α₁₁₂: 0, α₁₂₁: 0, α₁₃₀: ────────⎬\n",
       "⎪          4                                 2    ⎪\n",
       "⎩                                                 ⎭"
      ]
     },
     "execution_count": 11,
     "metadata": {},
     "output_type": "execute_result"
    }
   ],
   "source": [
    "Subs_alph1.update({alpha1_lst[2]:0})\n",
    "Subs_alph1"
   ]
  },
  {
   "cell_type": "code",
   "execution_count": 12,
   "id": "53c57894",
   "metadata": {},
   "outputs": [
    {
     "data": {
      "image/png": "[encoded data removed]",
      "text/latex": [
       "$\\displaystyle \\left( \\left\\{ \\operatorname{h_{1}}{\\left(\\eta{\\left(t \\right)},\\eta_{s}{\\left(t \\right)} \\right)} : \\frac{5 \\eta^{3}{\\left(t \\right)} \\eta_{s}^{2}{\\left(t \\right)}}{2} - \\frac{5 \\eta^{2}{\\left(t \\right)} \\eta_{s}^{3}{\\left(t \\right)}}{4}, \\  \\operatorname{h_{s1}}{\\left(\\eta{\\left(t \\right)},\\eta_{s}{\\left(t \\right)} \\right)} : - \\frac{5 \\eta^{5}{\\left(t \\right)}}{4} + \\frac{5 \\eta_{s}^{5}{\\left(t \\right)}}{2}\\right\\}, \\  \\left\\{ \\operatorname{g_{1}}{\\left(\\eta{\\left(t \\right)},\\eta_{s}{\\left(t \\right)} \\right)} : \\frac{i \\left(\\eta^{5}{\\left(t \\right)} + 5 \\eta^{4}{\\left(t \\right)} \\eta_{s}{\\left(t \\right)} + 5 \\eta{\\left(t \\right)} \\eta_{s}^{4}{\\left(t \\right)} + \\eta_{s}^{5}{\\left(t \\right)}\\right)}{2}, \\  \\operatorname{g_{s1}}{\\left(\\eta{\\left(t \\right)},\\eta_{s}{\\left(t \\right)} \\right)} : - \\frac{i \\left(\\eta^{5}{\\left(t \\right)} + 5 \\eta^{4}{\\left(t \\right)} \\eta_{s}{\\left(t \\right)} + 5 \\eta{\\left(t \\right)} \\eta_{s}^{4}{\\left(t \\right)} + \\eta_{s}^{5}{\\left(t \\right)}\\right)}{2}\\right\\}\\right)$"
      ],
      "text/plain": [
       "⎛⎧                    3      2         2      3                            5  \n",
       "⎜⎪                 5⋅η (t)⋅ηₛ (t)   5⋅η (t)⋅ηₛ (t)                      5⋅η (t\n",
       "⎜⎨h₁(η(t), ηₛ(t)): ────────────── - ──────────────, hₛ₁(η(t), ηₛ(t)): - ──────\n",
       "⎜⎪                       2                4                                4  \n",
       "⎝⎩                                                                            \n",
       "\n",
       "        5   ⎫  ⎧                   ⎛ 5         4                     4        \n",
       ")   5⋅ηₛ (t)⎪  ⎪                 ⅈ⋅⎝η (t) + 5⋅η (t)⋅ηₛ(t) + 5⋅η(t)⋅ηₛ (t) + ηₛ\n",
       "─ + ────────⎬, ⎨g₁(η(t), ηₛ(t)): ─────────────────────────────────────────────\n",
       "       2    ⎪  ⎪                                         2                    \n",
       "            ⎭  ⎩                                                              \n",
       "\n",
       "5   ⎞                       ⎛ 5         4                     4        5   ⎞ ⎫\n",
       " (t)⎠                    -ⅈ⋅⎝η (t) + 5⋅η (t)⋅ηₛ(t) + 5⋅η(t)⋅ηₛ (t) + ηₛ (t)⎠ ⎪\n",
       "─────, gₛ₁(η(t), ηₛ(t)): ────────────────────────────────────────────────────⎬\n",
       "                                                  2                          ⎪\n",
       "                                                                             ⎭\n",
       "\n",
       "⎞\n",
       "⎟\n",
       "⎟\n",
       "⎟\n",
       "⎠"
      ]
     },
     "execution_count": 12,
     "metadata": {},
     "output_type": "execute_result"
    }
   ],
   "source": [
    "# Вычиляем h1 и g1\n",
    "for h in Subs_h.keys():\n",
    "    Subs_h[h]=Subs_h[h].subs(Subs_alph1, simultaneous=True)\n",
    "Subs_g=solve(Eq_g1,g_lst[1],dict=True)[0]#dict()\n",
    "Subs_g.update({cg_lst[1]:Subs_g[g_lst[1]].subs(Subs_conjeta,simultaneous=True)})\n",
    "Subs_h,Subs_g"
   ]
  },
  {
   "cell_type": "code",
   "execution_count": 13,
   "id": "20657a03",
   "metadata": {},
   "outputs": [
    {
     "data": {
      "image/png": "[encoded data removed]",
      "text/latex": [
       "$\\displaystyle \\frac{i \\varepsilon \\left(\\eta^{5}{\\left(t \\right)} + 5 \\eta^{4}{\\left(t \\right)} \\eta_{s}{\\left(t \\right)} + 5 \\eta{\\left(t \\right)} \\eta_{s}^{4}{\\left(t \\right)} + \\eta_{s}^{5}{\\left(t \\right)}\\right)}{2} + i \\eta{\\left(t \\right)}$"
      ],
      "text/plain": [
       "             ⎛ 5         4                     4        5   ⎞         \n",
       "ⅈ⋅varepsilon⋅⎝η (t) + 5⋅η (t)⋅ηₛ(t) + 5⋅η(t)⋅ηₛ (t) + ηₛ (t)⎠         \n",
       "───────────────────────────────────────────────────────────── + ⅈ⋅η(t)\n",
       "                              2                                       "
      ]
     },
     "execution_count": 13,
     "metadata": {},
     "output_type": "execute_result"
    }
   ],
   "source": [
    "# Получаем нормальную форму\n",
    "NF_eta=Subs_Deta[Derivative(eta,t)].subs(Subs_g)\n",
    "NF_eta"
   ]
  },
  {
   "cell_type": "code",
   "execution_count": 14,
   "id": "1ad70087",
   "metadata": {},
   "outputs": [
    {
     "data": {
      "image/png": "[encoded data removed]",
      "text/latex": [
       "$\\displaystyle i \\varepsilon \\left(\\frac{e^{5 i \\varphi{\\left(t \\right)}}}{2} + \\frac{5 e^{3 i \\varphi{\\left(t \\right)}}}{2} + \\frac{5 e^{- 3 i \\varphi{\\left(t \\right)}}}{2} + \\frac{e^{- 5 i \\varphi{\\left(t \\right)}}}{2}\\right) \\rho^{5}{\\left(t \\right)} + i \\rho{\\left(t \\right)} e^{i \\varphi{\\left(t \\right)}}$"
      ],
      "text/plain": [
       "             ⎛ 5⋅ⅈ⋅varphi(t)      3⋅ⅈ⋅varphi(t)      -3⋅ⅈ⋅varphi(t)    -5⋅ⅈ⋅va\n",
       "             ⎜ℯ                5⋅ℯ                5⋅ℯ                 ℯ       \n",
       "ⅈ⋅varepsilon⋅⎜────────────── + ──────────────── + ───────────────── + ────────\n",
       "             ⎝      2                 2                   2                  2\n",
       "\n",
       "rphi(t)⎞                            \n",
       "       ⎟  5              ⅈ⋅varphi(t)\n",
       "───────⎟⋅ρ (t) + ⅈ⋅ρ(t)⋅ℯ           \n",
       "       ⎠                            "
      ]
     },
     "execution_count": 14,
     "metadata": {},
     "output_type": "execute_result"
    }
   ],
   "source": [
    "# Получаемы 1 поправки в частоте\n",
    "from sympy import exp\n",
    "rho=Function('rho',real=True)(t)\n",
    "phi=Function('varphi',real=True)(t)\n",
    "subs_polar = {\n",
    "    eta  : rho*sym.exp( sym.I*phi), \n",
    "    ceta : rho*sym.exp(-sym.I*phi)\n",
    "}\n",
    "\n",
    "NF_eta.subs(subs_polar).expand().collect(rho**5*sym.I*eps)"
   ]
  }
 ],
 "metadata": {
  "kernelspec": {
   "display_name": "Python 3 (ipykernel)",
   "language": "python",
   "name": "python3"
  },
  "language_info": {
   "codemirror_mode": {
    "name": "ipython",
    "version": 3
   },
   "file_extension": ".py",
   "mimetype": "text/x-python",
   "name": "python",
   "nbconvert_exporter": "python",
   "pygments_lexer": "ipython3",
   "version": "3.10.2"
  }
 },
 "nbformat": 4,
 "nbformat_minor": 5
}

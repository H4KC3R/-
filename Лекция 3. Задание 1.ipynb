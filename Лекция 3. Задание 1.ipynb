{
 "cells": [
  {
   "cell_type": "code",
   "execution_count": 1,
   "id": "c178a6a6",
   "metadata": {},
   "outputs": [],
   "source": [
    "import numpy as np\n",
    "from scipy.spatial import ConvexHull,convex_hull_plot_2d\n",
    "import matplotlib.pyplot as plt\n",
    "import sympy as sym\n",
    "from sympy import symbols, Function, Eq, solve, I, collect, expand, simplify,\\\n",
    "                  Derivative, init_printing, series, evaluate, Poly\n",
    "\n",
    "init_printing() # Для красивой печати\n",
    "\n",
    "x,y = symbols(\"x y\",real=True) # переменные по умолчанию\n",
    "epsilon=symbols('varepsilon')"
   ]
  },
  {
   "cell_type": "code",
   "execution_count": 2,
   "id": "70e88d04",
   "metadata": {},
   "outputs": [],
   "source": [
    "def SCH(f,varlst=(x,y)):\n",
    "    if not isinstance(f,Poly): fpoly = Poly(f,varlst)\n",
    "    else: fpoly = f\n",
    "    support=np.array([[x,y] for x,y in fpoly.monoms()],dtype=np.int32)\n",
    "    CH=ConvexHull(support)\n",
    "    #print(support[CH.vertices])\n",
    "    return support,CH\n",
    "\n",
    "def Normlst(CH,S):\n",
    "    eps = 10**(-7)\n",
    "    edgelst = CH.simplices\n",
    "    eqnlst = CH.equations\n",
    "    #midpntlst = np.array([(S[edge[0]]+S[edge[1]])/2 for edge in edgelst],dtype=np.float64)\n",
    "    normlst = []\n",
    "    for eq in eqnlst:\n",
    "        if np.abs(eq[0]*eq[1])>eps:\n",
    "            coordmin = np.min(np.abs(eq[:-1]))\n",
    "            normlst.append(eq/coordmin)\n",
    "        else:\n",
    "            normlst.append(eq)\n",
    "    normlst = np.array(normlst,dtype=np.int32)\n",
    "    return normlst #list(zip(normlst,midpntlst))\n",
    "\n",
    "def GetTrunc(f,edgenum,varlst=(x,y)):\n",
    "    eps = 10**(-7)\n",
    "    if not isinstance(f,Poly): fpoly = Poly(f,varlst)\n",
    "    else: fpoly = f\n",
    "    support,CH = SCH(fpoly,varlst)\n",
    "    if edgenum >= len(CH.equations): return Null\n",
    "    else: eqcoeffs = CH.equations[edgenum]\n",
    "    eq = lambda p,q: eqcoeffs[0]*p+eqcoeffs[1]*q+eqcoeffs[2]\n",
    "    monomlst = [fpoly.coeff_monomial((p,q))*varlst[0]**p*varlst[1]**q for (p,q) in\\\n",
    "               fpoly.monoms() if np.abs(eq(p,q))<eps]\n",
    "    return sum(monomlst)\n",
    "\n",
    "def NPimage(CH,S,ecol=\"k\",vcol=\"b\"):\n",
    "    def getlimits(S):\n",
    "        npS = np.array(S,dtype=np.int32)\n",
    "        return np.array([np.min(npS[:,0]),np.max(npS[:,0]),np.min(npS[:,1]),\\\n",
    "                         np.max(npS[:,1])],dtype=np.int32)\n",
    "    delta = 0.4\n",
    "    polylimits = getlimits(S)\n",
    "    enlarge = np.array([-delta,delta,-delta,delta],dtype=np.float64)\n",
    "    \n",
    "    fig = plt.figure(figsize=(6,6))\n",
    "    ax = fig.add_subplot(1,1,1)\n",
    "    ax.axis('square')\n",
    "    ax.axis(polylimits+enlarge)\n",
    "    majorx_ticks = np.arange(polylimits[0],polylimits[1]+1,1)\n",
    "    majory_ticks = np.arange(polylimits[2],polylimits[3]+1,1)\n",
    "    ax.set_xticks(majorx_ticks)\n",
    "    ax.set_yticks(majory_ticks)\n",
    "    ax.grid(which='major',color=\"grey\",linestyle='-',lw=1,alpha=0.5)\n",
    "    ax.set_xlabel(\"$q_1$\",fontsize=16)\n",
    "    ax.set_ylabel(\"$q_2$\",fontsize=16,rotation=0)\n",
    "    for i,edge in enumerate(CH.simplices):\n",
    "        ax.plot(S[edge,0], S[edge,1],ecol+'-', lw=2)\n",
    "    ax.plot(S[:,0], S[:,1], vcol+'o')\n",
    "    return ax\n",
    "\n",
    "def AddEdgeLabel(ax,support,CH,normlst,edgenum,text,shift=0.25):\n",
    "    midpnt = (support[CH.simplices[edgenum][0]]+support[CH.simplices[edgenum][1]])/2\n",
    "    lblpos = midpnt+shift*normlst[edgenum][:-1]\n",
    "    ax.text(*lblpos,text,fontsize=16)#,position=lblpos)"
   ]
  },
  {
   "cell_type": "markdown",
   "id": "f6a5a654",
   "metadata": {},
   "source": [
    "$x^2 + 2\\varepsilon x - 1 = 0$"
   ]
  },
  {
   "cell_type": "code",
   "execution_count": 3,
   "id": "9dc856f0",
   "metadata": {},
   "outputs": [
    {
     "data": {
      "image/png": "[encoded data removed]",
      "text/latex": [
       "$\\displaystyle 2 \\varepsilon x + x^{2} - 1$"
      ],
      "text/plain": [
       "                  2    \n",
       "2⋅varepsilon⋅x + x  - 1"
      ]
     },
     "execution_count": 3,
     "metadata": {},
     "output_type": "execute_result"
    }
   ],
   "source": [
    "eq = x**2 + 2*epsilon*x - 1 # Исходное уравнение\n",
    "eq"
   ]
  },
  {
   "cell_type": "code",
   "execution_count": 4,
   "id": "5c4d4005",
   "metadata": {},
   "outputs": [
    {
     "data": {
      "text/plain": [
       "[(0, array([ 0, -1,  0])), (1, array([-1,  1,  0])), (2, array([ 1,  1, -2]))]"
      ]
     },
     "execution_count": 4,
     "metadata": {},
     "output_type": "execute_result"
    }
   ],
   "source": [
    "S,C = SCH(eq,[x,epsilon])\n",
    "normlst = Normlst(C,S)\n",
    "[(i,normal) for i,normal in enumerate(normlst)]"
   ]
  },
  {
   "cell_type": "code",
   "execution_count": 5,
   "id": "615dacdd",
   "metadata": {},
   "outputs": [
    {
     "data": {
      "image/png": "[encoded data removed]",
      "text/plain": [
       "<Figure size 432x432 with 1 Axes>"
      ]
     },
     "metadata": {
      "needs_background": "light"
     },
     "output_type": "display_data"
    }
   ],
   "source": [
    "# Изобразим многоугольник и отметим ребро с отрицательной нормалью\n",
    "ax1 = NPimage(C,S)\n",
    "AddEdgeLabel(ax1,S,C,normlst,0,r'$\\Gamma_0^{(1)}$', 0.15)\n",
    "plt.show()"
   ]
  },
  {
   "cell_type": "code",
   "execution_count": 6,
   "id": "2bc5d5cb",
   "metadata": {},
   "outputs": [
    {
     "data": {
      "image/png": "[encoded data removed]",
      "text/latex": [
       "$\\displaystyle \\left(x - 1\\right) \\left(x + 1\\right)$"
      ],
      "text/plain": [
       "(x - 1)⋅(x + 1)"
      ]
     },
     "execution_count": 6,
     "metadata": {},
     "output_type": "execute_result"
    }
   ],
   "source": [
    "f1 = GetTrunc(eq,0,[x,epsilon]).factor()\n",
    "f1"
   ]
  },
  {
   "cell_type": "code",
   "execution_count": 7,
   "id": "05e15196",
   "metadata": {},
   "outputs": [
    {
     "data": {
      "image/png": "[encoded data removed]",
      "text/latex": [
       "$\\displaystyle \\left[ -1, \\  1\\right]$"
      ],
      "text/plain": [
       "[-1, 1]"
      ]
     },
     "execution_count": 7,
     "metadata": {},
     "output_type": "execute_result"
    }
   ],
   "source": [
    "sol1 = solve(f1,x) \n",
    "sol1"
   ]
  },
  {
   "cell_type": "code",
   "execution_count": 8,
   "id": "90fabc77",
   "metadata": {},
   "outputs": [
    {
     "data": {
      "image/png": "[encoded data removed]",
      "text/latex": [
       "$\\displaystyle \\left[ - 2 \\varepsilon, \\  2 \\varepsilon\\right]$"
      ],
      "text/plain": [
       "[-2⋅varepsilon, 2⋅varepsilon]"
      ]
     },
     "execution_count": 8,
     "metadata": {},
     "output_type": "execute_result"
    }
   ],
   "source": [
    "[eq.subs(x,sol1[0]), eq.subs(x, sol1[1])]"
   ]
  },
  {
   "cell_type": "markdown",
   "id": "b54a3e6e",
   "metadata": {},
   "source": [
    "Нулевому ребру соответствует многочлен $-x^2-1$, тогда начальное приближение корня есть $x_0=\\pm1$\n"
   ]
  },
  {
   "cell_type": "markdown",
   "id": "ac60eb1f",
   "metadata": {},
   "source": [
    "$ \\varepsilon x^2 + 2x - 1 = 0$"
   ]
  },
  {
   "cell_type": "code",
   "execution_count": 9,
   "id": "4c23837f",
   "metadata": {},
   "outputs": [
    {
     "data": {
      "image/png": "[encoded data removed]",
      "text/latex": [
       "$\\displaystyle \\varepsilon x^{2} + 2 x - 1$"
      ],
      "text/plain": [
       "            2          \n",
       "varepsilon⋅x  + 2⋅x - 1"
      ]
     },
     "execution_count": 9,
     "metadata": {},
     "output_type": "execute_result"
    }
   ],
   "source": [
    "eq2 = epsilon * x**2 + 2*x - 1 # Исходное уравнение\n",
    "eq2"
   ]
  },
  {
   "cell_type": "code",
   "execution_count": 10,
   "id": "52420e5f",
   "metadata": {},
   "outputs": [
    {
     "data": {
      "text/plain": [
       "[(0, array([-1,  2,  0])), (1, array([ 0, -1,  0])), (2, array([ 1, -1, -1]))]"
      ]
     },
     "execution_count": 10,
     "metadata": {},
     "output_type": "execute_result"
    }
   ],
   "source": [
    "S,C = SCH(eq2,[x,epsilon])\n",
    "normlst = Normlst(C,S)\n",
    "[(i,normal) for i,normal in enumerate(normlst)]"
   ]
  },
  {
   "cell_type": "code",
   "execution_count": 11,
   "id": "6bdc9851",
   "metadata": {},
   "outputs": [
    {
     "data": {
      "image/png": "[encoded data removed]",
      "text/plain": [
       "<Figure size 432x432 with 1 Axes>"
      ]
     },
     "metadata": {
      "needs_background": "light"
     },
     "output_type": "display_data"
    }
   ],
   "source": [
    "# Изобразим многоугольник и отметим ребро с отрицательной нормалью\n",
    "ax1 = NPimage(C,S)\n",
    "AddEdgeLabel(ax1,S,C,normlst,1,r'$\\Gamma_1^{(1)}$', 0.15)\n",
    "AddEdgeLabel(ax1,S,C,normlst,2,r'$\\Gamma_2^{(1)}$', 0.15)\n",
    "plt.show()"
   ]
  },
  {
   "cell_type": "code",
   "execution_count": 12,
   "id": "5c7b6e52",
   "metadata": {},
   "outputs": [
    {
     "data": {
      "image/png": "[encoded data removed]",
      "text/latex": [
       "$\\displaystyle 2 x - 1$"
      ],
      "text/plain": [
       "2⋅x - 1"
      ]
     },
     "execution_count": 12,
     "metadata": {},
     "output_type": "execute_result"
    }
   ],
   "source": [
    "f1 = GetTrunc(eq2,1,[x,epsilon]).factor()\n",
    "f1"
   ]
  },
  {
   "cell_type": "code",
   "execution_count": 13,
   "id": "e282192e",
   "metadata": {},
   "outputs": [
    {
     "data": {
      "image/png": "[encoded data removed]",
      "text/latex": [
       "$\\displaystyle x \\left(2 \\varepsilon + x\\right)$"
      ],
      "text/plain": [
       "x⋅(2⋅varepsilon + x)"
      ]
     },
     "execution_count": 13,
     "metadata": {},
     "output_type": "execute_result"
    }
   ],
   "source": [
    "f2 = GetTrunc(eq,2,[x,epsilon]).factor()\n",
    "f2"
   ]
  },
  {
   "cell_type": "code",
   "execution_count": 14,
   "id": "1b80eab3",
   "metadata": {},
   "outputs": [
    {
     "data": {
      "image/png": "[encoded data removed]",
      "text/latex": [
       "$\\displaystyle \\left[ \\frac{1}{2}\\right]$"
      ],
      "text/plain": [
       "[1/2]"
      ]
     },
     "execution_count": 14,
     "metadata": {},
     "output_type": "execute_result"
    }
   ],
   "source": [
    "sol1 = solve(f1,x) \n",
    "sol1"
   ]
  },
  {
   "cell_type": "code",
   "execution_count": 15,
   "id": "46a95388",
   "metadata": {},
   "outputs": [
    {
     "data": {
      "image/png": "[encoded data removed]",
      "text/latex": [
       "$\\displaystyle \\left[ 0, \\  - 2 \\varepsilon\\right]$"
      ],
      "text/plain": [
       "[0, -2⋅varepsilon]"
      ]
     },
     "execution_count": 15,
     "metadata": {},
     "output_type": "execute_result"
    }
   ],
   "source": [
    "sol2 = solve(f2,x) \n",
    "sol2"
   ]
  },
  {
   "cell_type": "markdown",
   "id": "fb94b7ab",
   "metadata": {},
   "source": [
    "Первому ребру соответствует многочлен $2{\\varepsilon}x-1$, тогда начальное приближение корня есть $x_0=\\frac{1}{2}$\n",
    "\n",
    "Второму ребру соответствует многочлен $x(2\\varepsilon + x)$, тогда начальное приближение корня есть $x_0= -2\\varepsilon$"
   ]
  },
  {
   "cell_type": "markdown",
   "id": "879836ef",
   "metadata": {},
   "source": [
    "$\\varepsilon{x^3} - 3x + 1 = 0$"
   ]
  },
  {
   "cell_type": "code",
   "execution_count": 16,
   "id": "0d32b5ec",
   "metadata": {},
   "outputs": [
    {
     "data": {
      "image/png": "[encoded data removed]",
      "text/latex": [
       "$\\displaystyle \\varepsilon x^{3} - 3 x + 1$"
      ],
      "text/plain": [
       "            3          \n",
       "varepsilon⋅x  - 3⋅x + 1"
      ]
     },
     "execution_count": 16,
     "metadata": {},
     "output_type": "execute_result"
    }
   ],
   "source": [
    "eq3=epsilon*x**3-3*x+1 # Исходное уравнение\n",
    "eq3"
   ]
  },
  {
   "cell_type": "code",
   "execution_count": 17,
   "id": "e5467a53",
   "metadata": {},
   "outputs": [
    {
     "data": {
      "text/plain": [
       "[(0, array([-1,  3,  0])), (1, array([ 0, -1,  0])), (2, array([ 1, -2, -1]))]"
      ]
     },
     "execution_count": 17,
     "metadata": {},
     "output_type": "execute_result"
    }
   ],
   "source": [
    "S,C = SCH(eq3,[x,epsilon])\n",
    "normlst = Normlst(C,S)\n",
    "[(i,normal) for i,normal in enumerate(normlst)]"
   ]
  },
  {
   "cell_type": "code",
   "execution_count": 18,
   "id": "5fbfdf31",
   "metadata": {},
   "outputs": [
    {
     "data": {
      "image/png": "[encoded data removed]",
      "text/plain": [
       "<Figure size 432x432 with 1 Axes>"
      ]
     },
     "metadata": {
      "needs_background": "light"
     },
     "output_type": "display_data"
    }
   ],
   "source": [
    "# Изобразим многоугольник и отметим ребро с отрицательной нормалью\n",
    "ax1 = NPimage(C,S)\n",
    "AddEdgeLabel(ax1,S,C,normlst,1,r'$\\Gamma_1^{(1)}$', 0.25)\n",
    "AddEdgeLabel(ax1,S,C,normlst,2,r'$\\Gamma_2^{(1)}$', 0.15)\n",
    "plt.show()"
   ]
  },
  {
   "cell_type": "code",
   "execution_count": 19,
   "id": "adb52448",
   "metadata": {},
   "outputs": [
    {
     "data": {
      "image/png": "[encoded data removed]",
      "text/latex": [
       "$\\displaystyle 1 - 3 x$"
      ],
      "text/plain": [
       "1 - 3⋅x"
      ]
     },
     "execution_count": 19,
     "metadata": {},
     "output_type": "execute_result"
    }
   ],
   "source": [
    "f3 = GetTrunc(eq3,1,[x,epsilon])\n",
    "f3"
   ]
  },
  {
   "cell_type": "code",
   "execution_count": 20,
   "id": "5226efd3",
   "metadata": {},
   "outputs": [
    {
     "data": {
      "image/png": "[encoded data removed]",
      "text/latex": [
       "$\\displaystyle \\varepsilon x^{3} - 3 x$"
      ],
      "text/plain": [
       "            3      \n",
       "varepsilon⋅x  - 3⋅x"
      ]
     },
     "execution_count": 20,
     "metadata": {},
     "output_type": "execute_result"
    }
   ],
   "source": [
    "f4 = GetTrunc(eq3,2,[x,epsilon])\n",
    "f4"
   ]
  },
  {
   "cell_type": "code",
   "execution_count": 21,
   "id": "a01d88d9",
   "metadata": {},
   "outputs": [
    {
     "data": {
      "image/png": "[encoded data removed]",
      "text/latex": [
       "$\\displaystyle \\left[ \\frac{1}{3}\\right]$"
      ],
      "text/plain": [
       "[1/3]"
      ]
     },
     "execution_count": 21,
     "metadata": {},
     "output_type": "execute_result"
    }
   ],
   "source": [
    "sol1 = solve(f3,x) \n",
    "sol1"
   ]
  },
  {
   "cell_type": "code",
   "execution_count": 22,
   "id": "d52590bd",
   "metadata": {},
   "outputs": [
    {
     "data": {
      "image/png": "[encoded data removed]",
      "text/latex": [
       "$\\displaystyle \\left[ 0, \\  - \\sqrt{3} \\sqrt{\\frac{1}{\\varepsilon}}, \\  \\sqrt{3} \\sqrt{\\frac{1}{\\varepsilon}}\\right]$"
      ],
      "text/plain": [
       "⎡           ____________         ____________⎤\n",
       "⎢          ╱     1              ╱     1      ⎥\n",
       "⎢0, -√3⋅  ╱  ────────── , √3⋅  ╱  ────────── ⎥\n",
       "⎣       ╲╱   varepsilon      ╲╱   varepsilon ⎦"
      ]
     },
     "execution_count": 22,
     "metadata": {},
     "output_type": "execute_result"
    }
   ],
   "source": [
    "sol2 = solve(f4,x) \n",
    "sol2"
   ]
  }
 ],
 "metadata": {
  "kernelspec": {
   "display_name": "Python 3 (ipykernel)",
   "language": "python",
   "name": "python3"
  },
  "language_info": {
   "codemirror_mode": {
    "name": "ipython",
    "version": 3
   },
   "file_extension": ".py",
   "mimetype": "text/x-python",
   "name": "python",
   "nbconvert_exporter": "python",
   "pygments_lexer": "ipython3",
   "version": "3.10.2"
  }
 },
 "nbformat": 4,
 "nbformat_minor": 5
}

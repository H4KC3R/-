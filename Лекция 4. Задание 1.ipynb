{
 "cells": [
  {
   "cell_type": "code",
   "execution_count": 1,
   "id": "7a409cff",
   "metadata": {},
   "outputs": [],
   "source": [
    "import numpy as np\n",
    "from scipy.spatial import ConvexHull,convex_hull_plot_2d\n",
    "import matplotlib.pyplot as plt\n",
    "import sympy as sym\n",
    "from sympy import symbols, Function, Eq, solve, I, collect, expand, simplify,\\\n",
    "                  Derivative, init_printing, series, evaluate, Poly\n",
    "\n",
    "init_printing() # Для красивой печати\n",
    "\n",
    "Nexpand=3\n",
    "x,y = symbols(\"x y\",real=True) # переменные по умолчанию\n",
    "Y=symbols(f'y0:{Nexpand+2}')#Function('x')(eps)\n",
    "epsilon=symbols('varepsilon')"
   ]
  },
  {
   "cell_type": "markdown",
   "id": "cb3973e2",
   "metadata": {},
   "source": [
    "Для малых $\\varepsilon$ найти асимптотическое разложение каждого решения уравнения и определить равномерность найденной асимптотики для указанного интервала переменной.\n",
    "\n",
    "а) $y^2 + (1 + \\varepsilon - x)y - x = 0$, для $0 < x < 1$"
   ]
  },
  {
   "cell_type": "code",
   "execution_count": 2,
   "id": "595d40cc",
   "metadata": {},
   "outputs": [
    {
     "name": "stdout",
     "output_type": "stream",
     "text": [
      "Точное решение:\n",
      "1)y01= -1\n",
      "2)y02= x\n"
     ]
    }
   ],
   "source": [
    "eq = y**2 + (1 + epsilon - x)*y - x\n",
    "eq_0 = sym.limit(eq,epsilon,0,'+')\n",
    "y_01 = solve(eq_0, y)[0]\n",
    "y_02 = solve(eq_0, y)[1]\n",
    "print(\"Точное решение:\")\n",
    "print(\"1)y01=\", y_01)\n",
    "print(\"2)y02=\", y_02)"
   ]
  },
  {
   "cell_type": "code",
   "execution_count": 3,
   "id": "f7bd17c4",
   "metadata": {},
   "outputs": [
    {
     "data": {
      "image/png": "[encoded data removed]",
      "text/latex": [
       "$\\displaystyle \\varepsilon^{2} \\left(- x y_{2} + 2 y_{0} y_{2} + y_{1}^{2} + y_{1} + y_{2}\\right) + \\varepsilon \\left(- x y_{1} + 2 y_{0} y_{1} + y_{0} + y_{1}\\right) - x y_{0} - x + y_{0}^{2} + y_{0}$"
      ],
      "text/plain": [
       "          2 ⎛                    2          ⎞                                 \n",
       "varepsilon ⋅⎝-x⋅y₂ + 2⋅y₀⋅y₂ + y₁  + y₁ + y₂⎠ + varepsilon⋅(-x⋅y₁ + 2⋅y₀⋅y₁ + \n",
       "\n",
       "                        2     \n",
       "y₀ + y₁) - x⋅y₀ - x + y₀  + y₀"
      ]
     },
     "execution_count": 3,
     "metadata": {},
     "output_type": "execute_result"
    }
   ],
   "source": [
    "Subsseries=sum(Y[i]*epsilon**i for i in range(Nexpand))# разложение корня в виде ряда по epsilon\n",
    "# Подстановка ряда в уравнение и группировка по epsilon\n",
    "Res=series(collect(eq.subs(y,Subsseries).expand(),epsilon),epsilon,0,Nexpand).removeO() \n",
    "Res"
   ]
  },
  {
   "cell_type": "code",
   "execution_count": 4,
   "id": "7780119d",
   "metadata": {},
   "outputs": [
    {
     "data": {
      "image/png": "[encoded data removed]",
      "text/latex": [
       "$\\displaystyle \\frac{\\varepsilon^{2} \\left(x - \\left(x + 1\\right)^{2} + 1\\right)}{\\left(x + 1\\right)^{4}} - \\frac{\\varepsilon}{x + 1} - 1$"
      ],
      "text/plain": [
       "          2 ⎛           2    ⎞                 \n",
       "varepsilon ⋅⎝x - (x + 1)  + 1⎠   varepsilon    \n",
       "────────────────────────────── - ────────── - 1\n",
       "                  4                x + 1       \n",
       "           (x + 1)                             "
      ]
     },
     "execution_count": 4,
     "metadata": {},
     "output_type": "execute_result"
    }
   ],
   "source": [
    "# Находим коэффициенты разложения первого корня\n",
    "root1={Y[0]:y_01} \n",
    "Sys1=[Res.coeff(epsilon, i).subs(root1) for i in range(Nexpand)]\n",
    "for i in range(1,Nexpand):\n",
    "    root1[Y[i]] = solve(Sys1[i].subs(root1), Y[i])[0]\n",
    "Subsseries = Subsseries.subs(root1)\n",
    "Subsseries"
   ]
  },
  {
   "cell_type": "markdown",
   "id": "4814e476",
   "metadata": {},
   "source": [
    "Проверим разложение на равномерность:"
   ]
  },
  {
   "cell_type": "code",
   "execution_count": 5,
   "id": "d99bea29",
   "metadata": {},
   "outputs": [
    {
     "data": {
      "image/png": "[encoded data removed]",
      "text/latex": [
       "$\\displaystyle - \\frac{\\varepsilon}{2} + \\frac{x}{2} - \\frac{\\sqrt{\\varepsilon^{2} - 2 \\varepsilon x + 2 \\varepsilon + x^{2} + 2 x + 1}}{2} - \\frac{1}{2}$"
      ],
      "text/plain": [
       "                      ________________________________________________________\n",
       "                     ╱           2                                    2       \n",
       "  varepsilon   x   ╲╱  varepsilon  - 2⋅varepsilon⋅x + 2⋅varepsilon + x  + 2⋅x \n",
       "- ────────── + ─ - ───────────────────────────────────────────────────────────\n",
       "      2        2                                  2                           \n",
       "\n",
       "____    \n",
       "        \n",
       "+ 1    1\n",
       "──── - ─\n",
       "       2"
      ]
     },
     "execution_count": 5,
     "metadata": {},
     "output_type": "execute_result"
    }
   ],
   "source": [
    "solution1 = sym.solve(eq, y)[0]\n",
    "solution1"
   ]
  },
  {
   "cell_type": "code",
   "execution_count": 6,
   "id": "be9f94b6",
   "metadata": {},
   "outputs": [
    {
     "data": {
      "image/png": "[encoded data removed]",
      "text/latex": [
       "$\\displaystyle \\left|{\\frac{x}{2} - \\frac{\\sqrt{x^{2} + 2 x + 1}}{2} + \\frac{1}{2}}\\right|$"
      ],
      "text/plain": [
       "│       ______________    │\n",
       "│      ╱  2               │\n",
       "│x   ╲╱  x  + 2⋅x + 1    1│\n",
       "│─ - ───────────────── + ─│\n",
       "│2           2           2│"
      ]
     },
     "execution_count": 6,
     "metadata": {},
     "output_type": "execute_result"
    }
   ],
   "source": [
    "a0 = Subsseries.coeff(epsilon, 0)*epsilon**0\n",
    "sym.limit(sym.Abs(solution1 - a0)/sym.Abs(a0), epsilon, 0)"
   ]
  },
  {
   "cell_type": "code",
   "execution_count": 7,
   "id": "f27211c3",
   "metadata": {},
   "outputs": [
    {
     "data": {
      "image/png": "[encoded data removed]",
      "text/latex": [
       "$\\displaystyle \\left|{\\frac{x}{2} - \\frac{\\sqrt{x^{2} + 2 x + 1}}{2} + \\frac{1}{2}}\\right|$"
      ],
      "text/plain": [
       "│       ______________    │\n",
       "│      ╱  2               │\n",
       "│x   ╲╱  x  + 2⋅x + 1    1│\n",
       "│─ - ───────────────── + ─│\n",
       "│2           2           2│"
      ]
     },
     "execution_count": 7,
     "metadata": {},
     "output_type": "execute_result"
    }
   ],
   "source": [
    "a1 = a0 + Subsseries.coeff(epsilon, 1)*epsilon**1\n",
    "sym.limit(sym.Abs(solution1 - a1)/sym.Abs(a1), epsilon, 0)"
   ]
  },
  {
   "cell_type": "code",
   "execution_count": 8,
   "id": "6b083b98",
   "metadata": {},
   "outputs": [
    {
     "data": {
      "image/png": "[encoded data removed]",
      "text/latex": [
       "$\\displaystyle \\left|{\\frac{x}{2} - \\frac{\\sqrt{x^{2} + 2 x + 1}}{2} + \\frac{1}{2}}\\right|$"
      ],
      "text/plain": [
       "│       ______________    │\n",
       "│      ╱  2               │\n",
       "│x   ╲╱  x  + 2⋅x + 1    1│\n",
       "│─ - ───────────────── + ─│\n",
       "│2           2           2│"
      ]
     },
     "execution_count": 8,
     "metadata": {},
     "output_type": "execute_result"
    }
   ],
   "source": [
    "a2 = a1 + Subsseries.coeff(epsilon, 2)*epsilon**2\n",
    "sym.limit(sym.Abs(solution1 - a2)/sym.Abs(a2), epsilon, 0)"
   ]
  },
  {
   "cell_type": "markdown",
   "id": "8c630bd5",
   "metadata": {},
   "source": [
    "Асимпотическое разложение равномерно на $x \\in (0,1)$"
   ]
  },
  {
   "cell_type": "code",
   "execution_count": 9,
   "id": "2375d153",
   "metadata": {},
   "outputs": [
    {
     "data": {
      "image/png": "[encoded data removed]",
      "text/latex": [
       "$\\displaystyle \\varepsilon^{2} \\left(- x y_{2} + 2 y_{0} y_{2} + y_{1}^{2} + y_{1} + y_{2}\\right) + \\varepsilon \\left(- x y_{1} + 2 y_{0} y_{1} + y_{0} + y_{1}\\right) - x y_{0} - x + y_{0}^{2} + y_{0}$"
      ],
      "text/plain": [
       "          2 ⎛                    2          ⎞                                 \n",
       "varepsilon ⋅⎝-x⋅y₂ + 2⋅y₀⋅y₂ + y₁  + y₁ + y₂⎠ + varepsilon⋅(-x⋅y₁ + 2⋅y₀⋅y₁ + \n",
       "\n",
       "                        2     \n",
       "y₀ + y₁) - x⋅y₀ - x + y₀  + y₀"
      ]
     },
     "execution_count": 9,
     "metadata": {},
     "output_type": "execute_result"
    }
   ],
   "source": [
    "Subsseries1=sum(Y[i]*epsilon**i for i in range(Nexpand))# разложение корня в виде ряда по epsilon\n",
    "# Подстановка ряда в уравнение и группировка по epsilon\n",
    "Res1=series(collect(eq.subs(y,Subsseries1).expand(),epsilon),epsilon,0,Nexpand).removeO() \n",
    "Res1"
   ]
  },
  {
   "cell_type": "code",
   "execution_count": 10,
   "id": "fdeaaec9",
   "metadata": {},
   "outputs": [
    {
     "data": {
      "image/png": "[encoded data removed]",
      "text/latex": [
       "$\\displaystyle \\frac{\\varepsilon^{2} x}{x^{3} + 3 x^{2} + 3 x + 1} - \\frac{\\varepsilon x}{x + 1} + x$"
      ],
      "text/plain": [
       "             2                        \n",
       "   varepsilon ⋅x      varepsilon⋅x    \n",
       "─────────────────── - ──────────── + x\n",
       " 3      2                x + 1        \n",
       "x  + 3⋅x  + 3⋅x + 1                   "
      ]
     },
     "execution_count": 10,
     "metadata": {},
     "output_type": "execute_result"
    }
   ],
   "source": [
    "# Находим коэффициенты разложения второго корня\n",
    "root2={Y[0]:y_02} \n",
    "Sys2=[Res1.coeff(epsilon, i).subs(root2) for i in range(Nexpand)]\n",
    "for i in range(1,Nexpand):\n",
    "    root2[Y[i]] = solve(Sys2[i].subs(root2), Y[i])[0]\n",
    "Subsseries1 = Subsseries1.subs(root2)\n",
    "Subsseries1"
   ]
  },
  {
   "cell_type": "code",
   "execution_count": 11,
   "id": "769dca49",
   "metadata": {},
   "outputs": [
    {
     "data": {
      "image/png": "[encoded data removed]",
      "text/latex": [
       "$\\displaystyle - \\frac{\\varepsilon}{2} + \\frac{x}{2} + \\frac{\\sqrt{\\varepsilon^{2} - 2 \\varepsilon x + 2 \\varepsilon + x^{2} + 2 x + 1}}{2} - \\frac{1}{2}$"
      ],
      "text/plain": [
       "                      ________________________________________________________\n",
       "                     ╱           2                                    2       \n",
       "  varepsilon   x   ╲╱  varepsilon  - 2⋅varepsilon⋅x + 2⋅varepsilon + x  + 2⋅x \n",
       "- ────────── + ─ + ───────────────────────────────────────────────────────────\n",
       "      2        2                                  2                           \n",
       "\n",
       "____    \n",
       "        \n",
       "+ 1    1\n",
       "──── - ─\n",
       "       2"
      ]
     },
     "execution_count": 11,
     "metadata": {},
     "output_type": "execute_result"
    }
   ],
   "source": [
    "solution2 = sym.solve(eq, y)[1]\n",
    "solution2"
   ]
  },
  {
   "cell_type": "code",
   "execution_count": 12,
   "id": "e14560c4",
   "metadata": {},
   "outputs": [
    {
     "data": {
      "image/png": "[encoded data removed]",
      "text/latex": [
       "$\\displaystyle \\frac{\\left|{\\frac{x - \\sqrt{x^{2} + 2 x + 1} + 1}{x}}\\right|}{2}$"
      ],
      "text/plain": [
       "│       ______________    │\n",
       "│      ╱  2               │\n",
       "│x - ╲╱  x  + 2⋅x + 1  + 1│\n",
       "│─────────────────────────│\n",
       "│            x            │\n",
       "───────────────────────────\n",
       "             2             "
      ]
     },
     "execution_count": 12,
     "metadata": {},
     "output_type": "execute_result"
    }
   ],
   "source": [
    "a10 = Subsseries1.coeff(epsilon, 0)*epsilon**0\n",
    "sym.limit(sym.Abs(solution2 - a10)/sym.Abs(a10), epsilon, 0).simplify()"
   ]
  },
  {
   "cell_type": "code",
   "execution_count": 13,
   "id": "50f704e7",
   "metadata": {},
   "outputs": [
    {
     "data": {
      "image/png": "[encoded data removed]",
      "text/latex": [
       "$\\displaystyle \\frac{\\left|{\\frac{x - \\sqrt{x^{2} + 2 x + 1} + 1}{x}}\\right|}{2}$"
      ],
      "text/plain": [
       "│       ______________    │\n",
       "│      ╱  2               │\n",
       "│x - ╲╱  x  + 2⋅x + 1  + 1│\n",
       "│─────────────────────────│\n",
       "│            x            │\n",
       "───────────────────────────\n",
       "             2             "
      ]
     },
     "execution_count": 13,
     "metadata": {},
     "output_type": "execute_result"
    }
   ],
   "source": [
    "a11 = a10 + Subsseries.coeff(epsilon, 1)*epsilon**1\n",
    "sym.limit(sym.Abs(solution2 - a11)/sym.Abs(a11), epsilon, 0).simplify()"
   ]
  },
  {
   "cell_type": "code",
   "execution_count": 14,
   "id": "a25f02e1",
   "metadata": {},
   "outputs": [
    {
     "data": {
      "image/png": "[encoded data removed]",
      "text/latex": [
       "$\\displaystyle \\frac{\\left|{\\frac{x - \\sqrt{x^{2} + 2 x + 1} + 1}{x}}\\right|}{2}$"
      ],
      "text/plain": [
       "│       ______________    │\n",
       "│      ╱  2               │\n",
       "│x - ╲╱  x  + 2⋅x + 1  + 1│\n",
       "│─────────────────────────│\n",
       "│            x            │\n",
       "───────────────────────────\n",
       "             2             "
      ]
     },
     "execution_count": 14,
     "metadata": {},
     "output_type": "execute_result"
    }
   ],
   "source": [
    "a12 = a11 + Subsseries.coeff(epsilon, 2)*epsilon**2\n",
    "sym.limit(sym.Abs(solution2 - a12)/sym.Abs(a12), epsilon, 0).simplify()"
   ]
  },
  {
   "cell_type": "markdown",
   "id": "bb3abeb6",
   "metadata": {},
   "source": [
    "Асимпотическое разложение равномерно на $x \\in (0,1)$"
   ]
  }
 ],
 "metadata": {
  "kernelspec": {
   "display_name": "Python 3 (ipykernel)",
   "language": "python",
   "name": "python3"
  },
  "language_info": {
   "codemirror_mode": {
    "name": "ipython",
    "version": 3
   },
   "file_extension": ".py",
   "mimetype": "text/x-python",
   "name": "python",
   "nbconvert_exporter": "python",
   "pygments_lexer": "ipython3",
   "version": "3.10.2"
  }
 },
 "nbformat": 4,
 "nbformat_minor": 5
}

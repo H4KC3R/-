{
 "cells": [
  {
   "cell_type": "code",
   "execution_count": 1,
   "id": "fd0acc4d",
   "metadata": {},
   "outputs": [],
   "source": [
    "import sympy as sym\n",
    "\n",
    "sym.init_printing()"
   ]
  },
  {
   "cell_type": "code",
   "execution_count": 2,
   "id": "17f1217c",
   "metadata": {},
   "outputs": [],
   "source": [
    "def mkJ(n):\n",
    "    \"\"\"\n",
    "     Make matrix of simplectic unit of dimension 2nx2n\n",
    "    \"\"\"\n",
    "    hpad = sym.ones(0, n)\n",
    "    vpad = sym.ones(n, 0)\n",
    "    return (\n",
    "        sym.diag(vpad, *(-1 for i in range(n)), hpad) + \n",
    "        sym.diag(hpad, *( 1 for i in range(n)), vpad)\n",
    "    )"
   ]
  },
  {
   "cell_type": "markdown",
   "id": "1f800a54",
   "metadata": {},
   "source": [
    "Найти каноническое преобразование, приводящее гамильтониан к нормальной форме.\n",
    "Записать полученный гамильтониан в комплексной нормальной форме.\n",
    "\n",
    "2. $H = \\frac{1}{2}\\left( p_1^2 + 2p_1p_2 + 6p_1q_1 + 2p_1q_2 + p_2^2 - 2p_2q_1 + q_1^2 + 4q_1q_2 + 2q_2^2 \\right)$\n"
   ]
  },
  {
   "cell_type": "code",
   "execution_count": 3,
   "id": "48028600",
   "metadata": {},
   "outputs": [
    {
     "data": {
      "image/png": "[encoded data removed]",
      "text/latex": [
       "$\\displaystyle \\frac{p_{1}^{2}}{2} + p_{1} p_{2} + 3 p_{1} q_{1} + p_{1} q_{2} + \\frac{p_{2}^{2}}{2} - p_{2} q_{1} + \\frac{q_{1}^{2}}{2} + 2 q_{1} q_{2} + q_{2}^{2}$"
      ],
      "text/plain": [
       "  2                               2             2                \n",
       "p₁                              p₂            q₁                2\n",
       "─── + p₁⋅p₂ + 3⋅p₁⋅q₁ + p₁⋅q₂ + ─── - p₂⋅q₁ + ─── + 2⋅q₁⋅q₂ + q₂ \n",
       " 2                               2             2                 "
      ]
     },
     "execution_count": 3,
     "metadata": {},
     "output_type": "execute_result"
    }
   ],
   "source": [
    "q1, q2 = sym.symbols(\"q1 q2\", real=True)\n",
    "p1, p2 = sym.symbols(\"p1 p2\", real=True)\n",
    "\n",
    "Q1, Q2 = sym.symbols(\"Q1 Q2\", real=True)\n",
    "P1, P2 = sym.symbols(\"P1 P2\", real=True)\n",
    "\n",
    "H = (p1**2 + 2*p1*p2 + 6*p1*q1 + 2*p1*q2 + p2**2 - 2*p2*q1 + q1**2 + 4*q1*q2 + 2*q2**2)/2\n",
    "H"
   ]
  },
  {
   "cell_type": "code",
   "execution_count": 4,
   "id": "65d377ee",
   "metadata": {},
   "outputs": [
    {
     "data": {
      "text/latex": [
       "$\\displaystyle \\left[\\begin{matrix}0 & 0 & 1 & 0\\\\0 & 0 & 0 & 1\\\\-1 & 0 & 0 & 0\\\\0 & -1 & 0 & 0\\end{matrix}\\right]$"
      ],
      "text/plain": [
       "⎡0   0   1  0⎤\n",
       "⎢            ⎥\n",
       "⎢0   0   0  1⎥\n",
       "⎢            ⎥\n",
       "⎢-1  0   0  0⎥\n",
       "⎢            ⎥\n",
       "⎣0   -1  0  0⎦"
      ]
     },
     "execution_count": 4,
     "metadata": {},
     "output_type": "execute_result"
    }
   ],
   "source": [
    "J = mkJ(2)\n",
    "J"
   ]
  },
  {
   "cell_type": "code",
   "execution_count": 5,
   "id": "2856b498",
   "metadata": {},
   "outputs": [
    {
     "data": {
      "text/latex": [
       "$\\displaystyle \\left( \\left[\\begin{matrix}1 & 2 & 3 & -1\\\\2 & 2 & 1 & 0\\\\3 & 1 & 1 & 1\\\\-1 & 0 & 1 & 1\\end{matrix}\\right], \\  \\left[\\begin{matrix}3 & 1 & 1 & 1\\\\-1 & 0 & 1 & 1\\\\-1 & -2 & -3 & 1\\\\-2 & -2 & -1 & 0\\end{matrix}\\right]\\right)$"
      ],
      "text/plain": [
       "⎛⎡1   2  3  -1⎤  ⎡3   1   1   1⎤⎞\n",
       "⎜⎢            ⎥  ⎢             ⎥⎟\n",
       "⎜⎢2   2  1  0 ⎥  ⎢-1  0   1   1⎥⎟\n",
       "⎜⎢            ⎥, ⎢             ⎥⎟\n",
       "⎜⎢3   1  1  1 ⎥  ⎢-1  -2  -3  1⎥⎟\n",
       "⎜⎢            ⎥  ⎢             ⎥⎟\n",
       "⎝⎣-1  0  1  1 ⎦  ⎣-2  -2  -1  0⎦⎠"
      ]
     },
     "execution_count": 5,
     "metadata": {},
     "output_type": "execute_result"
    }
   ],
   "source": [
    "phase_vars = [q1, q2, p1, p2]\n",
    "D = sym.hessian(H, phase_vars)\n",
    "JD = J*D\n",
    "D, JD"
   ]
  },
  {
   "cell_type": "code",
   "execution_count": 6,
   "id": "e7a71ca0",
   "metadata": {},
   "outputs": [
    {
     "data": {
      "text/latex": [
       "$\\displaystyle \\left[ \\left( -2, \\  1, \\  \\left[ \\left[\\begin{matrix}1\\\\6\\\\-12\\\\1\\end{matrix}\\right]\\right]\\right), \\  \\left( 2, \\  1, \\  \\left[ \\left[\\begin{matrix}-3\\\\2\\\\0\\\\1\\end{matrix}\\right]\\right]\\right), \\  \\left( - 2 i, \\  1, \\  \\left[ \\left[\\begin{matrix}- \\frac{9}{17} + \\frac{2 i}{17}\\\\\\frac{4}{17} + \\frac{18 i}{17}\\\\\\frac{10}{17} - \\frac{6 i}{17}\\\\1\\end{matrix}\\right]\\right]\\right), \\  \\left( 2 i, \\  1, \\  \\left[ \\left[\\begin{matrix}- \\frac{9}{17} - \\frac{2 i}{17}\\\\\\frac{4}{17} - \\frac{18 i}{17}\\\\\\frac{10}{17} + \\frac{6 i}{17}\\\\1\\end{matrix}\\right]\\right]\\right)\\right]$"
      ],
      "text/plain": [
       "⎡                                  ⎛         ⎡⎡  9    2⋅ⅈ⎤⎤⎞  ⎛        ⎡⎡  9  \n",
       "⎢                                  ⎜         ⎢⎢- ── + ───⎥⎥⎟  ⎜        ⎢⎢- ── \n",
       "⎢                                  ⎜         ⎢⎢  17    17⎥⎥⎟  ⎜        ⎢⎢  17 \n",
       "⎢⎛       ⎡⎡ 1 ⎤⎤⎞  ⎛      ⎡⎡-3⎤⎤⎞  ⎜         ⎢⎢          ⎥⎥⎟  ⎜        ⎢⎢     \n",
       "⎢⎜       ⎢⎢   ⎥⎥⎟  ⎜      ⎢⎢  ⎥⎥⎟  ⎜         ⎢⎢4    18⋅ⅈ ⎥⎥⎟  ⎜        ⎢⎢4    \n",
       "⎢⎜       ⎢⎢ 6 ⎥⎥⎟  ⎜      ⎢⎢2 ⎥⎥⎟  ⎜         ⎢⎢── + ──── ⎥⎥⎟  ⎜        ⎢⎢── - \n",
       "⎢⎜-2, 1, ⎢⎢   ⎥⎥⎟, ⎜2, 1, ⎢⎢  ⎥⎥⎟, ⎜-2⋅ⅈ, 1, ⎢⎢17    17  ⎥⎥⎟, ⎜2⋅ⅈ, 1, ⎢⎢17   \n",
       "⎢⎜       ⎢⎢-12⎥⎥⎟  ⎜      ⎢⎢0 ⎥⎥⎟  ⎜         ⎢⎢          ⎥⎥⎟  ⎜        ⎢⎢     \n",
       "⎢⎜       ⎢⎢   ⎥⎥⎟  ⎜      ⎢⎢  ⎥⎥⎟  ⎜         ⎢⎢ 10   6⋅ⅈ ⎥⎥⎟  ⎜        ⎢⎢ 10  \n",
       "⎢⎝       ⎣⎣ 1 ⎦⎦⎠  ⎝      ⎣⎣1 ⎦⎦⎠  ⎜         ⎢⎢ ── - ─── ⎥⎥⎟  ⎜        ⎢⎢ ── +\n",
       "⎢                                  ⎜         ⎢⎢ 17    17 ⎥⎥⎟  ⎜        ⎢⎢ 17  \n",
       "⎢                                  ⎜         ⎢⎢          ⎥⎥⎟  ⎜        ⎢⎢     \n",
       "⎣                                  ⎝         ⎣⎣    1     ⎦⎦⎠  ⎝        ⎣⎣    1\n",
       "\n",
       "  2⋅ⅈ⎤⎤⎞⎤\n",
       "- ───⎥⎥⎟⎥\n",
       "   17⎥⎥⎟⎥\n",
       "     ⎥⎥⎟⎥\n",
       "18⋅ⅈ ⎥⎥⎟⎥\n",
       "──── ⎥⎥⎟⎥\n",
       " 17  ⎥⎥⎟⎥\n",
       "     ⎥⎥⎟⎥\n",
       " 6⋅ⅈ ⎥⎥⎟⎥\n",
       " ─── ⎥⎥⎟⎥\n",
       "  17 ⎥⎥⎟⎥\n",
       "     ⎥⎥⎟⎥\n",
       "     ⎦⎦⎠⎦"
      ]
     },
     "execution_count": 6,
     "metadata": {},
     "output_type": "execute_result"
    }
   ],
   "source": [
    "JD_eig_vects = JD.eigenvects()\n",
    "JD_eig_vects"
   ]
  },
  {
   "cell_type": "code",
   "execution_count": 7,
   "id": "5f63105e",
   "metadata": {},
   "outputs": [
    {
     "data": {
      "text/latex": [
       "$\\displaystyle \\left( \\left[ 2, \\  2 i, \\  -2, \\  - 2 i\\right], \\  \\left[ \\left[\\begin{matrix}-3\\\\2\\\\0\\\\1\\end{matrix}\\right], \\  \\left[\\begin{matrix}- \\frac{9}{17} - \\frac{2 i}{17}\\\\\\frac{4}{17} - \\frac{18 i}{17}\\\\\\frac{10}{17} + \\frac{6 i}{17}\\\\1\\end{matrix}\\right], \\  \\left[\\begin{matrix}1\\\\6\\\\-12\\\\1\\end{matrix}\\right], \\  \\left[\\begin{matrix}- \\frac{9}{17} + \\frac{2 i}{17}\\\\\\frac{4}{17} + \\frac{18 i}{17}\\\\\\frac{10}{17} - \\frac{6 i}{17}\\\\1\\end{matrix}\\right]\\right]\\right)$"
      ],
      "text/plain": [
       "⎛                    ⎡      ⎡  9    2⋅ⅈ⎤         ⎡  9    2⋅ⅈ⎤⎤⎞\n",
       "⎜                    ⎢      ⎢- ── - ───⎥         ⎢- ── + ───⎥⎥⎟\n",
       "⎜                    ⎢      ⎢  17    17⎥         ⎢  17    17⎥⎥⎟\n",
       "⎜                    ⎢⎡-3⎤  ⎢          ⎥  ⎡ 1 ⎤  ⎢          ⎥⎥⎟\n",
       "⎜                    ⎢⎢  ⎥  ⎢4    18⋅ⅈ ⎥  ⎢   ⎥  ⎢4    18⋅ⅈ ⎥⎥⎟\n",
       "⎜                    ⎢⎢2 ⎥  ⎢── - ──── ⎥  ⎢ 6 ⎥  ⎢── + ──── ⎥⎥⎟\n",
       "⎜[2, 2⋅ⅈ, -2, -2⋅ⅈ], ⎢⎢  ⎥, ⎢17    17  ⎥, ⎢   ⎥, ⎢17    17  ⎥⎥⎟\n",
       "⎜                    ⎢⎢0 ⎥  ⎢          ⎥  ⎢-12⎥  ⎢          ⎥⎥⎟\n",
       "⎜                    ⎢⎢  ⎥  ⎢ 10   6⋅ⅈ ⎥  ⎢   ⎥  ⎢ 10   6⋅ⅈ ⎥⎥⎟\n",
       "⎜                    ⎢⎣1 ⎦  ⎢ ── + ─── ⎥  ⎣ 1 ⎦  ⎢ ── - ─── ⎥⎥⎟\n",
       "⎜                    ⎢      ⎢ 17    17 ⎥         ⎢ 17    17 ⎥⎥⎟\n",
       "⎜                    ⎢      ⎢          ⎥         ⎢          ⎥⎥⎟\n",
       "⎝                    ⎣      ⎣    1     ⎦         ⎣    1     ⎦⎦⎠"
      ]
     },
     "execution_count": 7,
     "metadata": {},
     "output_type": "execute_result"
    }
   ],
   "source": [
    "lambdas = [JD_eig_vects[i][0] for i in (1, 3, 0, 2)]\n",
    "eig_vects = [JD_eig_vects[i][2][0] for i in (1, 3, 0, 2)]\n",
    "\n",
    "lambdas, eig_vects"
   ]
  },
  {
   "cell_type": "markdown",
   "id": "6b6463a2",
   "metadata": {},
   "source": [
    "Вычисляем элементы матрицы перехода по формулам\n",
    "$$\n",
    "\\begin{gathered}\n",
    "\\mathbf{g}_{k}=\\sigma_{k} \\frac{\\lambda_{k}\\left(\\mathbf{e}_{k}-\\mathbf{e}_{k+n}\\right)}{\\sqrt{\\sigma_{k} \\lambda_{k}\\left(\\mathbf{e}_{k}-\\mathbf{e}_{k+n}\\right)^{\\mathrm{T}} J\\left(\\mathbf{e}_{k}+\\mathbf{e}_{k+n}\\right)}} \\\\\n",
    "\\mathbf{g}_{k+n}=\\frac{\\mathbf{e}_{k}+\\mathbf{e}_{k+n}}{\\sqrt{\\sigma_{k} \\lambda_{k}\\left(\\mathbf{e}_{k}-\\mathbf{e}_{k+n}\\right)^{\\mathrm{T}} J\\left(\\mathbf{e}_{k}+\\mathbf{e}_{k+n}\\right)}}\n",
    "\\end{gathered}\n",
    "$$\n",
    "\n",
    "Вначале находим выражение под корнем и определяем его знак $\\sigma_k$"
   ]
  },
  {
   "cell_type": "code",
   "execution_count": 8,
   "id": "b8e7400b",
   "metadata": {},
   "outputs": [
    {
     "data": {
      "image/png": "[encoded data removed]",
      "text/latex": [
       "$\\displaystyle \\left( \\left[ 128, \\  \\frac{128}{17}\\right], \\  \\left[ 1, \\  1\\right]\\right)$"
      ],
      "text/plain": [
       "⎛⎡     128⎤        ⎞\n",
       "⎜⎢128, ───⎥, [1, 1]⎟\n",
       "⎝⎣      17⎦        ⎠"
      ]
     },
     "execution_count": 8,
     "metadata": {},
     "output_type": "execute_result"
    }
   ],
   "source": [
    "gdenom = [(lambdas[j]*sym.transpose(eig_vects[j]-eig_vects[j+2])*J*(eig_vects[j]+eig_vects[j+2]))[0] for j in range(2)]\n",
    "sigma = [sym.sign(gdenom[j]) for j in range(2)]\n",
    "\n",
    "gdenom, sigma"
   ]
  },
  {
   "cell_type": "code",
   "execution_count": 9,
   "id": "ed8af1ae",
   "metadata": {},
   "outputs": [
    {
     "data": {
      "text/latex": [
       "$\\displaystyle \\left[\\begin{matrix}- \\frac{\\sqrt{2}}{2} & \\frac{\\sqrt{34}}{34} & - \\frac{\\sqrt{2}}{8} & - \\frac{9 \\sqrt{34}}{136}\\\\- \\frac{\\sqrt{2}}{2} & \\frac{9 \\sqrt{34}}{34} & \\frac{\\sqrt{2}}{2} & \\frac{\\sqrt{34}}{34}\\\\\\frac{3 \\sqrt{2}}{2} & - \\frac{3 \\sqrt{34}}{34} & - \\frac{3 \\sqrt{2}}{4} & \\frac{5 \\sqrt{34}}{68}\\\\0 & 0 & \\frac{\\sqrt{2}}{8} & \\frac{\\sqrt{34}}{8}\\end{matrix}\\right]$"
      ],
      "text/plain": [
       "⎡-√2     √34     -√2    -9⋅√34 ⎤\n",
       "⎢────    ───     ────   ───────⎥\n",
       "⎢ 2       34      8       136  ⎥\n",
       "⎢                              ⎥\n",
       "⎢-√2    9⋅√34     √2      √34  ⎥\n",
       "⎢────   ─────     ──      ───  ⎥\n",
       "⎢ 2       34      2        34  ⎥\n",
       "⎢                              ⎥\n",
       "⎢3⋅√2  -3⋅√34   -3⋅√2    5⋅√34 ⎥\n",
       "⎢────  ───────  ──────   ───── ⎥\n",
       "⎢ 2       34      4        68  ⎥\n",
       "⎢                              ⎥\n",
       "⎢                 √2      √34  ⎥\n",
       "⎢ 0       0       ──      ───  ⎥\n",
       "⎣                 8        8   ⎦"
      ]
     },
     "execution_count": 9,
     "metadata": {},
     "output_type": "execute_result"
    }
   ],
   "source": [
    "g1 = [sigma[j]*lambdas[j]*(eig_vects[j]-eig_vects[j+2])/sym.sqrt(sigma[j]*gdenom[j]) for j in range(2)]\n",
    "g2 = [(eig_vects[j]+eig_vects[j+2])/sym.sqrt(sigma[j]*gdenom[j]) for j in range(2)]\n",
    "\n",
    "# Матрица перехода\n",
    "A = sym.simplify(sym.Matrix([*g1, *g2]).reshape(4, 4).transpose())\n",
    "A"
   ]
  },
  {
   "cell_type": "code",
   "execution_count": 10,
   "id": "765fda7e",
   "metadata": {},
   "outputs": [
    {
     "data": {
      "text/latex": [
       "$\\displaystyle \\left( \\left[\\begin{matrix}- \\frac{\\sqrt{2} P_{1}}{8} - \\frac{9 \\sqrt{34} P_{2}}{136} - \\frac{\\sqrt{2} Q_{1}}{2} + \\frac{\\sqrt{34} Q_{2}}{34}\\\\\\frac{\\sqrt{2} P_{1}}{2} + \\frac{\\sqrt{34} P_{2}}{34} - \\frac{\\sqrt{2} Q_{1}}{2} + \\frac{9 \\sqrt{34} Q_{2}}{34}\\\\- \\frac{3 \\sqrt{2} P_{1}}{4} + \\frac{5 \\sqrt{34} P_{2}}{68} + \\frac{3 \\sqrt{2} Q_{1}}{2} - \\frac{3 \\sqrt{34} Q_{2}}{34}\\\\\\frac{\\sqrt{2} P_{1}}{8} + \\frac{\\sqrt{34} P_{2}}{8}\\end{matrix}\\right], \\  \\left\\{ p_{1} : - \\frac{3 \\sqrt{2} P_{1}}{4} + \\frac{5 \\sqrt{34} P_{2}}{68} + \\frac{3 \\sqrt{2} Q_{1}}{2} - \\frac{3 \\sqrt{34} Q_{2}}{34}, \\  p_{2} : \\frac{\\sqrt{2} P_{1}}{8} + \\frac{\\sqrt{34} P_{2}}{8}, \\  q_{1} : - \\frac{\\sqrt{2} P_{1}}{8} - \\frac{9 \\sqrt{34} P_{2}}{136} - \\frac{\\sqrt{2} Q_{1}}{2} + \\frac{\\sqrt{34} Q_{2}}{34}, \\  q_{2} : \\frac{\\sqrt{2} P_{1}}{2} + \\frac{\\sqrt{34} P_{2}}{34} - \\frac{\\sqrt{2} Q_{1}}{2} + \\frac{9 \\sqrt{34} Q_{2}}{34}\\right\\}\\right)$"
      ],
      "text/plain": [
       "⎛⎡     √2⋅P₁   9⋅√34⋅P₂   √2⋅Q₁   √34⋅Q₂   ⎤                                  \n",
       "⎜⎢   - ───── - ──────── - ───── + ──────   ⎥                                  \n",
       "⎜⎢       8       136        2       34     ⎥                                  \n",
       "⎜⎢                                         ⎥                                  \n",
       "⎜⎢    √2⋅P₁   √34⋅P₂   √2⋅Q₁   9⋅√34⋅Q₂    ⎥                                  \n",
       "⎜⎢    ───── + ────── - ───── + ────────    ⎥                                  \n",
       "⎜⎢      2       34       2        34       ⎥  ⎧      3⋅√2⋅P₁   5⋅√34⋅P₂   3⋅√2\n",
       "⎜⎢                                         ⎥, ⎨p₁: - ─────── + ──────── + ────\n",
       "⎜⎢  3⋅√2⋅P₁   5⋅√34⋅P₂   3⋅√2⋅Q₁   3⋅√34⋅Q₂⎥  ⎩         4         68         2\n",
       "⎜⎢- ─────── + ──────── + ─────── - ────────⎥                                  \n",
       "⎜⎢     4         68         2         34   ⎥                                  \n",
       "⎜⎢                                         ⎥                                  \n",
       "⎜⎢             √2⋅P₁   √34⋅P₂              ⎥                                  \n",
       "⎜⎢             ───── + ──────              ⎥                                  \n",
       "⎝⎣               8       8                 ⎦                                  \n",
       "\n",
       "                                                                              \n",
       "                                                                              \n",
       "                                                                              \n",
       "                                                                              \n",
       "                                                                              \n",
       "                                                                              \n",
       "⋅Q₁   3⋅√34⋅Q₂      √2⋅P₁   √34⋅P₂        √2⋅P₁   9⋅√34⋅P₂   √2⋅Q₁   √34⋅Q₂   \n",
       "─── - ────────, p₂: ───── + ──────, q₁: - ───── - ──────── - ───── + ──────, q\n",
       "         34           8       8             8       136        2       34     \n",
       "                                                                              \n",
       "                                                                              \n",
       "                                                                              \n",
       "                                                                              \n",
       "                                                                              \n",
       "                                                                              \n",
       "\n",
       "                                     ⎞\n",
       "                                     ⎟\n",
       "                                     ⎟\n",
       "                                     ⎟\n",
       "                                     ⎟\n",
       "                                     ⎟\n",
       "   √2⋅P₁   √34⋅P₂   √2⋅Q₁   9⋅√34⋅Q₂⎫⎟\n",
       "₂: ───── + ────── - ───── + ────────⎬⎟\n",
       "     2       34       2        34   ⎭⎟\n",
       "                                     ⎟\n",
       "                                     ⎟\n",
       "                                     ⎟\n",
       "                                     ⎟\n",
       "                                     ⎟\n",
       "                                     ⎠"
      ]
     },
     "execution_count": 10,
     "metadata": {},
     "output_type": "execute_result"
    }
   ],
   "source": [
    "AY = A*sym.Matrix([Q1, Q2, P1, P2])\n",
    "subs_QP = {phase_vars[j] : AY[j] for j in range(4)}\n",
    "\n",
    "AY, subs_QP"
   ]
  },
  {
   "cell_type": "code",
   "execution_count": 11,
   "id": "536103b5",
   "metadata": {},
   "outputs": [
    {
     "data": {
      "image/png": "[encoded data removed]",
      "text/latex": [
       "$\\displaystyle \\frac{P_{1}^{2}}{2} + \\frac{P_{2}^{2}}{2} - 2 Q_{1}^{2} + 2 Q_{2}^{2}$"
      ],
      "text/plain": [
       "  2     2                \n",
       "P₁    P₂        2       2\n",
       "─── + ─── - 2⋅Q₁  + 2⋅Q₂ \n",
       " 2     2                 "
      ]
     },
     "execution_count": 11,
     "metadata": {},
     "output_type": "execute_result"
    }
   ],
   "source": [
    "HNF = sym.simplify(H.subs(subs_QP)).collect([P1, Q1])\n",
    "HNF"
   ]
  },
  {
   "cell_type": "markdown",
   "id": "c7f15271",
   "metadata": {},
   "source": [
    "Гамильтониан вида: $\\frac{1}{2}(P_1^2 - 4Q_1^2) + \\frac{1}{2}(P_2^2 + 4Q_2^2)$, \n",
    "\n",
    "требуется перейти к вещественной НФ: $\\gamma P_1 Q_1+\\frac{\\omega}{2}\\left(P_2^2+Q_2^2\\right)$"
   ]
  },
  {
   "cell_type": "code",
   "execution_count": 12,
   "id": "984f41ca",
   "metadata": {},
   "outputs": [],
   "source": [
    "a2 = sym.sqrt(lambdas[1]/sym.I)\n",
    "\n",
    "subs_QP = {\n",
    "    # соотв. действит. СЧ\n",
    "    P1 : P1 - Q1*lambdas[0],\n",
    "    Q1 : Q1 + P1/lambdas[0],\n",
    "    \n",
    "    # соотв. мним. СЧ\n",
    "    P2 : P2 * a2,\n",
    "    Q2 : Q2 / a2,\n",
    "}"
   ]
  },
  {
   "cell_type": "code",
   "execution_count": 13,
   "id": "361ab367",
   "metadata": {},
   "outputs": [
    {
     "data": {
      "image/png": "[encoded data removed]",
      "text/latex": [
       "$\\displaystyle 2$"
      ],
      "text/plain": [
       "2"
      ]
     },
     "execution_count": 13,
     "metadata": {},
     "output_type": "execute_result"
    }
   ],
   "source": [
    "lambdas[0]"
   ]
  },
  {
   "cell_type": "code",
   "execution_count": 14,
   "id": "4b05ff7a",
   "metadata": {},
   "outputs": [
    {
     "data": {
      "image/png": "[encoded data removed]",
      "text/latex": [
       "$\\displaystyle - 4 P_{1} Q_{1} + P_{2}^{2} + Q_{2}^{2}$"
      ],
      "text/plain": [
       "             2     2\n",
       "-4⋅P₁⋅Q₁ + P₂  + Q₂ "
      ]
     },
     "execution_count": 14,
     "metadata": {},
     "output_type": "execute_result"
    }
   ],
   "source": [
    "RNF = HNF.subs(subs_QP, simultaneous=True).expand().simplify()\n",
    "RNF"
   ]
  },
  {
   "cell_type": "markdown",
   "id": "722b5393",
   "metadata": {},
   "source": [
    "Далее из вещественной НФ переходим к комплексной НФ:"
   ]
  },
  {
   "cell_type": "code",
   "execution_count": 15,
   "id": "597c295c",
   "metadata": {},
   "outputs": [],
   "source": [
    "Z1, Z2 = sym.symbols(\"z1 z2\")\n",
    "ZS1, ZS2 = sym.symbols(\"zbar1 zbar2\")\n",
    "\n",
    "subs_z = {\n",
    "    Q1:(Z1-ZS1)/(2*sym.I),\n",
    "    Q2:(Z2-ZS2)/(2*sym.I),\n",
    "    P1:(Z1+ZS1)/(2),\n",
    "    P2:(Z2+ZS2)/(2)\n",
    "}\n",
    "\n",
    "CNF = (2*sym.I*RNF).subs(subs_z).expand()"
   ]
  },
  {
   "cell_type": "code",
   "execution_count": 16,
   "id": "991b02c3",
   "metadata": {},
   "outputs": [
    {
     "data": {
      "image/png": "[encoded data removed]",
      "text/latex": [
       "$\\displaystyle \\left( - 4 P_{1} Q_{1} + P_{2}^{2} + Q_{2}^{2}, \\  - 2 z_{1}^{2} + 2 i z_{2} \\bar{z}_{2} + 2 \\bar{z}_{1}^{2}, \\  \\frac{P_{1}^{2}}{2} + \\frac{P_{2}^{2}}{2} - 2 Q_{1}^{2} + 2 Q_{2}^{2}\\right)$"
      ],
      "text/plain": [
       "⎛                                                     2     2                ⎞\n",
       "⎜             2     2        2                   2  P₁    P₂        2       2⎟\n",
       "⎜-4⋅P₁⋅Q₁ + P₂  + Q₂ , - 2⋅z₁  + 2⋅ⅈ⋅z₂⋅z̅₂ + 2⋅z̅₁ , ─── + ─── - 2⋅Q₁  + 2⋅Q₂ ⎟\n",
       "⎝                                                    2     2                 ⎠"
      ]
     },
     "execution_count": 16,
     "metadata": {},
     "output_type": "execute_result"
    }
   ],
   "source": [
    "RNF, CNF, HNF"
   ]
  }
 ],
 "metadata": {
  "kernelspec": {
   "display_name": "Python 3 (ipykernel)",
   "language": "python",
   "name": "python3"
  },
  "language_info": {
   "codemirror_mode": {
    "name": "ipython",
    "version": 3
   },
   "file_extension": ".py",
   "mimetype": "text/x-python",
   "name": "python",
   "nbconvert_exporter": "python",
   "pygments_lexer": "ipython3",
   "version": "3.10.2"
  }
 },
 "nbformat": 4,
 "nbformat_minor": 5
}

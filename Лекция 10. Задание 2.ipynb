{
 "cells": [
  {
   "cell_type": "code",
   "execution_count": 1,
   "id": "3738a0f6",
   "metadata": {},
   "outputs": [],
   "source": [
    "import sympy as sym\n",
    "from sympy import symbols, exp, sin, cos, solve, Function, Eq, dsolve,\\\n",
    "    sqrt, trigsimp, integrate, pi, init_printing\n",
    "init_printing()"
   ]
  },
  {
   "cell_type": "code",
   "execution_count": 2,
   "id": "86244ae5",
   "metadata": {},
   "outputs": [],
   "source": [
    "t,q,p = symbols(\"t q p\", real=True)\n",
    "eps,k, a = symbols(\"varepsilon k a\",real=True)"
   ]
  },
  {
   "cell_type": "markdown",
   "id": "e40ddde8",
   "metadata": {},
   "source": [
    "Рассмотрите ангармонический осциллятор с потенциалом П = $\\frac{1}{4}\\varepsilon{q^4}$ как возмущение свободной частицы массы m = 1. С помощью канонической теории возмущений найдите решение с НУ q = a, p = 0 с точностью до 3 - го порядка по $\\varepsilon$."
   ]
  },
  {
   "cell_type": "code",
   "execution_count": 3,
   "id": "83e96d45",
   "metadata": {},
   "outputs": [],
   "source": [
    "H = (p**2+q**2)/2\n",
    "H1 = (eps*q**4)/4\n",
    "J, phi = symbols(\"J varphi\",real=True)"
   ]
  },
  {
   "cell_type": "markdown",
   "id": "8b713acf",
   "metadata": {},
   "source": [
    "Невозмущенный гамильтониан $H_0=\\frac12\\left(p^2+q^2\\right)$ приводит к уравнению Г-Я \n",
    "$$\\frac12\\left(q^2+\\left(\\frac{\\partial S}{\\partial q}\\right)^2\\right)+\\frac{\\partial S}{\\partial t}=0.$$\n",
    "Здесь удобно ввести переменные действие угол $(\\varphi,J)$, которые переводят $H_0$ в гамильтониан $J$:\n",
    "$$\n",
    "q=\\sqrt{2J}\\sin\\varphi,\\; p=\\sqrt{2J}\\cos\\varphi.\n",
    "$$"
   ]
  },
  {
   "cell_type": "code",
   "execution_count": 4,
   "id": "d0990eec",
   "metadata": {},
   "outputs": [
    {
     "data": {
      "image/png": "[encoded data removed]",
      "text/latex": [
       "$\\displaystyle \\left( \\frac{p^{2}}{2} + \\frac{q^{2}}{2}, \\  \\frac{q^{4} \\varepsilon}{4}, \\  J\\right)$"
      ],
      "text/plain": [
       "⎛ 2    2   4              ⎞\n",
       "⎜p    q   q ⋅varepsilon   ⎟\n",
       "⎜── + ──, ─────────────, J⎟\n",
       "⎝2    2         4         ⎠"
      ]
     },
     "execution_count": 4,
     "metadata": {},
     "output_type": "execute_result"
    }
   ],
   "source": [
    "Subspq = {q:sqrt(2*J)*cos(phi),p:sqrt(2*J)*sin(phi)}\n",
    "H,H1,trigsimp(H.subs(Subspq))"
   ]
  },
  {
   "cell_type": "code",
   "execution_count": 5,
   "id": "170ffb40",
   "metadata": {},
   "outputs": [
    {
     "data": {
      "image/png": "[encoded data removed]",
      "text/latex": [
       "$\\displaystyle \\left( J^{2} \\varepsilon \\cos^{4}{\\left(\\varphi \\right)}, \\  \\varepsilon^{2} \\operatorname{J_{2}}{\\left(t \\right)} + \\varepsilon \\operatorname{J_{1}}{\\left(t \\right)} + \\operatorname{J_{0}}{\\left(t \\right)}, \\  \\varepsilon^{2} \\beta_{2}{\\left(t \\right)} + \\varepsilon \\beta_{1}{\\left(t \\right)} + \\beta_{0}{\\left(t \\right)}\\right)$"
      ],
      "text/plain": [
       "⎛ 2               4                    2                                      \n",
       "⎝J ⋅varepsilon⋅cos (varphi), varepsilon ⋅J₂(t) + varepsilon⋅J₁(t) + J₀(t), var\n",
       "\n",
       "       2                                 ⎞\n",
       "epsilon ⋅β₂(t) + varepsilon⋅β₁(t) + β₀(t)⎠"
      ]
     },
     "execution_count": 5,
     "metadata": {},
     "output_type": "execute_result"
    }
   ],
   "source": [
    "H1Jphi = trigsimp(H1.subs(Subspq))\n",
    "Nexpand=3 # Порядок разложения\n",
    "Jlst=[Function(f'J{i}')(t) for i in range(Nexpand)]\n",
    "betalst=[Function(f'beta{i}')(t) for i in range(Nexpand)]\n",
    "Beta = sum([betalst[i]*eps**i for i in range(Nexpand)])\n",
    "Jeps = sum([Jlst[i]*eps**i for i in range(Nexpand)])\n",
    "H1Jphi,Jeps,Beta"
   ]
  },
  {
   "cell_type": "code",
   "execution_count": 6,
   "id": "cf757f4b",
   "metadata": {},
   "outputs": [],
   "source": [
    "ICSys = [eq.subs(Subspq) for eq in [Eq(q,a),Eq(p,0)]]\n",
    "ICSys,solve(ICSys,[J,phi])\n",
    "Subs_Jphi={Jlst[0]:a**2/2,betalst[0]:t}"
   ]
  },
  {
   "cell_type": "code",
   "execution_count": 7,
   "id": "cf4b4960",
   "metadata": {},
   "outputs": [
    {
     "data": {
      "image/png": "[encoded data removed]",
      "text/latex": [
       "$\\displaystyle \\varepsilon \\left(\\varepsilon^{2} \\operatorname{J_{2}}{\\left(t \\right)} + \\varepsilon \\operatorname{J_{1}}{\\left(t \\right)} + \\operatorname{J_{0}}{\\left(t \\right)}\\right)^{2} \\cos^{4}{\\left(\\varepsilon^{2} \\beta_{2}{\\left(t \\right)} + \\varepsilon \\beta_{1}{\\left(t \\right)} + \\beta_{0}{\\left(t \\right)} \\right)}$"
      ],
      "text/plain": [
       "                                                         2                    \n",
       "           ⎛          2                                 ⎞     4⎛          2   \n",
       "varepsilon⋅⎝varepsilon ⋅J₂(t) + varepsilon⋅J₁(t) + J₀(t)⎠ ⋅cos ⎝varepsilon ⋅β₂\n",
       "\n",
       "                               \n",
       "                              ⎞\n",
       "(t) + varepsilon⋅β₁(t) + β₀(t)⎠"
      ]
     },
     "execution_count": 7,
     "metadata": {},
     "output_type": "execute_result"
    }
   ],
   "source": [
    "SubsJphi = {J:Jeps,phi:Beta}\n",
    "HamH1Jphi = H1Jphi.subs(J,Jeps).subs(phi,Beta)\n",
    "HamH1Jphi"
   ]
  },
  {
   "cell_type": "code",
   "execution_count": 8,
   "id": "3b2514ab",
   "metadata": {},
   "outputs": [
    {
     "data": {
      "image/png": "[encoded data removed]",
      "text/latex": [
       "$\\displaystyle \\left[ a^{4} \\varepsilon \\sin{\\left(t \\right)} \\cos^{3}{\\left(t \\right)}, \\  a^{2} \\varepsilon \\cos^{4}{\\left(t \\right)}\\right]$"
      ],
      "text/plain": [
       "⎡ 4                      3      2               4   ⎤\n",
       "⎣a ⋅varepsilon⋅sin(t)⋅cos (t), a ⋅varepsilon⋅cos (t)⎦"
      ]
     },
     "execution_count": 8,
     "metadata": {},
     "output_type": "execute_result"
    }
   ],
   "source": [
    "# 1-ый порядок\n",
    "eq1rhs = [-eps*((HamH1Jphi/eps).diff(betalst[0]).subs(Subs_Jphi).subs(eps,0)),\n",
    "          eps*((HamH1Jphi/eps).diff(Jlst[0]).subs(Subs_Jphi).subs(eps,0))]\n",
    "\n",
    "eq1lhs = [Jlst[1].diff(t),betalst[1].diff(t)]\n",
    "ics1={Jlst[1].subs(t,0):0,betalst[1].subs(t,0):0}\n",
    "eq1rhs"
   ]
  },
  {
   "cell_type": "code",
   "execution_count": 9,
   "id": "0d0f77db",
   "metadata": {},
   "outputs": [
    {
     "data": {
      "image/png": "[encoded data removed]",
      "text/latex": [
       "$\\displaystyle \\left( \\frac{a^{2}}{2}, \\  \\frac{3 a^{2} t \\varepsilon}{8} + t\\right)$"
      ],
      "text/plain": [
       "⎛ 2     2                 ⎞\n",
       "⎜a   3⋅a ⋅t⋅varepsilon    ⎟\n",
       "⎜──, ───────────────── + t⎟\n",
       "⎝2           8            ⎠"
      ]
     },
     "execution_count": 9,
     "metadata": {},
     "output_type": "execute_result"
    }
   ],
   "source": [
    "eq1avg = [integrate(eq1rhs[i],(t,0,2*pi))/(2*pi) for i in range(2)]\n",
    "Subs_Jphi.update({Jlst[1]:eq1avg[0]*t,betalst[1]:eq1avg[1]*t/eps,\\\n",
    "                  Jlst[2]:0,betalst[2]:0})\n",
    "Jeps.subs(Subs_Jphi),Beta.subs(Subs_Jphi)"
   ]
  },
  {
   "cell_type": "code",
   "execution_count": 10,
   "id": "d9219310",
   "metadata": {},
   "outputs": [
    {
     "data": {
      "image/png": "[encoded data removed]",
      "text/latex": [
       "$\\displaystyle \\left[ a^{4} \\varepsilon \\sin{\\left(t \\right)} \\cos^{3}{\\left(t \\right)}, \\  a^{2} \\varepsilon \\cos^{4}{\\left(t \\right)}\\right]$"
      ],
      "text/plain": [
       "⎡ 4                      3      2               4   ⎤\n",
       "⎣a ⋅varepsilon⋅sin(t)⋅cos (t), a ⋅varepsilon⋅cos (t)⎦"
      ]
     },
     "execution_count": 10,
     "metadata": {},
     "output_type": "execute_result"
    }
   ],
   "source": [
    "# 2-ой порядок\n",
    "eq2rhs = [-eps*((HamH1Jphi/(eps**2)).diff(betalst[1]).subs(Subs_Jphi).subs(eps,0)),\n",
    "          eps*((HamH1Jphi/(eps**2)).diff(Jlst[1]).subs(Subs_Jphi).subs(eps,0))]\n",
    "eq2lhs = [Jlst[2].diff(t),betalst[2].diff(t)]\n",
    "ics2={Jlst[2].subs(t,0):0,betalst[2].subs(t,0):0}\n",
    "eq2rhs"
   ]
  },
  {
   "cell_type": "code",
   "execution_count": 11,
   "id": "1ccc6a6c",
   "metadata": {},
   "outputs": [
    {
     "data": {
      "image/png": "[encoded data removed]",
      "text/latex": [
       "$\\displaystyle \\left( \\frac{a^{2}}{2}, \\  \\frac{3 a^{2} t \\varepsilon^{2}}{8} + \\frac{3 a^{2} t \\varepsilon}{8} + t\\right)$"
      ],
      "text/plain": [
       "⎛ 2     2             2      2                 ⎞\n",
       "⎜a   3⋅a ⋅t⋅varepsilon    3⋅a ⋅t⋅varepsilon    ⎟\n",
       "⎜──, ────────────────── + ───────────────── + t⎟\n",
       "⎝2           8                    8            ⎠"
      ]
     },
     "execution_count": 11,
     "metadata": {},
     "output_type": "execute_result"
    }
   ],
   "source": [
    "eq2avg = [integrate(eq2rhs[i],(t,0,2*pi))/(2*pi) for i in range(2)]\n",
    "Subs_Jphi.update({Jlst[2]:eq2avg[0],\n",
    "                  betalst[2]:eq2avg[1]*t/eps})\n",
    "\n",
    "Jeps.subs(Subs_Jphi),Beta.subs(Subs_Jphi)"
   ]
  },
  {
   "cell_type": "code",
   "execution_count": 12,
   "id": "931fe614",
   "metadata": {},
   "outputs": [
    {
     "data": {
      "image/png": "[encoded data removed]",
      "text/latex": [
       "$\\displaystyle \\left( \\left\\{ \\operatorname{J_{0}}{\\left(t \\right)} : \\frac{a^{2}}{2}, \\  \\operatorname{J_{1}}{\\left(t \\right)} : 0, \\  \\operatorname{J_{2}}{\\left(t \\right)} : 0, \\  \\beta_{0}{\\left(t \\right)} : t, \\  \\beta_{1}{\\left(t \\right)} : \\frac{3 a^{2} t}{8}, \\  \\beta_{2}{\\left(t \\right)} : \\frac{3 a^{2} t}{8}\\right\\}, \\  \\frac{3 a^{2} \\varepsilon^{2}}{8} + \\frac{3 a^{2} \\varepsilon}{8} + 1\\right)$"
      ],
      "text/plain": [
       "⎛⎧        2                                          2              2  ⎫     2\n",
       "⎜⎪       a                                        3⋅a ⋅t         3⋅a ⋅t⎪  3⋅a \n",
       "⎜⎨J₀(t): ──, J₁(t): 0, J₂(t): 0, β₀(t): t, β₁(t): ──────, β₂(t): ──────⎬, ────\n",
       "⎜⎪       2                                          8              8   ⎪      \n",
       "⎝⎩                                                                     ⎭      \n",
       "\n",
       "           2      2               ⎞\n",
       "⋅varepsilon    3⋅a ⋅varepsilon    ⎟\n",
       "──────────── + ─────────────── + 1⎟\n",
       "   8                  8           ⎟\n",
       "                                  ⎠"
      ]
     },
     "execution_count": 12,
     "metadata": {},
     "output_type": "execute_result"
    }
   ],
   "source": [
    "Subs_Jphi, sym.simplify(Beta.subs(Subs_Jphi)/t)"
   ]
  },
  {
   "cell_type": "markdown",
   "id": "26ec4455",
   "metadata": {},
   "source": [
    "$\\alpha = \\alpha_0 + \\varepsilon\\alpha_1+..... \\approx \\alpha_0 + \\varepsilon<\\dot{\\alpha_1}>t + ...= \\alpha_0$\n",
    "\n",
    "\n",
    "$\\beta = \\beta_0 + \\varepsilon\\beta+..... \\approx \\beta_0 + \\varepsilon<\\dot{\\beta_1}>t + ...= \\beta_0 + t<\\dot{\\beta_1}>(\\varepsilon + \\varepsilon^2)$"
   ]
  }
 ],
 "metadata": {
  "kernelspec": {
   "display_name": "Python 3 (ipykernel)",
   "language": "python",
   "name": "python3"
  },
  "language_info": {
   "codemirror_mode": {
    "name": "ipython",
    "version": 3
   },
   "file_extension": ".py",
   "mimetype": "text/x-python",
   "name": "python",
   "nbconvert_exporter": "python",
   "pygments_lexer": "ipython3",
   "version": "3.9.7"
  }
 },
 "nbformat": 4,
 "nbformat_minor": 5
}
